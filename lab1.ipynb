{
  "nbformat": 4,
  "nbformat_minor": 0,
  "metadata": {
    "colab": {
      "name": "lab1.ipynb",
      "provenance": [],
      "authorship_tag": "ABX9TyOrFucq1Qk7HWDyxn5GS8os",
      "include_colab_link": true
    },
    "kernelspec": {
      "name": "python3",
      "display_name": "Python 3"
    },
    "language_info": {
      "name": "python"
    }
  },
  "cells": [
    {
      "cell_type": "markdown",
      "metadata": {
        "id": "view-in-github",
        "colab_type": "text"
      },
      "source": [
        "<a href=\"https://colab.research.google.com/github/gquinche/AlgorithmsUN2021II/blob/main/lab1.ipynb\" target=\"_parent\"><img src=\"https://colab.research.google.com/assets/colab-badge.svg\" alt=\"Open In Colab\"/></a>"
      ]
    },
    {
      "cell_type": "code",
      "metadata": {
        "colab": {
          "base_uri": "https://localhost:8080/"
        },
        "id": "-qS4hyjhPW3I",
        "outputId": "ebfa1389-070f-471b-864a-df7fad3f284a"
      },
      "source": [
        "my_string1 = 'Bienvenido a'\n",
        "my_string2 = \"QuantConnect\"\n",
        "print(my_string1 + ' ' + my_string2) "
      ],
      "execution_count": null,
      "outputs": [
        {
          "output_type": "stream",
          "name": "stdout",
          "text": [
            "Bienvenido a QuantConnect\n"
          ]
        }
      ]
    },
    {
      "cell_type": "code",
      "metadata": {
        "colab": {
          "base_uri": "https://localhost:8080/"
        },
        "id": "uRwElzul6BcN",
        "outputId": "b5588913-698a-465d-ec6b-78d27def002f"
      },
      "source": [
        "my_int = 10\n",
        "print(my_int)"
      ],
      "execution_count": null,
      "outputs": [
        {
          "output_type": "stream",
          "name": "stdout",
          "text": [
            "10\n"
          ]
        }
      ]
    },
    {
      "cell_type": "code",
      "metadata": {
        "colab": {
          "base_uri": "https://localhost:8080/"
        },
        "id": "ZmTzYW5P6CJ0",
        "outputId": "08b5af21-71fc-41a2-8f12-859946290dbd"
      },
      "source": [
        "print(type(my_int))"
      ],
      "execution_count": null,
      "outputs": [
        {
          "output_type": "stream",
          "name": "stdout",
          "text": [
            "<class 'int'>\n"
          ]
        }
      ]
    },
    {
      "cell_type": "code",
      "metadata": {
        "colab": {
          "base_uri": "https://localhost:8080/"
        },
        "id": "snNzObtA6E5k",
        "outputId": "4b50635a-a4b3-4b75-b276-3b64446a3288"
      },
      "source": [
        "my_string = \"100\"\n",
        "print(type(my_string))"
      ],
      "execution_count": null,
      "outputs": [
        {
          "output_type": "stream",
          "name": "stdout",
          "text": [
            "<class 'str'>\n"
          ]
        }
      ]
    },
    {
      "cell_type": "code",
      "metadata": {
        "colab": {
          "base_uri": "https://localhost:8080/"
        },
        "id": "LTus59FE6Iic",
        "outputId": "31de13b0-80ef-4c3a-afbb-8d0cea0d6d60"
      },
      "source": [
        "my_int = int(my_string)\n",
        "print(type(my_int))"
      ],
      "execution_count": null,
      "outputs": [
        {
          "output_type": "stream",
          "name": "stdout",
          "text": [
            "<class 'int'>\n"
          ]
        }
      ]
    },
    {
      "cell_type": "code",
      "metadata": {
        "colab": {
          "base_uri": "https://localhost:8080/"
        },
        "id": "0BcBaF9V6KcC",
        "outputId": "09988922-1dfc-4bee-9cb1-6bc3d70e832a"
      },
      "source": [
        "my_float = 1.\n",
        "print(type(my_float))"
      ],
      "execution_count": null,
      "outputs": [
        {
          "output_type": "stream",
          "name": "stdout",
          "text": [
            "<class 'float'>\n"
          ]
        }
      ]
    },
    {
      "cell_type": "code",
      "metadata": {
        "colab": {
          "base_uri": "https://localhost:8080/"
        },
        "id": "ID8I9GKl6Qhh",
        "outputId": "8fe82c47-94ba-4162-c06a-3ea47f15d285"
      },
      "source": [
        "my_int = 1\n",
        "print(type(my_int))"
      ],
      "execution_count": null,
      "outputs": [
        {
          "output_type": "stream",
          "name": "stdout",
          "text": [
            "<class 'int'>\n"
          ]
        }
      ]
    },
    {
      "cell_type": "code",
      "metadata": {
        "colab": {
          "base_uri": "https://localhost:8080/"
        },
        "id": "h3vwnomR6TB_",
        "outputId": "6419adfc-4d63-46ff-ef20-e0b39687063e"
      },
      "source": [
        "my_string = \"100\"\n",
        "my_float = float(my_string)\n",
        "print(type(my_float))"
      ],
      "execution_count": null,
      "outputs": [
        {
          "output_type": "stream",
          "name": "stdout",
          "text": [
            "<class 'float'>\n"
          ]
        }
      ]
    },
    {
      "cell_type": "code",
      "metadata": {
        "colab": {
          "base_uri": "https://localhost:8080/"
        },
        "id": "B0BbEUzq6Vsp",
        "outputId": "7371b5e2-6068-467c-ed5d-c7d43a114fa2"
      },
      "source": [
        "my_bool = False\n",
        "print(my_bool)\n",
        "print(type(my_bool))"
      ],
      "execution_count": null,
      "outputs": [
        {
          "output_type": "stream",
          "name": "stdout",
          "text": [
            "False\n",
            "<class 'bool'>\n"
          ]
        }
      ]
    },
    {
      "cell_type": "code",
      "metadata": {
        "colab": {
          "base_uri": "https://localhost:8080/"
        },
        "id": "Sy2guiak6ZC6",
        "outputId": "fde20b1f-9642-4ec7-f86b-35765fa28da9"
      },
      "source": [
        "print(\"adición \", 1+1)\n",
        "print(\"resta \", 5-2)\n",
        "print(\"producto \", 2*3)\n",
        "print(\"división\", 10//2)\n",
        "print(\"exponenciación\", 2**3)"
      ],
      "execution_count": null,
      "outputs": [
        {
          "output_type": "stream",
          "name": "stdout",
          "text": [
            "adición  2\n",
            "resta  3\n",
            "producto  6\n",
            "división 5\n",
            "exponenciación 8\n"
          ]
        }
      ]
    },
    {
      "cell_type": "code",
      "metadata": {
        "colab": {
          "base_uri": "https://localhost:8080/"
        },
        "id": "M85Tjaxd6bU_",
        "outputId": "486a55d3-700f-41f6-8dc2-7a9c17cc86d5"
      },
      "source": [
        "my_list = ['Quant', 'Connect', 1,2,3]\n",
        "print(my_list)"
      ],
      "execution_count": null,
      "outputs": [
        {
          "output_type": "stream",
          "name": "stdout",
          "text": [
            "['Quant', 'Connect', 1, 2, 3]\n"
          ]
        }
      ]
    },
    {
      "cell_type": "code",
      "metadata": {
        "colab": {
          "base_uri": "https://localhost:8080/"
        },
        "id": "uwZs1bS46ekO",
        "outputId": "048d7a34-f8e8-452b-fa0e-4558e6ec4b64"
      },
      "source": [
        "my_list = ['Quant', 'Connect', 1,2,3]\n",
        "print(len(my_list))\n",
        "print(my_list[0])\n",
        "print(my_list[len(my_list) - 1])"
      ],
      "execution_count": null,
      "outputs": [
        {
          "output_type": "stream",
          "name": "stdout",
          "text": [
            "5\n",
            "Quant\n",
            "3\n"
          ]
        }
      ]
    },
    {
      "cell_type": "code",
      "metadata": {
        "colab": {
          "base_uri": "https://localhost:8080/"
        },
        "id": "Y0uiM_XM6gKO",
        "outputId": "f33c2042-b3a8-4f86-9a5d-c91e8d461d0d"
      },
      "source": [
        "my_list = ['Quant','Connect',1,2,3]\n",
        "my_list[2] = 'vamos'\n",
        "print(my_list)"
      ],
      "execution_count": null,
      "outputs": [
        {
          "output_type": "stream",
          "name": "stdout",
          "text": [
            "['Quant', 'Connect', 'vamos', 2, 3]\n"
          ]
        }
      ]
    },
    {
      "cell_type": "code",
      "metadata": {
        "colab": {
          "base_uri": "https://localhost:8080/"
        },
        "id": "D6GQvu086oGB",
        "outputId": "4731ec95-1f6d-4f76-fffe-d3cc46feb9bd"
      },
      "source": [
        "my_list = ['Quant','Connect',1,2,3]\n",
        "print(my_list[1:3])"
      ],
      "execution_count": null,
      "outputs": [
        {
          "output_type": "stream",
          "name": "stdout",
          "text": [
            "['Connect', 1]\n"
          ]
        }
      ]
    },
    {
      "cell_type": "code",
      "metadata": {
        "colab": {
          "base_uri": "https://localhost:8080/"
        },
        "id": "BBo1TVt96pkX",
        "outputId": "93a958b4-3b2d-4476-ef6b-c1716521457d"
      },
      "source": [
        "print(my_list[1:])"
      ],
      "execution_count": null,
      "outputs": [
        {
          "output_type": "stream",
          "name": "stdout",
          "text": [
            "['Connect', 1, 2, 3]\n"
          ]
        }
      ]
    },
    {
      "cell_type": "code",
      "metadata": {
        "colab": {
          "base_uri": "https://localhost:8080/"
        },
        "id": "db9MNEjZ6sC_",
        "outputId": "36235355-c4c2-44b6-dcbb-cc233dd13f32"
      },
      "source": [
        "print(my_list[:3])"
      ],
      "execution_count": null,
      "outputs": [
        {
          "output_type": "stream",
          "name": "stdout",
          "text": [
            "['Quant', 'Connect', 1]\n"
          ]
        }
      ]
    },
    {
      "cell_type": "code",
      "metadata": {
        "colab": {
          "base_uri": "https://localhost:8080/"
        },
        "id": "yAP2kexG6wCQ",
        "outputId": "cea593be-7002-4f16-c578-a974e3d4d0de"
      },
      "source": [
        "print(my_list[:3])"
      ],
      "execution_count": null,
      "outputs": [
        {
          "output_type": "stream",
          "name": "stdout",
          "text": [
            "['Quant', 'Connect', 1]\n"
          ]
        }
      ]
    },
    {
      "cell_type": "code",
      "metadata": {
        "colab": {
          "base_uri": "https://localhost:8080/"
        },
        "id": "3qxkSyjY6yFl",
        "outputId": "1fe96ffb-118f-429a-de41-44785c2c829b"
      },
      "source": [
        "my_list = ['Hola', 'Quant']\n",
        "my_list.append('Hola')\n",
        "print(my_list)\n",
        "my_list.remove('Hola')\n",
        "print(my_list)"
      ],
      "execution_count": null,
      "outputs": [
        {
          "output_type": "stream",
          "name": "stdout",
          "text": [
            "['Hola', 'Quant', 'Hola']\n",
            "['Quant', 'Hola']\n"
          ]
        }
      ]
    },
    {
      "cell_type": "code",
      "metadata": {
        "id": "3ZNxwi9M613i"
      },
      "source": [
        "my_tuple = ('Bienvenida','a','QuantConnect')"
      ],
      "execution_count": null,
      "outputs": []
    },
    {
      "cell_type": "code",
      "metadata": {
        "colab": {
          "base_uri": "https://localhost:8080/"
        },
        "id": "IxmzFt4B6_1W",
        "outputId": "57ee5f86-2b62-4aea-f82d-c7040a2c34c7"
      },
      "source": [
        "print(my_tuple[1:])"
      ],
      "execution_count": null,
      "outputs": [
        {
          "output_type": "stream",
          "name": "stdout",
          "text": [
            "('a', 'QuantConnect')\n"
          ]
        }
      ]
    },
    {
      "cell_type": "code",
      "metadata": {
        "colab": {
          "base_uri": "https://localhost:8080/"
        },
        "id": "vbzA1Lam7C24",
        "outputId": "320e3d65-9ac3-4210-bb45-4b853e4a5214"
      },
      "source": [
        "crypto_list = [\"ETH\",\"BTC\",\"DAI\",'BTC','ETH']\n",
        "crypto_set = set(crypto_list)\n",
        "print(crypto_set)"
      ],
      "execution_count": null,
      "outputs": [
        {
          "output_type": "stream",
          "name": "stdout",
          "text": [
            "{'DAI', 'BTC', 'ETH'}\n"
          ]
        }
      ]
    },
    {
      "cell_type": "code",
      "metadata": {
        "id": "Eht1RRUW7TZ-"
      },
      "source": [
        "my_dic = {\"ETH\":\"ethereum\",\"BTC\":\"bitcoin\",\"DAI\":\"unknown\"}"
      ],
      "execution_count": null,
      "outputs": []
    },
    {
      "cell_type": "code",
      "metadata": {
        "colab": {
          "base_uri": "https://localhost:8080/"
        },
        "id": "jSNUUffk7Wsv",
        "outputId": "26c50fb7-adec-46b7-9cd6-163825911771"
      },
      "source": [
        "print(my_dic['DAI'])"
      ],
      "execution_count": null,
      "outputs": [
        {
          "output_type": "stream",
          "name": "stdout",
          "text": [
            "unknown\n"
          ]
        }
      ]
    },
    {
      "cell_type": "code",
      "metadata": {
        "colab": {
          "base_uri": "https://localhost:8080/"
        },
        "id": "XhWJ0ODt7ZNm",
        "outputId": "a6ea3187-8eac-4768-ac3f-684790afffc2"
      },
      "source": [
        "my_dic['DAI'] = 'MakerDAO´s dai'\n",
        "print(my_dic['DAI'])"
      ],
      "execution_count": null,
      "outputs": [
        {
          "output_type": "stream",
          "name": "stdout",
          "text": [
            "MakerDAO´s dai\n"
          ]
        }
      ]
    },
    {
      "cell_type": "code",
      "metadata": {
        "colab": {
          "base_uri": "https://localhost:8080/"
        },
        "id": "P1X8uDZ87awi",
        "outputId": "0d5f5f4b-9715-4b94-e3cb-315a8a11ae7b"
      },
      "source": [
        "print(my_dic.keys())"
      ],
      "execution_count": null,
      "outputs": [
        {
          "output_type": "stream",
          "name": "stdout",
          "text": [
            "dict_keys(['ETH', 'BTC', 'DAI'])\n"
          ]
        }
      ]
    },
    {
      "cell_type": "code",
      "metadata": {
        "colab": {
          "base_uri": "https://localhost:8080/"
        },
        "id": "7sMLJgcc7c7P",
        "outputId": "cf032f23-87fd-4763-f83b-aab0a55adf3f"
      },
      "source": [
        "my_str = 'bienvenido a QuantConnect'\n",
        "print(my_str[10:])"
      ],
      "execution_count": null,
      "outputs": [
        {
          "output_type": "stream",
          "name": "stdout",
          "text": [
            " a QuantConnect\n"
          ]
        }
      ]
    },
    {
      "cell_type": "code",
      "metadata": {
        "colab": {
          "base_uri": "https://localhost:8080/"
        },
        "id": "krgFGR8b7npn",
        "outputId": "57e1441a-95df-49a3-906c-565db0bbf1d7"
      },
      "source": [
        "print(\"contando el número de e en esta frase\".count('e'))\n",
        "print('el primer lugar en que aparece e en esta frace'.find('e'))\n",
        "print('todas las a ahora son e'.replace('a','e'))"
      ],
      "execution_count": null,
      "outputs": [
        {
          "output_type": "stream",
          "name": "stdout",
          "text": [
            "7\n",
            "0\n",
            "todes les e ehore son e\n"
          ]
        }
      ]
    },
    {
      "cell_type": "code",
      "metadata": {
        "colab": {
          "base_uri": "https://localhost:8080/"
        },
        "id": "tOm7vv-57vSD",
        "outputId": "d9be55d3-8fca-49ab-bcd7-d3e76119b5b1"
      },
      "source": [
        "Time = '2021-10-10 10:32:00'\n",
        "splited_list = Time.split(' ')\n",
        "date = splited_list[0]\n",
        "time = splited_list[1]\n",
        "print(date,\"con las:\", time)\n",
        "hour = time.split(':')[0]\n",
        "print(hour)"
      ],
      "execution_count": null,
      "outputs": [
        {
          "output_type": "stream",
          "name": "stdout",
          "text": [
            "2021-10-10 con las: 10:32:00\n",
            "10\n"
          ]
        }
      ]
    },
    {
      "cell_type": "code",
      "metadata": {
        "colab": {
          "base_uri": "https://localhost:8080/"
        },
        "id": "2KEwvs297xiz",
        "outputId": "a0068f66-28bf-4538-99f9-718a6e964cd0"
      },
      "source": [
        "my_time = 'Hour: {}, Minute: {}'.format(10, 32)\n",
        "print(my_time)"
      ],
      "execution_count": null,
      "outputs": [
        {
          "output_type": "stream",
          "name": "stdout",
          "text": [
            "Hour: 10, Minute: 32\n"
          ]
        }
      ]
    },
    {
      "cell_type": "code",
      "metadata": {
        "colab": {
          "base_uri": "https://localhost:8080/"
        },
        "id": "sSgo82JJ79FM",
        "outputId": "ba9e0f93-3fa5-4174-97d9-7faf6735b0b4"
      },
      "source": [
        "print ('pi es %f' % 3.1416000000000000001)\n",
        "print('%s a %s' % ('bienvenido', 'quantconnect'))"
      ],
      "execution_count": null,
      "outputs": [
        {
          "output_type": "stream",
          "name": "stdout",
          "text": [
            "pi es 3.141600\n",
            "bienvenido a quantconnect\n"
          ]
        }
      ]
    },
    {
      "cell_type": "code",
      "metadata": {
        "colab": {
          "base_uri": "https://localhost:8080/"
        },
        "id": "mEwgWjDER91s",
        "outputId": "97f92f24-60bc-4ea6-857c-5ed74179e3f3"
      },
      "source": [
        "print (1 == 0 )  # 1 equals 0\n",
        "print (1 == 1  )  # 1 equals 1\n",
        "print (1 != 0   ) # 1 is not equal to 0\n",
        "print (5 >= 5  )  # 5 is greater than or equal to 5\n",
        "print (5 >= 6 )   # 5 is greater than or equal to 6"
      ],
      "execution_count": null,
      "outputs": [
        {
          "output_type": "stream",
          "name": "stdout",
          "text": [
            "False\n",
            "True\n",
            "True\n",
            "True\n",
            "False\n"
          ]
        }
      ]
    },
    {
      "cell_type": "code",
      "metadata": {
        "colab": {
          "base_uri": "https://localhost:8080/"
        },
        "id": "fYlMXY13R-Tj",
        "outputId": "a3e96906-7bb0-48ae-f0cd-0ea59dc340db"
      },
      "source": [
        "print( (3 > 2 or 1 < 3) and (1!=3 and 4>3) and not ( 3 < 2 or 1 < 3 and (1!=3 and 4>3)) )\n",
        "print (3 > 2 or 1 < 3 and (1!=3 and 4>3) and not ( 3 < 2 or 1 < 3 and (1!=3 and 4>3)) )"
      ],
      "execution_count": null,
      "outputs": [
        {
          "output_type": "stream",
          "name": "stdout",
          "text": [
            "False\n",
            "True\n"
          ]
        }
      ]
    },
    {
      "cell_type": "code",
      "metadata": {
        "id": "ogYVM2JESBva"
      },
      "source": [
        "#if condition1:\n",
        "    # if condition1 is true, execute the code here\n",
        "    # and ignore the rest of this if statement\n",
        "#elif condition2:\n",
        "    # if condition1 is false, and condition2 is true, execute the code here\n",
        "    # and ignore the rest of this if statement\n",
        "#else:\n",
        "    # if none of the above conditions is True, execute the code here\n",
        "   "
      ],
      "execution_count": null,
      "outputs": []
    },
    {
      "cell_type": "code",
      "metadata": {
        "id": "An_W3J7-SDnL"
      },
      "source": [
        ""
      ],
      "execution_count": null,
      "outputs": []
    },
    {
      "cell_type": "code",
      "metadata": {
        "colab": {
          "base_uri": "https://localhost:8080/"
        },
        "id": "g95gvMou8Cy7",
        "outputId": "f9e9c86d-9e11-479b-d825-7fb632816e64"
      },
      "source": [
        "i = 0\n",
        "if i == 0: print('i == 0 is verdadero')"
      ],
      "execution_count": null,
      "outputs": [
        {
          "output_type": "stream",
          "name": "stdout",
          "text": [
            "i == 0 is True\n"
          ]
        }
      ]
    },
    {
      "cell_type": "code",
      "metadata": {
        "colab": {
          "base_uri": "https://localhost:8080/"
        },
        "id": "KO9pBpB4AkUy",
        "outputId": "6f409f93-b84b-429c-c6f4-2ec47fb8682d"
      },
      "source": [
        "p = 1 > 0\n",
        "q = 2 > 3\n",
        "if p and q:\n",
        "    print('p y q son verdad')\n",
        "elif p and not q:\n",
        "     print('q es falso')\n",
        "elif q and not p:\n",
        "    print ('p es falso')\n",
        "else:\n",
        "    print ('Ni p, ni q son verdad')"
      ],
      "execution_count": null,
      "outputs": [
        {
          "output_type": "stream",
          "name": "stdout",
          "text": [
            "q is false\n"
          ]
        }
      ]
    },
    {
      "cell_type": "code",
      "metadata": {
        "colab": {
          "base_uri": "https://localhost:8080/"
        },
        "id": "2CZuPpgaBVir",
        "outputId": "796c3cbe-adad-4494-b517-1ee1bdf43eac"
      },
      "source": [
        "i = 0\n",
        "while i < 5:\n",
        "    print(i)\n",
        "    i += 1"
      ],
      "execution_count": null,
      "outputs": [
        {
          "output_type": "stream",
          "name": "stdout",
          "text": [
            "0\n",
            "1\n",
            "2\n",
            "3\n",
            "4\n"
          ]
        }
      ]
    },
    {
      "cell_type": "code",
      "metadata": {
        "colab": {
          "base_uri": "https://localhost:8080/"
        },
        "id": "ntdb-l80ByIK",
        "outputId": "edf711fb-e300-4563-e44a-74af597bae54"
      },
      "source": [
        "for x in [1,2,3,4,5]: print (x)"
      ],
      "execution_count": null,
      "outputs": [
        {
          "output_type": "stream",
          "name": "stdout",
          "text": [
            "1\n",
            "2\n",
            "3\n",
            "4\n",
            "5\n"
          ]
        }
      ]
    },
    {
      "cell_type": "code",
      "metadata": {
        "colab": {
          "base_uri": "https://localhost:8080/"
        },
        "id": "uQWdNTL4CVKI",
        "outputId": "e37445fb-0349-499b-ec70-361e42ed71aa"
      },
      "source": [
        "stocks = ['AAPL','GOOG','IBM','FB','F','V', 'G', 'GE']\n",
        "bad_performing = ['FB']\n",
        "new_list = []\n",
        "for stock in stocks:\n",
        "    if stock not in bad_performing:\n",
        "        new_list.append(stock)\n",
        "print (new_list)"
      ],
      "execution_count": null,
      "outputs": [
        {
          "output_type": "stream",
          "name": "stdout",
          "text": [
            "['AAPL', 'GOOG', 'IBM', 'F', 'V', 'G', 'GE']\n"
          ]
        }
      ]
    },
    {
      "cell_type": "code",
      "metadata": {
        "colab": {
          "base_uri": "https://localhost:8080/"
        },
        "id": "T83top9TDQBC",
        "outputId": "c35d0d3b-ab3c-424a-affa-6042287ce207"
      },
      "source": [
        "cubes = []\n",
        "for i in [1,2,3,4,5]:\n",
        "    cubes.append(i**3)\n",
        "print (cubes)"
      ],
      "execution_count": null,
      "outputs": [
        {
          "output_type": "stream",
          "name": "stdout",
          "text": [
            "[1, 8, 27, 64, 125]\n"
          ]
        }
      ]
    },
    {
      "cell_type": "code",
      "metadata": {
        "colab": {
          "base_uri": "https://localhost:8080/"
        },
        "id": "3dV5AexfDrrP",
        "outputId": "fb0aef42-3f0f-4a90-9149-22f874a650d4"
      },
      "source": [
        "foo = [1,2,3,4,5]\n",
        "cubes = [x**3 for x in foo]\n",
        "print(cubes)"
      ],
      "execution_count": null,
      "outputs": [
        {
          "output_type": "stream",
          "name": "stdout",
          "text": [
            "[1, 8, 27, 64, 125]\n"
          ]
        }
      ]
    },
    {
      "cell_type": "code",
      "metadata": {
        "id": "bgsFERxERSoj"
      },
      "source": [
        ""
      ],
      "execution_count": null,
      "outputs": []
    },
    {
      "cell_type": "code",
      "metadata": {
        "colab": {
          "base_uri": "https://localhost:8080/"
        },
        "id": "s2hMO7RaDws0",
        "outputId": "fa9e38d9-bcd8-43d1-9ae9-66b45bace380"
      },
      "source": [
        "stocks = ['AAPL','GOOG','IBM','FB','F','V', 'G', 'GE']\n",
        "bad_performing = ['FB']\n",
        "new_list = [x for x in stocks if x not in bad_performing]\n",
        "print (new_list)"
      ],
      "execution_count": null,
      "outputs": [
        {
          "output_type": "stream",
          "name": "stdout",
          "text": [
            "['AAPL', 'GOOG', 'IBM', 'F', 'V', 'G', 'GE']\n"
          ]
        }
      ]
    },
    {
      "cell_type": "code",
      "metadata": {
        "colab": {
          "base_uri": "https://localhost:8080/"
        },
        "id": "CgLtSWK7EEjy",
        "outputId": "f8b31325-3695-498f-f852-137098ea9b9d"
      },
      "source": [
        "print ( [(x, y) for x in [1,2,3] for y in [3,1,4] if x != y])\n",
        "print ([str(x) + ' vs ' + str(y) for x in ['AAPL','GOOG','IBM','FB']\n",
        "                                for y in ['F','V','G','GE'] if x[0] != y[0]]) #lista más reducida"
      ],
      "execution_count": null,
      "outputs": [
        {
          "output_type": "stream",
          "name": "stdout",
          "text": [
            "[(1, 3), (1, 4), (2, 3), (2, 1), (2, 4), (3, 1), (3, 4)]\n",
            "['AAPL vs F', 'AAPL vs V', 'AAPL vs G', 'AAPL vs GE', 'GOOG vs F', 'GOOG vs V', 'IBM vs F', 'IBM vs V', 'IBM vs G', 'IBM vs GE', 'FB vs V', 'FB vs G', 'FB vs GE']\n"
          ]
        }
      ]
    },
    {
      "cell_type": "code",
      "metadata": {
        "colab": {
          "base_uri": "https://localhost:8080/"
        },
        "id": "O4y5z4ioRh78",
        "outputId": "80f09775-0ab7-47c9-9d11-3346c91182f2"
      },
      "source": [
        "def product(x,y):\n",
        "    return x*y\n",
        "print (product(2,3))\n",
        "print (product(5,10))"
      ],
      "execution_count": null,
      "outputs": [
        {
          "output_type": "stream",
          "name": "stdout",
          "text": [
            "6\n",
            "50\n"
          ]
        }
      ]
    },
    {
      "cell_type": "code",
      "metadata": {
        "colab": {
          "base_uri": "https://localhost:8080/"
        },
        "id": "sUWOiC_oUfZC",
        "outputId": "624cb6b7-2c92-4f75-aabd-a66cfe7b5a15"
      },
      "source": [
        "def say_hi():\n",
        "    print (\"Bienvenido a QuantConnect\")\n",
        "say_hi()"
      ],
      "execution_count": null,
      "outputs": [
        {
          "output_type": "stream",
          "name": "stdout",
          "text": [
            "Bienvenido a QuantConnect\n"
          ]
        }
      ]
    },
    {
      "cell_type": "code",
      "metadata": {
        "colab": {
          "base_uri": "https://localhost:8080/"
        },
        "id": "U0tDtVXpUzQf",
        "outputId": "f18da1e0-94e9-45b8-f619-d8a09450ea4b"
      },
      "source": [
        "print ([x for x in range(10)])\n",
        "print ([x for x in range(1, 11)])\n",
        "print ([x for x in range(1, 11, 2)])"
      ],
      "execution_count": null,
      "outputs": [
        {
          "output_type": "stream",
          "name": "stdout",
          "text": [
            "[0, 1, 2, 3, 4, 5, 6, 7, 8, 9]\n",
            "[1, 2, 3, 4, 5, 6, 7, 8, 9, 10]\n",
            "[1, 3, 5, 7, 9]\n"
          ]
        }
      ]
    },
    {
      "cell_type": "code",
      "metadata": {
        "colab": {
          "base_uri": "https://localhost:8080/"
        },
        "id": "6-i1B5qaVNZd",
        "outputId": "516725fd-95aa-4d06-e27f-ac4f0061d334"
      },
      "source": [
        "tickers = ['AAPL', 'GOOGL', 'IBM', 'FB', 'F', 'V', 'G', 'GE']\n",
        "print( \"El número de tickers es {}\".format(len(tickers)))\n",
        "for k in range(len(tickers)):\n",
        "    print (k + 1, tickers[k])"
      ],
      "execution_count": null,
      "outputs": [
        {
          "output_type": "stream",
          "name": "stdout",
          "text": [
            "El número de tickers son 8\n",
            "1 AAPL\n",
            "2 GOOGL\n",
            "3 IBM\n",
            "4 FB\n",
            "5 F\n",
            "6 V\n",
            "7 G\n",
            "8 GE\n"
          ]
        }
      ]
    },
    {
      "cell_type": "code",
      "metadata": {
        "colab": {
          "base_uri": "https://localhost:8080/"
        },
        "id": "x_Hf_KvmE8Ic",
        "outputId": "eab82172-a701-47b6-8f39-4e9a56a2d59a"
      },
      "source": [
        "tickers = ['AAPL','GOOG','IBM','FB','F','V', 'G', 'GE']\n",
        "print(list(map(len,tickers)))"
      ],
      "execution_count": null,
      "outputs": [
        {
          "output_type": "stream",
          "name": "stdout",
          "text": [
            "[4, 4, 3, 2, 1, 1, 1, 2]\n"
          ]
        }
      ]
    },
    {
      "cell_type": "code",
      "metadata": {
        "colab": {
          "base_uri": "https://localhost:8080/"
        },
        "id": "YVZuTfIpQH0E",
        "outputId": "cbe2dbb4-5ce0-4651-f09c-9ac5b818d2b6"
      },
      "source": [
        "list(map(lambda x: x**2,range(10)))"
      ],
      "execution_count": null,
      "outputs": [
        {
          "output_type": "execute_result",
          "data": {
            "text/plain": [
              "[0, 1, 4, 9, 16, 25, 36, 49, 64, 81]"
            ]
          },
          "metadata": {},
          "execution_count": 12
        }
      ]
    },
    {
      "cell_type": "code",
      "metadata": {
        "colab": {
          "base_uri": "https://localhost:8080/"
        },
        "id": "5U784PPRQamq",
        "outputId": "774edf96-fdff-48f0-bb39-6f973e325b54"
      },
      "source": [
        "list(map(lambda x,y:x+y,[\"abc\",\"xyz\"],[\"1\",\"2\",\"sin uso\"]))"
      ],
      "execution_count": null,
      "outputs": [
        {
          "output_type": "execute_result",
          "data": {
            "text/plain": [
              "['abc1', 'xyz2']"
            ]
          },
          "metadata": {},
          "execution_count": 16
        }
      ]
    },
    {
      "cell_type": "code",
      "metadata": {
        "colab": {
          "base_uri": "https://localhost:8080/"
        },
        "id": "TWur2fFcRZtS",
        "outputId": "13979c63-ffbf-4083-fe8a-93710c9fd664"
      },
      "source": [
        "sorted([\"abc\",\"edf\",\"123\"])"
      ],
      "execution_count": null,
      "outputs": [
        {
          "output_type": "execute_result",
          "data": {
            "text/plain": [
              "['123', 'abc', 'edf']"
            ]
          },
          "metadata": {},
          "execution_count": 18
        }
      ]
    },
    {
      "cell_type": "code",
      "metadata": {
        "colab": {
          "base_uri": "https://localhost:8080/"
        },
        "id": "uxVNDF0lV5Q_",
        "outputId": "7e2365ae-52ad-4881-a1a4-d559584acde4"
      },
      "source": [
        "price_list = [('Btc', 59), ('ETH', 3.71), (\"DAI\" , 1)]\n",
        "sorted(price_list, key = lambda x: x[1])"
      ],
      "execution_count": null,
      "outputs": [
        {
          "output_type": "execute_result",
          "data": {
            "text/plain": [
              "[('DAI', 1), ('ETH', 3.71), ('Btc', 59)]"
            ]
          },
          "metadata": {},
          "execution_count": 20
        }
      ]
    },
    {
      "cell_type": "code",
      "metadata": {
        "colab": {
          "base_uri": "https://localhost:8080/"
        },
        "id": "D9mdTcerW394",
        "outputId": "04cbff08-1f37-444c-cbd6-0e4418a5be7b"
      },
      "source": [
        "price_list = [('Btc', 59), ('ETH', 3.71), (\"DAI\" , 1)]\n",
        "sorted(price_list, key = lambda x: x[1],reverse=True)"
      ],
      "execution_count": null,
      "outputs": [
        {
          "output_type": "execute_result",
          "data": {
            "text/plain": [
              "[('Btc', 59), ('ETH', 3.71), ('DAI', 1)]"
            ]
          },
          "metadata": {},
          "execution_count": 21
        }
      ]
    },
    {
      "cell_type": "code",
      "metadata": {
        "colab": {
          "base_uri": "https://localhost:8080/"
        },
        "id": "Y4rHGT53W_n-",
        "outputId": "375519b7-fa31-46c5-8fea-37572abf6e2e"
      },
      "source": [
        "price_list.sort(key = lambda x: x[0],reverse=True)\n",
        "print(price_list)"
      ],
      "execution_count": null,
      "outputs": [
        {
          "output_type": "stream",
          "name": "stdout",
          "text": [
            "[('ETH', 3.71), ('DAI', 1), ('Btc', 59)]\n"
          ]
        }
      ]
    },
    {
      "cell_type": "code",
      "metadata": {
        "id": "X2qhJhC1Xdan"
      },
      "source": [
        "class Stock:\n",
        "    def __init__(self, ticker, open, close, volume):\n",
        "        self.ticker = ticker\n",
        "        self.open = open\n",
        "        self.close = close\n",
        "        self.volume = volume\n",
        "        self.rate_return = float(close)/open - 1\n",
        "\n",
        "    def update(self, open, close):\n",
        "        self.open = open\n",
        "        self.close = close\n",
        "        self.rate_return = float(self.close)/self.open - 1\n",
        "\n",
        "    def print_return(self):\n",
        "        print (self.rate_return)"
      ],
      "execution_count": null,
      "outputs": []
    },
    {
      "cell_type": "code",
      "metadata": {
        "id": "JGQ9jILiXxQb"
      },
      "source": [
        "apple  = Stock('AAPL', 143.69, 144.09, 20109375)\n",
        "google = Stock('GOOGL', 898.7, 911.7, 1561616)\n"
      ],
      "execution_count": null,
      "outputs": []
    },
    {
      "cell_type": "code",
      "metadata": {
        "colab": {
          "base_uri": "https://localhost:8080/",
          "height": 34
        },
        "id": "30Cwt2yxYTG7",
        "outputId": "a21e6e5a-0ac7-4061-c309-2752555ca3cf"
      },
      "source": [
        "apple.ticker"
      ],
      "execution_count": null,
      "outputs": [
        {
          "output_type": "execute_result",
          "data": {
            "application/vnd.google.colaboratory.intrinsic+json": {
              "type": "string"
            },
            "text/plain": [
              "'AAPL'"
            ]
          },
          "metadata": {},
          "execution_count": 30
        }
      ]
    },
    {
      "cell_type": "code",
      "metadata": {
        "colab": {
          "base_uri": "https://localhost:8080/"
        },
        "id": "YbANXAzGYY7C",
        "outputId": "b40c8e4a-3022-4094-9a01-1f46c7adf08b"
      },
      "source": [
        "google.print_return()"
      ],
      "execution_count": null,
      "outputs": [
        {
          "output_type": "stream",
          "name": "stdout",
          "text": [
            "0.014465338822744034\n"
          ]
        }
      ]
    },
    {
      "cell_type": "code",
      "metadata": {
        "colab": {
          "base_uri": "https://localhost:8080/"
        },
        "id": "i7se2an5YdNU",
        "outputId": "4bae545c-319a-4b8c-d695-3fb6d5ab79f1"
      },
      "source": [
        "google.update(912.8,913.4)\n",
        "google.print_return()"
      ],
      "execution_count": null,
      "outputs": [
        {
          "output_type": "stream",
          "name": "stdout",
          "text": [
            "0.0006573181419806673\n"
          ]
        }
      ]
    },
    {
      "cell_type": "code",
      "metadata": {
        "id": "dRDd2152YkU3"
      },
      "source": [
        "apple.ceo = \"Tim cock\""
      ],
      "execution_count": null,
      "outputs": []
    },
    {
      "cell_type": "code",
      "metadata": {
        "colab": {
          "base_uri": "https://localhost:8080/",
          "height": 34
        },
        "id": "cavDVbQeYwfa",
        "outputId": "10e2abd7-3b8b-4d9b-cfec-443e3c70961a"
      },
      "source": [
        "apple.ceo"
      ],
      "execution_count": null,
      "outputs": [
        {
          "output_type": "execute_result",
          "data": {
            "application/vnd.google.colaboratory.intrinsic+json": {
              "type": "string"
            },
            "text/plain": [
              "'Tim cock'"
            ]
          },
          "metadata": {},
          "execution_count": 36
        }
      ]
    },
    {
      "cell_type": "code",
      "metadata": {
        "colab": {
          "base_uri": "https://localhost:8080/"
        },
        "id": "FBYddk6YYyRw",
        "outputId": "fb628ada-1377-4c98-a21c-929ef85fe8ee"
      },
      "source": [
        "dir(apple)"
      ],
      "execution_count": null,
      "outputs": [
        {
          "output_type": "execute_result",
          "data": {
            "text/plain": [
              "['__class__',\n",
              " '__delattr__',\n",
              " '__dict__',\n",
              " '__dir__',\n",
              " '__doc__',\n",
              " '__eq__',\n",
              " '__format__',\n",
              " '__ge__',\n",
              " '__getattribute__',\n",
              " '__gt__',\n",
              " '__hash__',\n",
              " '__init__',\n",
              " '__init_subclass__',\n",
              " '__le__',\n",
              " '__lt__',\n",
              " '__module__',\n",
              " '__ne__',\n",
              " '__new__',\n",
              " '__reduce__',\n",
              " '__reduce_ex__',\n",
              " '__repr__',\n",
              " '__setattr__',\n",
              " '__sizeof__',\n",
              " '__str__',\n",
              " '__subclasshook__',\n",
              " '__weakref__',\n",
              " 'ceo',\n",
              " 'close',\n",
              " 'open',\n",
              " 'print_return',\n",
              " 'rate_return',\n",
              " 'ticker',\n",
              " 'update',\n",
              " 'volume']"
            ]
          },
          "metadata": {},
          "execution_count": 37
        }
      ]
    },
    {
      "cell_type": "code",
      "metadata": {
        "id": "IgrLhd2hY-NM"
      },
      "source": [
        "class Child(Stock):\n",
        "    def __init__(self, name):\n",
        "        self.name = name"
      ],
      "execution_count": null,
      "outputs": []
    },
    {
      "cell_type": "code",
      "metadata": {
        "colab": {
          "base_uri": "https://localhost:8080/"
        },
        "id": "bYIe_4WyZdDz",
        "outputId": "09fed86e-980c-46ac-c747-1452940af575"
      },
      "source": [
        "aa = Child('AA')\n",
        "print(aa.name)"
      ],
      "execution_count": null,
      "outputs": [
        {
          "output_type": "stream",
          "name": "stdout",
          "text": [
            "AA\n"
          ]
        }
      ]
    },
    {
      "cell_type": "code",
      "metadata": {
        "colab": {
          "base_uri": "https://localhost:8080/"
        },
        "id": "aZs31ByxZxyP",
        "outputId": "d5b382ac-cec8-40b0-dc62-1766be9be322"
      },
      "source": [
        "aa.update(100, 102)\n",
        "print( aa.open)"
      ],
      "execution_count": null,
      "outputs": [
        {
          "output_type": "stream",
          "name": "stdout",
          "text": [
            "100\n"
          ]
        }
      ]
    },
    {
      "cell_type": "code",
      "metadata": {
        "colab": {
          "base_uri": "https://localhost:8080/"
        },
        "id": "FKXtpoPMZ-e5",
        "outputId": "6f1ad2bf-3a06-4231-b6c8-24dd13c18db5"
      },
      "source": [
        "print(aa.close)"
      ],
      "execution_count": null,
      "outputs": [
        {
          "output_type": "stream",
          "name": "stdout",
          "text": [
            "102\n"
          ]
        }
      ]
    },
    {
      "cell_type": "code",
      "metadata": {
        "colab": {
          "base_uri": "https://localhost:8080/"
        },
        "id": "heJYezrTaB7R",
        "outputId": "9b73f5c6-31fb-40ab-e9c9-584f77c95ad8"
      },
      "source": [
        "aa.print_return()"
      ],
      "execution_count": null,
      "outputs": [
        {
          "output_type": "stream",
          "name": "stdout",
          "text": [
            "0.020000000000000018\n"
          ]
        }
      ]
    },
    {
      "cell_type": "code",
      "metadata": {
        "id": "X041DLOnaIkc"
      },
      "source": [
        "import numpy as np"
      ],
      "execution_count": null,
      "outputs": []
    },
    {
      "cell_type": "code",
      "metadata": {
        "colab": {
          "base_uri": "https://localhost:8080/"
        },
        "id": "vJZl0vvsaqAz",
        "outputId": "32ace454-8235-4906-ff75-d31078d32ead"
      },
      "source": [
        "price_list = [12,43,6,7,8,1,3]\n",
        "price_array = np.array(price_list)\n",
        "print( price_array, type(price_array))"
      ],
      "execution_count": null,
      "outputs": [
        {
          "output_type": "stream",
          "name": "stdout",
          "text": [
            "[12 43  6  7  8  1  3] <class 'numpy.ndarray'>\n"
          ]
        }
      ]
    },
    {
      "cell_type": "code",
      "metadata": {
        "colab": {
          "base_uri": "https://localhost:8080/"
        },
        "id": "KzjkRi0DbRvl",
        "outputId": "23d13262-cebf-4150-a40d-d5a6944f3d60"
      },
      "source": [
        "Ar = np.array([[1,3], [2,4]])\n",
        "print (Ar, type(Ar))\n"
      ],
      "execution_count": null,
      "outputs": [
        {
          "output_type": "stream",
          "name": "stdout",
          "text": [
            "[[1 3]\n",
            " [2 4]] <class 'numpy.ndarray'>\n"
          ]
        }
      ]
    },
    {
      "cell_type": "code",
      "metadata": {
        "colab": {
          "base_uri": "https://localhost:8080/"
        },
        "id": "v5CLjMrIcH77",
        "outputId": "5de9edaf-b0f5-4f40-c152-80670e145982"
      },
      "source": [
        "print(Ar.shape)"
      ],
      "execution_count": null,
      "outputs": [
        {
          "output_type": "stream",
          "name": "stdout",
          "text": [
            "(2, 2)\n"
          ]
        }
      ]
    },
    {
      "cell_type": "code",
      "metadata": {
        "colab": {
          "base_uri": "https://localhost:8080/"
        },
        "id": "O38nILdycSrG",
        "outputId": "1ee91408-f49b-4bc8-82c9-6fa7b0f2e694"
      },
      "source": [
        "print(Ar[0])\n",
        "print(Ar[1])"
      ],
      "execution_count": null,
      "outputs": [
        {
          "output_type": "stream",
          "name": "stdout",
          "text": [
            "[1 3]\n",
            "[2 4]\n"
          ]
        }
      ]
    },
    {
      "cell_type": "code",
      "metadata": {
        "colab": {
          "base_uri": "https://localhost:8080/"
        },
        "id": "9-YRzxtddAb0",
        "outputId": "b3921b29-cc33-466c-f057-12c727008018"
      },
      "source": [
        "np.log(Ar)"
      ],
      "execution_count": null,
      "outputs": [
        {
          "output_type": "execute_result",
          "data": {
            "text/plain": [
              "array([[0.        , 1.09861229],\n",
              "       [0.69314718, 1.38629436]])"
            ]
          },
          "metadata": {},
          "execution_count": 56
        }
      ]
    },
    {
      "cell_type": "code",
      "metadata": {
        "colab": {
          "base_uri": "https://localhost:8080/"
        },
        "id": "_w5yXaRiv8Pn",
        "outputId": "4d0281b1-a5e5-43f4-98f4-d50d6dae77d8"
      },
      "source": [
        "np.sum(Ar)\n"
      ],
      "execution_count": null,
      "outputs": [
        {
          "output_type": "execute_result",
          "data": {
            "text/plain": [
              "4"
            ]
          },
          "metadata": {},
          "execution_count": 57
        }
      ]
    },
    {
      "cell_type": "code",
      "metadata": {
        "colab": {
          "base_uri": "https://localhost:8080/"
        },
        "id": "GQQXDpENwZCS",
        "outputId": "86413b1c-8ca7-4533-8160-62b372f3e817"
      },
      "source": [
        "np.std(Ar)"
      ],
      "execution_count": null,
      "outputs": [
        {
          "output_type": "execute_result",
          "data": {
            "text/plain": [
              "1.118033988749895"
            ]
          },
          "metadata": {},
          "execution_count": 58
        }
      ]
    },
    {
      "cell_type": "code",
      "metadata": {
        "colab": {
          "base_uri": "https://localhost:8080/"
        },
        "id": "YsQRJaZnwd57",
        "outputId": "56c3560b-30c4-42f2-ccb2-eeae46b59d7b"
      },
      "source": [
        "\n",
        "np.mean(Ar)"
      ],
      "execution_count": null,
      "outputs": [
        {
          "output_type": "execute_result",
          "data": {
            "text/plain": [
              "2.5"
            ]
          },
          "metadata": {},
          "execution_count": 59
        }
      ]
    },
    {
      "cell_type": "code",
      "metadata": {
        "colab": {
          "base_uri": "https://localhost:8080/"
        },
        "id": "WzvnmMRXwfit",
        "outputId": "80dc03b6-73c7-42f8-8404-89285ffac53d"
      },
      "source": [
        "\n",
        "np.max(Ar)"
      ],
      "execution_count": null,
      "outputs": [
        {
          "output_type": "execute_result",
          "data": {
            "text/plain": [
              "4"
            ]
          },
          "metadata": {},
          "execution_count": 60
        }
      ]
    },
    {
      "cell_type": "code",
      "metadata": {
        "id": "PtI8XxYMwgRW"
      },
      "source": [
        "import pandas as pd"
      ],
      "execution_count": null,
      "outputs": []
    },
    {
      "cell_type": "code",
      "metadata": {
        "colab": {
          "base_uri": "https://localhost:8080/"
        },
        "id": "yK8S4HncyAiY",
        "outputId": "d19b37fe-6cdf-40fe-aa76-07ac397251f8"
      },
      "source": [
        "price = [143.73, 145.83, 143.68, 144.02, 143.5, 142.62]\n",
        "s = pd.Series(price)\n",
        "print(s)\n"
      ],
      "execution_count": null,
      "outputs": [
        {
          "output_type": "stream",
          "name": "stdout",
          "text": [
            "0    143.73\n",
            "1    145.83\n",
            "2    143.68\n",
            "3    144.02\n",
            "4    143.50\n",
            "5    142.62\n",
            "dtype: float64\n"
          ]
        }
      ]
    },
    {
      "cell_type": "code",
      "metadata": {
        "colab": {
          "base_uri": "https://localhost:8080/"
        },
        "id": "R5bAGkEX1dY-",
        "outputId": "9275edf1-6d56-48d5-fda7-d1bdf375f333"
      },
      "source": [
        "s.index =[6,5,4,3,2,1]\n",
        "print(s)"
      ],
      "execution_count": null,
      "outputs": [
        {
          "output_type": "stream",
          "name": "stdout",
          "text": [
            "6    143.73\n",
            "5    145.83\n",
            "4    143.68\n",
            "3    144.02\n",
            "2    143.50\n",
            "1    142.62\n",
            "dtype: float64\n"
          ]
        }
      ]
    },
    {
      "cell_type": "code",
      "metadata": {
        "colab": {
          "base_uri": "https://localhost:8080/"
        },
        "id": "GQN2D-vv1nIo",
        "outputId": "2f00250c-a8bf-43c3-af1e-b30e4f7780e9"
      },
      "source": [
        "s = pd.Series(price, index = ['a', 'b', 'c', 'd', 'e', 'f'])\n",
        "print(s)"
      ],
      "execution_count": null,
      "outputs": [
        {
          "output_type": "stream",
          "name": "stdout",
          "text": [
            "a    143.73\n",
            "b    145.83\n",
            "c    143.68\n",
            "d    144.02\n",
            "e    143.50\n",
            "f    142.62\n",
            "dtype: float64\n"
          ]
        }
      ]
    },
    {
      "cell_type": "code",
      "metadata": {
        "colab": {
          "base_uri": "https://localhost:8080/"
        },
        "id": "UvcEzS3-1tZk",
        "outputId": "bb3f445b-0583-4c14-becb-1c388a29c217"
      },
      "source": [
        "print(s[1:])\n",
        "print(s[:-2])"
      ],
      "execution_count": null,
      "outputs": [
        {
          "output_type": "stream",
          "name": "stdout",
          "text": [
            "b    145.83\n",
            "c    143.68\n",
            "d    144.02\n",
            "e    143.50\n",
            "f    142.62\n",
            "dtype: float64\n",
            "a    143.73\n",
            "b    145.83\n",
            "c    143.68\n",
            "d    144.02\n",
            "dtype: float64\n"
          ]
        }
      ]
    },
    {
      "cell_type": "code",
      "metadata": {
        "colab": {
          "base_uri": "https://localhost:8080/"
        },
        "id": "1weDPk241697",
        "outputId": "e5251450-4711-4686-8d3f-8179a878ab0a"
      },
      "source": [
        "print (s[\"a\"])\n",
        "s[\"a\"] = 0\n",
        "print (s[\"a\"])"
      ],
      "execution_count": null,
      "outputs": [
        {
          "output_type": "stream",
          "name": "stdout",
          "text": [
            "143.73\n",
            "0.0\n"
          ]
        }
      ]
    },
    {
      "cell_type": "code",
      "metadata": {
        "colab": {
          "base_uri": "https://localhost:8080/"
        },
        "id": "r3sVbQMX2QcK",
        "outputId": "cce40c74-f04c-49f7-c00e-32b75981a643"
      },
      "source": [
        "s = pd.Series(price, name = 'Apple Prices')\n",
        "print (s)\n",
        "print (s.name)"
      ],
      "execution_count": null,
      "outputs": [
        {
          "output_type": "stream",
          "name": "stdout",
          "text": [
            "0    143.73\n",
            "1    145.83\n",
            "2    143.68\n",
            "3    144.02\n",
            "4    143.50\n",
            "5    142.62\n",
            "Name: Apple Prices, dtype: float64\n",
            "Apple Prices\n"
          ]
        }
      ]
    },
    {
      "cell_type": "code",
      "metadata": {
        "colab": {
          "base_uri": "https://localhost:8080/"
        },
        "id": "dTxGEyBV2Yfu",
        "outputId": "2b1462d7-d8bd-4949-a8b1-b2aa3f48c413"
      },
      "source": [
        "print(s.describe)"
      ],
      "execution_count": null,
      "outputs": [
        {
          "output_type": "stream",
          "name": "stdout",
          "text": [
            "<bound method NDFrame.describe of 0    143.73\n",
            "1    145.83\n",
            "2    143.68\n",
            "3    144.02\n",
            "4    143.50\n",
            "5    142.62\n",
            "Name: Apple Prices, dtype: float64>\n"
          ]
        }
      ]
    },
    {
      "cell_type": "code",
      "metadata": {
        "colab": {
          "base_uri": "https://localhost:8080/"
        },
        "id": "ahSWnCjc2edF",
        "outputId": "67da9e4c-4b05-4c88-c9e1-7b2c928d4013"
      },
      "source": [
        "time_index = pd.date_range('2021-01-01', periods = len(s), freq = 'D')\n",
        "print (time_index)\n"
      ],
      "execution_count": null,
      "outputs": [
        {
          "output_type": "stream",
          "name": "stdout",
          "text": [
            "DatetimeIndex(['2021-01-01', '2021-01-02', '2021-01-03', '2021-01-04',\n",
            "               '2021-01-05', '2021-01-06'],\n",
            "              dtype='datetime64[ns]', freq='D')\n"
          ]
        }
      ]
    },
    {
      "cell_type": "code",
      "metadata": {
        "colab": {
          "base_uri": "https://localhost:8080/"
        },
        "id": "hQYSkRdj4mIQ",
        "outputId": "45596b30-729f-476f-9eae-efa7d0d13551"
      },
      "source": [
        "s.index = time_index\n",
        "print (s)"
      ],
      "execution_count": null,
      "outputs": [
        {
          "output_type": "stream",
          "name": "stdout",
          "text": [
            "2021-01-01    143.73\n",
            "2021-01-02    145.83\n",
            "2021-01-03    143.68\n",
            "2021-01-04    144.02\n",
            "2021-01-05    143.50\n",
            "2021-01-06    142.62\n",
            "Freq: D, Name: Apple Prices, dtype: float64\n"
          ]
        }
      ]
    },
    {
      "cell_type": "code",
      "metadata": {
        "colab": {
          "base_uri": "https://localhost:8080/"
        },
        "id": "EVua6xZG4nR-",
        "outputId": "7af6344e-e520-4ce8-a47a-1d4dc32e5ee8"
      },
      "source": [
        "s.index = [6,5,4,3,2,1]\n",
        "print (s)\n",
        "print (s[1])"
      ],
      "execution_count": null,
      "outputs": [
        {
          "output_type": "stream",
          "name": "stdout",
          "text": [
            "6    143.73\n",
            "5    145.83\n",
            "4    143.68\n",
            "3    144.02\n",
            "2    143.50\n",
            "1    142.62\n",
            "Name: Apple Prices, dtype: float64\n",
            "142.62\n"
          ]
        }
      ]
    },
    {
      "cell_type": "code",
      "metadata": {
        "colab": {
          "base_uri": "https://localhost:8080/"
        },
        "id": "Oxqfxla74-ol",
        "outputId": "dda345db-bace-473a-bdfd-7f085c8e37ab"
      },
      "source": [
        "print (s.iloc[1])"
      ],
      "execution_count": null,
      "outputs": [
        {
          "output_type": "stream",
          "name": "stdout",
          "text": [
            "145.83\n"
          ]
        }
      ]
    },
    {
      "cell_type": "code",
      "metadata": {
        "colab": {
          "base_uri": "https://localhost:8080/"
        },
        "id": "pAQQt61u5HRe",
        "outputId": "012692cb-f9b8-48be-995c-760f6d8af1fa"
      },
      "source": [
        "s.index = time_index\n",
        "print(s['2021-01-03'])\n"
      ],
      "execution_count": null,
      "outputs": [
        {
          "output_type": "stream",
          "name": "stdout",
          "text": [
            "143.68\n"
          ]
        }
      ]
    },
    {
      "cell_type": "code",
      "metadata": {
        "colab": {
          "base_uri": "https://localhost:8080/"
        },
        "id": "q8Avtey25ZTX",
        "outputId": "a9937014-31e3-418b-c3f1-1ccd80de3634"
      },
      "source": [
        "print(s['2021-01-02':'2021-01-05'])"
      ],
      "execution_count": null,
      "outputs": [
        {
          "output_type": "stream",
          "name": "stdout",
          "text": [
            "2021-01-02    145.83\n",
            "2021-01-03    143.68\n",
            "2021-01-04    144.02\n",
            "2021-01-05    143.50\n",
            "Freq: D, Name: Apple Prices, dtype: float64\n"
          ]
        }
      ]
    },
    {
      "cell_type": "code",
      "metadata": {
        "colab": {
          "base_uri": "https://localhost:8080/"
        },
        "id": "d-84IiZ85hWi",
        "outputId": "16d02153-a9c8-47af-85e3-3921170fe4a6"
      },
      "source": [
        "print (s[s < np.mean(s)])\n",
        "print (s[(s > np.mean(s)) & (s < np.mean(s) + 10*np.std(s))])"
      ],
      "execution_count": null,
      "outputs": [
        {
          "output_type": "stream",
          "name": "stdout",
          "text": [
            "2021-01-01    143.73\n",
            "2021-01-03    143.68\n",
            "2021-01-05    143.50\n",
            "2021-01-06    142.62\n",
            "Name: Apple Prices, dtype: float64\n",
            "2021-01-02    145.83\n",
            "2021-01-04    144.02\n",
            "Name: Apple Prices, dtype: float64\n"
          ]
        }
      ]
    },
    {
      "cell_type": "code",
      "metadata": {
        "id": "ecPlzjzp6V5g"
      },
      "source": [
        ""
      ],
      "execution_count": null,
      "outputs": []
    },
    {
      "cell_type": "code",
      "metadata": {
        "id": "90cM9WvR6UIm"
      },
      "source": [
        ""
      ],
      "execution_count": null,
      "outputs": []
    },
    {
      "cell_type": "code",
      "metadata": {
        "id": "EfWpkIh_6Qpk"
      },
      "source": [
        ""
      ],
      "execution_count": null,
      "outputs": []
    },
    {
      "cell_type": "code",
      "metadata": {
        "id": "uvt5dgQt6MYV"
      },
      "source": [
        ""
      ],
      "execution_count": null,
      "outputs": []
    },
    {
      "cell_type": "code",
      "metadata": {
        "id": "iH3gIAZR5qji"
      },
      "source": [
        ""
      ],
      "execution_count": null,
      "outputs": []
    },
    {
      "cell_type": "code",
      "metadata": {
        "id": "-WjrzIKE5nUW"
      },
      "source": [
        ""
      ],
      "execution_count": null,
      "outputs": []
    },
    {
      "cell_type": "code",
      "metadata": {
        "id": "ICHDlsRG5dz3"
      },
      "source": [
        ""
      ],
      "execution_count": null,
      "outputs": []
    },
    {
      "cell_type": "code",
      "metadata": {
        "id": "Jn9dyU_P5Q-h"
      },
      "source": [
        ""
      ],
      "execution_count": null,
      "outputs": []
    },
    {
      "cell_type": "code",
      "metadata": {
        "id": "7eAUT_aq5OpX"
      },
      "source": [
        ""
      ],
      "execution_count": null,
      "outputs": []
    },
    {
      "cell_type": "code",
      "metadata": {
        "id": "kQ9pzmyQ5D1b"
      },
      "source": [
        ""
      ],
      "execution_count": null,
      "outputs": []
    },
    {
      "cell_type": "code",
      "metadata": {
        "id": "WC025mmt4kL3"
      },
      "source": [
        ""
      ],
      "execution_count": null,
      "outputs": []
    },
    {
      "cell_type": "code",
      "metadata": {
        "id": "xC50olZS3Ply"
      },
      "source": [
        ""
      ],
      "execution_count": null,
      "outputs": []
    },
    {
      "cell_type": "code",
      "metadata": {
        "id": "xvGjoMYG2OH-"
      },
      "source": [
        ""
      ],
      "execution_count": null,
      "outputs": []
    },
    {
      "cell_type": "code",
      "metadata": {
        "id": "WoQC6WRA2GhJ"
      },
      "source": [
        ""
      ],
      "execution_count": null,
      "outputs": []
    },
    {
      "cell_type": "code",
      "metadata": {
        "id": "OG-Qzqlx2DTt"
      },
      "source": [
        ""
      ],
      "execution_count": null,
      "outputs": []
    },
    {
      "cell_type": "code",
      "metadata": {
        "id": "hZUfdTyI2CGF"
      },
      "source": [
        ""
      ],
      "execution_count": null,
      "outputs": []
    },
    {
      "cell_type": "code",
      "metadata": {
        "id": "0EqslsH_2AJw"
      },
      "source": [
        ""
      ],
      "execution_count": null,
      "outputs": []
    },
    {
      "cell_type": "code",
      "metadata": {
        "id": "PLwhZiIb1aib"
      },
      "source": [
        ""
      ],
      "execution_count": null,
      "outputs": []
    },
    {
      "cell_type": "code",
      "metadata": {
        "id": "hRRwhYsx1ZDb"
      },
      "source": [
        ""
      ],
      "execution_count": null,
      "outputs": []
    },
    {
      "cell_type": "code",
      "metadata": {
        "id": "lQxC5OIhc4L_"
      },
      "source": [
        ""
      ],
      "execution_count": null,
      "outputs": []
    },
    {
      "cell_type": "code",
      "metadata": {
        "id": "JysdgddocGH1"
      },
      "source": [
        ""
      ],
      "execution_count": null,
      "outputs": []
    },
    {
      "cell_type": "code",
      "metadata": {
        "id": "R3vOSPv1a3w4"
      },
      "source": [
        ""
      ],
      "execution_count": null,
      "outputs": []
    },
    {
      "cell_type": "code",
      "metadata": {
        "id": "lcrPDn8Oa0_M"
      },
      "source": [
        ""
      ],
      "execution_count": null,
      "outputs": []
    },
    {
      "cell_type": "code",
      "metadata": {
        "id": "9mzFivTraFtX"
      },
      "source": [
        ""
      ],
      "execution_count": null,
      "outputs": []
    },
    {
      "cell_type": "code",
      "metadata": {
        "id": "ex5NvQCNZ53Z"
      },
      "source": [
        ""
      ],
      "execution_count": null,
      "outputs": []
    },
    {
      "cell_type": "code",
      "metadata": {
        "id": "QA_yt44rZvkH"
      },
      "source": [
        ""
      ],
      "execution_count": null,
      "outputs": []
    },
    {
      "cell_type": "code",
      "metadata": {
        "id": "A75tlJMjZt0m"
      },
      "source": [
        ""
      ],
      "execution_count": null,
      "outputs": []
    },
    {
      "cell_type": "code",
      "metadata": {
        "id": "FoLomncEYuOL"
      },
      "source": [
        ""
      ],
      "execution_count": null,
      "outputs": []
    },
    {
      "cell_type": "code",
      "metadata": {
        "id": "gpnl5m3vYgr4"
      },
      "source": [
        "goo"
      ],
      "execution_count": null,
      "outputs": []
    },
    {
      "cell_type": "code",
      "metadata": {
        "id": "O3p7P7lpXtxj"
      },
      "source": [
        ""
      ],
      "execution_count": null,
      "outputs": []
    },
    {
      "cell_type": "code",
      "metadata": {
        "id": "BU2Z8EGhXZhc"
      },
      "source": [
        ""
      ],
      "execution_count": null,
      "outputs": []
    },
    {
      "cell_type": "code",
      "metadata": {
        "id": "0VO-sIZZXQ9x"
      },
      "source": [
        ""
      ],
      "execution_count": null,
      "outputs": []
    },
    {
      "cell_type": "code",
      "metadata": {
        "id": "s87t6vNcXJTc"
      },
      "source": [
        ""
      ],
      "execution_count": null,
      "outputs": []
    },
    {
      "cell_type": "code",
      "metadata": {
        "id": "rULbqoDIXHaH"
      },
      "source": [
        ""
      ],
      "execution_count": null,
      "outputs": []
    },
    {
      "cell_type": "code",
      "metadata": {
        "id": "OHNvtsuzWjep"
      },
      "source": [
        ""
      ],
      "execution_count": null,
      "outputs": []
    },
    {
      "cell_type": "code",
      "metadata": {
        "id": "JZJmEoazV1c1"
      },
      "source": [
        ""
      ],
      "execution_count": null,
      "outputs": []
    },
    {
      "cell_type": "code",
      "metadata": {
        "id": "3CEuwXT7Q5nK"
      },
      "source": [
        ""
      ],
      "execution_count": null,
      "outputs": []
    },
    {
      "cell_type": "code",
      "metadata": {
        "id": "wIRChOm6Q1Nt"
      },
      "source": [
        ""
      ],
      "execution_count": null,
      "outputs": []
    },
    {
      "cell_type": "code",
      "metadata": {
        "id": "yKe-DlNrQzBY"
      },
      "source": [
        ""
      ],
      "execution_count": null,
      "outputs": []
    },
    {
      "cell_type": "code",
      "metadata": {
        "id": "M7rCEDMnQEZF"
      },
      "source": [
        ""
      ],
      "execution_count": null,
      "outputs": []
    },
    {
      "cell_type": "code",
      "metadata": {
        "id": "1ZpQkpDBQCvA"
      },
      "source": [
        ""
      ],
      "execution_count": null,
      "outputs": []
    },
    {
      "cell_type": "code",
      "metadata": {
        "id": "gt2vaAq1HvES"
      },
      "source": [
        ""
      ],
      "execution_count": null,
      "outputs": []
    },
    {
      "cell_type": "code",
      "metadata": {
        "id": "xJCT1W3xHV2S"
      },
      "source": [
        ""
      ],
      "execution_count": null,
      "outputs": []
    },
    {
      "cell_type": "code",
      "metadata": {
        "id": "kLVRtFhZHJfM"
      },
      "source": [
        ""
      ],
      "execution_count": null,
      "outputs": []
    },
    {
      "cell_type": "code",
      "metadata": {
        "id": "xBoRi9i5HC92"
      },
      "source": [
        ""
      ],
      "execution_count": null,
      "outputs": []
    },
    {
      "cell_type": "code",
      "metadata": {
        "id": "KzrBuyZvFu97"
      },
      "source": [
        ""
      ],
      "execution_count": null,
      "outputs": []
    },
    {
      "cell_type": "code",
      "metadata": {
        "id": "SjObA_OTFjDR"
      },
      "source": [
        ""
      ],
      "execution_count": null,
      "outputs": []
    },
    {
      "cell_type": "code",
      "metadata": {
        "id": "BR-P5Y7FEugH"
      },
      "source": [
        ""
      ],
      "execution_count": null,
      "outputs": []
    },
    {
      "cell_type": "code",
      "metadata": {
        "id": "l-wWvSd9VCE2"
      },
      "source": [
        ""
      ],
      "execution_count": null,
      "outputs": []
    },
    {
      "cell_type": "code",
      "metadata": {
        "id": "DqC5WghlUvNg"
      },
      "source": [
        ""
      ],
      "execution_count": null,
      "outputs": []
    },
    {
      "cell_type": "code",
      "metadata": {
        "id": "yMsFG_9QUqbd"
      },
      "source": [
        ""
      ],
      "execution_count": null,
      "outputs": []
    },
    {
      "cell_type": "code",
      "metadata": {
        "id": "R3ytikcoUn19"
      },
      "source": [
        ""
      ],
      "execution_count": null,
      "outputs": []
    },
    {
      "cell_type": "code",
      "metadata": {
        "id": "HLV8a2xDUcbf"
      },
      "source": [
        ""
      ],
      "execution_count": null,
      "outputs": []
    },
    {
      "cell_type": "code",
      "metadata": {
        "id": "UrYJx-9JUWwL"
      },
      "source": [
        ""
      ],
      "execution_count": null,
      "outputs": []
    },
    {
      "cell_type": "code",
      "metadata": {
        "id": "PPtEweYXRbjC"
      },
      "source": [
        ""
      ],
      "execution_count": null,
      "outputs": []
    },
    {
      "cell_type": "code",
      "metadata": {
        "id": "am8bubLKF8fc"
      },
      "source": [
        ""
      ],
      "execution_count": null,
      "outputs": []
    },
    {
      "cell_type": "code",
      "metadata": {
        "id": "mcIpJsN7FOa5"
      },
      "source": [
        ""
      ],
      "execution_count": null,
      "outputs": []
    },
    {
      "cell_type": "code",
      "metadata": {
        "id": "ucQXBHFLFIW1"
      },
      "source": [
        ""
      ],
      "execution_count": null,
      "outputs": []
    },
    {
      "cell_type": "code",
      "metadata": {
        "id": "_vla2CAnDqDJ"
      },
      "source": [
        ""
      ],
      "execution_count": null,
      "outputs": []
    },
    {
      "cell_type": "code",
      "metadata": {
        "id": "SOBgfhezBuZm"
      },
      "source": [
        ""
      ],
      "execution_count": null,
      "outputs": []
    },
    {
      "cell_type": "code",
      "metadata": {
        "id": "kN_Y3XteBL7i"
      },
      "source": [
        ""
      ],
      "execution_count": null,
      "outputs": []
    },
    {
      "cell_type": "code",
      "metadata": {
        "id": "aUWxpAJ1A-IY"
      },
      "source": [
        ""
      ],
      "execution_count": null,
      "outputs": []
    },
    {
      "cell_type": "code",
      "metadata": {
        "id": "VxqZFxNyAMaZ"
      },
      "source": [
        ""
      ],
      "execution_count": null,
      "outputs": []
    },
    {
      "cell_type": "code",
      "metadata": {
        "id": "_nb9iZ6O7IkT"
      },
      "source": [
        ""
      ],
      "execution_count": null,
      "outputs": []
    },
    {
      "cell_type": "code",
      "metadata": {
        "id": "5WdCXtHX7ErC"
      },
      "source": [
        ""
      ],
      "execution_count": null,
      "outputs": []
    }
  ]
}