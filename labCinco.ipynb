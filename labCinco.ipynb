{
  "nbformat": 4,
  "nbformat_minor": 0,
  "metadata": {
    "kernelspec": {
      "display_name": "Python 3",
      "language": "python",
      "name": "python3"
    },
    "language_info": {
      "codemirror_mode": {
        "name": "ipython",
        "version": 3
      },
      "file_extension": ".py",
      "mimetype": "text/x-python",
      "name": "python",
      "nbconvert_exporter": "python",
      "pygments_lexer": "ipython3",
      "version": "3.6.4"
    },
    "colab": {
      "name": "labCinco.ipynb",
      "provenance": [],
      "collapsed_sections": [],
      "include_colab_link": true
    }
  },
  "cells": [
    {
      "cell_type": "markdown",
      "metadata": {
        "id": "view-in-github",
        "colab_type": "text"
      },
      "source": [
        "<a href=\"https://colab.research.google.com/github/gquinche/AlgorithmsUN2021II/blob/main/labCinco.ipynb\" target=\"_parent\"><img src=\"https://colab.research.google.com/assets/colab-badge.svg\" alt=\"Open In Colab\"/></a>"
      ]
    },
    {
      "cell_type": "markdown",
      "metadata": {
        "id": "OtjOpw6oJp6z"
      },
      "source": [
        "<div align=\"center\">\n",
        "<img style=\"display: block; margin: auto;\" alt=\"photo\" src=\"https://cdn.quantconnect.com/web/i/icon.png\"> <img style=\"display: block; margin: auto;\" alt=\"photo\" src=\"https://www.marketing-branding.com/wp-content/uploads/2020/07/google-colaboratory-colab-guia-completa.jpg \" width=\"50\" height=\"50\">\n",
        "<img style=\"display: block; margin: auto;\" alt=\"photo\" src=\"https://upload.wikimedia.org/wikipedia/commons/d/da/Yahoo_Finance_Logo_2019.svg\" width=\"50\" height=\"50\">  \n",
        "\n",
        "Quantconnect -> Google Colab with Yahoo Finance data\n",
        "\n",
        "Introduction to Financial Python\n",
        "</div>\n",
        "\n",
        "# 05 Pandas-Resampling and DataFrame\n",
        "\n",
        "# Introduction\n",
        "In the last chapter we had a glimpse of Pandas. In this chapter we will learn about resampling methods and the DataFrame object, which is a powerful tool for financial data analysis.\n",
        "\n",
        "# Fetching Data\n",
        "Here we use the Yahoo Finance to retrieve data.\n"
      ]
    },
    {
      "cell_type": "code",
      "metadata": {
        "colab": {
          "base_uri": "https://localhost:8080/"
        },
        "id": "luU8mZTsHW9x",
        "outputId": "f3e06368-01a0-4f0c-bd68-a70e05b71262"
      },
      "source": [
        "!pip install yfinance"
      ],
      "execution_count": null,
      "outputs": [
        {
          "output_type": "stream",
          "name": "stdout",
          "text": [
            "Collecting yfinance\n",
            "  Downloading yfinance-0.1.64.tar.gz (26 kB)\n",
            "Requirement already satisfied: pandas>=0.24 in /usr/local/lib/python3.7/dist-packages (from yfinance) (1.1.5)\n",
            "Requirement already satisfied: numpy>=1.15 in /usr/local/lib/python3.7/dist-packages (from yfinance) (1.19.5)\n",
            "Requirement already satisfied: requests>=2.20 in /usr/local/lib/python3.7/dist-packages (from yfinance) (2.23.0)\n",
            "Requirement already satisfied: multitasking>=0.0.7 in /usr/local/lib/python3.7/dist-packages (from yfinance) (0.0.9)\n",
            "Collecting lxml>=4.5.1\n",
            "  Downloading lxml-4.6.3-cp37-cp37m-manylinux2014_x86_64.whl (6.3 MB)\n",
            "\u001b[K     |████████████████████████████████| 6.3 MB 21.6 MB/s \n",
            "\u001b[?25hRequirement already satisfied: python-dateutil>=2.7.3 in /usr/local/lib/python3.7/dist-packages (from pandas>=0.24->yfinance) (2.8.2)\n",
            "Requirement already satisfied: pytz>=2017.2 in /usr/local/lib/python3.7/dist-packages (from pandas>=0.24->yfinance) (2018.9)\n",
            "Requirement already satisfied: six>=1.5 in /usr/local/lib/python3.7/dist-packages (from python-dateutil>=2.7.3->pandas>=0.24->yfinance) (1.15.0)\n",
            "Requirement already satisfied: chardet<4,>=3.0.2 in /usr/local/lib/python3.7/dist-packages (from requests>=2.20->yfinance) (3.0.4)\n",
            "Requirement already satisfied: urllib3!=1.25.0,!=1.25.1,<1.26,>=1.21.1 in /usr/local/lib/python3.7/dist-packages (from requests>=2.20->yfinance) (1.24.3)\n",
            "Requirement already satisfied: certifi>=2017.4.17 in /usr/local/lib/python3.7/dist-packages (from requests>=2.20->yfinance) (2021.5.30)\n",
            "Requirement already satisfied: idna<3,>=2.5 in /usr/local/lib/python3.7/dist-packages (from requests>=2.20->yfinance) (2.10)\n",
            "Building wheels for collected packages: yfinance\n",
            "  Building wheel for yfinance (setup.py) ... \u001b[?25l\u001b[?25hdone\n",
            "  Created wheel for yfinance: filename=yfinance-0.1.64-py2.py3-none-any.whl size=24109 sha256=a3c8ea85cf8321fcf76face25a2ceb4b229ec8c6cf42a0d1305d7bbedc220b80\n",
            "  Stored in directory: /root/.cache/pip/wheels/86/fe/9b/a4d3d78796b699e37065e5b6c27b75cff448ddb8b24943c288\n",
            "Successfully built yfinance\n",
            "Installing collected packages: lxml, yfinance\n",
            "  Attempting uninstall: lxml\n",
            "    Found existing installation: lxml 4.2.6\n",
            "    Uninstalling lxml-4.2.6:\n",
            "      Successfully uninstalled lxml-4.2.6\n",
            "Successfully installed lxml-4.6.3 yfinance-0.1.64\n"
          ]
        }
      ]
    },
    {
      "cell_type": "code",
      "metadata": {
        "colab": {
          "base_uri": "https://localhost:8080/",
          "height": 487
        },
        "id": "mWZ-nirTZHrE",
        "outputId": "9e853f57-c2bf-444a-ed58-81b8d1de65c2"
      },
      "source": [
        "import yfinance as yf\n",
        "\n",
        "aapl = yf.Ticker(\"AAPL\")\n",
        "\n",
        "# get stock info\n",
        "print(aapl.info)\n",
        "\n",
        "# get historical market data\n",
        "\n",
        "aapl_table = aapl.history(start=\"2016-01-01\",  end=\"2017-12-31\")\n",
        "aapl_table"
      ],
      "execution_count": null,
      "outputs": [
        {
          "output_type": "stream",
          "name": "stdout",
          "text": [
            "{'zip': '95014', 'sector': 'Technology', 'fullTimeEmployees': 147000, 'longBusinessSummary': 'Apple Inc. designs, manufactures, and markets smartphones, personal computers, tablets, wearables, and accessories worldwide. It also sells various related services. The company offers iPhone, a line of smartphones; Mac, a line of personal computers; iPad, a line of multi-purpose tablets; and wearables, home, and accessories comprising AirPods, Apple TV, Apple Watch, Beats products, HomePod, iPod touch, and other Apple-branded and third-party accessories. It also provides AppleCare support services; cloud services store services; and operates various platforms, including the App Store, that allow customers to discover and download applications and digital content, such as books, music, video, games, and podcasts. In addition, the company offers various services, such as Apple Arcade, a game subscription service; Apple Music, which offers users a curated listening experience with on-demand radio stations; Apple News+, a subscription news and magazine service; Apple TV+, which offers exclusive original content; Apple Card, a co-branded credit card; and Apple Pay, a cashless payment service, as well as licenses its intellectual property. The company serves consumers, and small and mid-sized businesses; and the education, enterprise, and government markets. It sells and delivers third-party applications for its products through the App Store. The company also sells its products through its retail and online stores, and direct sales force; and third-party cellular network carriers, wholesalers, retailers, and resellers. Apple Inc. was founded in 1977 and is headquartered in Cupertino, California.', 'city': 'Cupertino', 'phone': '408-996-1010', 'state': 'CA', 'country': 'United States', 'companyOfficers': [], 'website': 'http://www.apple.com', 'maxAge': 1, 'address1': 'One Apple Park Way', 'industry': 'Consumer Electronics', 'ebitdaMargins': 0.31955, 'profitMargins': 0.25004, 'grossMargins': 0.41005, 'operatingCashflow': 104414003200, 'revenueGrowth': 0.364, 'operatingMargins': 0.28788, 'ebitda': 110934999040, 'targetLowPrice': 132, 'recommendationKey': 'buy', 'grossProfits': 104956000000, 'freeCashflow': 80625876992, 'targetMedianPrice': 170, 'currentPrice': 149.32, 'earningsGrowth': 1, 'currentRatio': 1.062, 'returnOnAssets': 0.19302, 'numberOfAnalystOpinions': 40, 'targetMeanPrice': 168.89, 'debtToEquity': 210.782, 'returnOnEquity': 1.27125, 'targetHighPrice': 190, 'totalCash': 61696000000, 'totalDebt': 135491002368, 'totalRevenue': 347155005440, 'totalCashPerShare': 3.732, 'financialCurrency': 'USD', 'revenuePerShare': 20.61, 'quickRatio': 0.887, 'recommendationMean': 1.8, 'exchange': 'NMS', 'shortName': 'Apple Inc.', 'longName': 'Apple Inc.', 'exchangeTimezoneName': 'America/New_York', 'exchangeTimezoneShortName': 'EDT', 'isEsgPopulated': False, 'gmtOffSetMilliseconds': '-14400000', 'quoteType': 'EQUITY', 'symbol': 'AAPL', 'messageBoardId': 'finmb_24937', 'market': 'us_market', 'annualHoldingsTurnover': None, 'enterpriseToRevenue': 7.29, 'beta3Year': None, 'enterpriseToEbitda': 22.814, '52WeekChange': 0.27478564, 'morningStarRiskRating': None, 'forwardEps': 5.68, 'revenueQuarterlyGrowth': None, 'sharesOutstanding': 16530199552, 'fundInceptionDate': None, 'annualReportExpenseRatio': None, 'totalAssets': None, 'bookValue': 3.882, 'sharesShort': 101107412, 'sharesPercentSharesOut': 0.0061000003, 'fundFamily': None, 'lastFiscalYearEnd': 1601078400, 'heldPercentInstitutions': 0.58645, 'netIncomeToCommon': 86801997824, 'trailingEps': 5.108, 'lastDividendValue': 0.22, 'SandP52WeekChange': 0.3467741, 'priceToBook': 38.46471, 'heldPercentInsiders': 0.00071999995, 'nextFiscalYearEnd': 1664150400, 'yield': None, 'mostRecentQuarter': 1624665600, 'shortRatio': 1.18, 'sharesShortPreviousMonthDate': 1630368000, 'floatShares': 16513139929, 'beta': 1.222222, 'enterpriseValue': 2530838839296, 'priceHint': 2, 'threeYearAverageReturn': None, 'lastSplitDate': 1598832000, 'lastSplitFactor': '4:1', 'legalType': None, 'lastDividendDate': 1628208000, 'morningStarOverallRating': None, 'earningsQuarterlyGrowth': 0.932, 'priceToSalesTrailing12Months': 7.11005, 'dateShortInterest': 1632960000, 'pegRatio': 1.34, 'ytdReturn': None, 'forwardPE': 26.288734, 'lastCapGain': None, 'shortPercentOfFloat': 0.0061000003, 'sharesShortPriorMonth': 96838699, 'impliedSharesOutstanding': None, 'category': None, 'fiveYearAverageReturn': None, 'previousClose': 148.64, 'regularMarketOpen': 149.33, 'twoHundredDayAverage': 139.62619, 'trailingAnnualDividendYield': 0.0056175995, 'payoutRatio': 0.16309999, 'volume24Hr': None, 'regularMarketDayHigh': 150.84, 'navPrice': None, 'averageDailyVolume10Day': 65216733, 'regularMarketPreviousClose': 148.64, 'fiftyDayAverage': 146.00772, 'trailingAnnualDividendRate': 0.835, 'open': 149.33, 'toCurrency': None, 'averageVolume10days': 65216733, 'expireDate': None, 'algorithm': None, 'dividendRate': 0.88, 'exDividendDate': 1628208000, 'circulatingSupply': None, 'startDate': None, 'regularMarketDayLow': 149.0101, 'currency': 'USD', 'trailingPE': 29.232578, 'regularMarketVolume': 60893395, 'lastMarket': None, 'maxSupply': None, 'openInterest': None, 'marketCap': 2468289445888, 'volumeAllCurrencies': None, 'strikePrice': None, 'averageVolume': 75450984, 'dayLow': 149.0101, 'ask': 149.41, 'askSize': 1000, 'volume': 60893395, 'fiftyTwoWeekHigh': 157.26, 'fromCurrency': None, 'fiveYearAvgDividendYield': 1.24, 'fiftyTwoWeekLow': 107.32, 'bid': 149.34, 'tradeable': False, 'dividendYield': 0.0058999998, 'bidSize': 1400, 'dayHigh': 150.84, 'regularMarketPrice': 149.32, 'preMarketPrice': 149.325, 'logo_url': 'https://logo.clearbit.com/apple.com'}\n"
          ]
        },
        {
          "output_type": "execute_result",
          "data": {
            "text/html": [
              "<div>\n",
              "<style scoped>\n",
              "    .dataframe tbody tr th:only-of-type {\n",
              "        vertical-align: middle;\n",
              "    }\n",
              "\n",
              "    .dataframe tbody tr th {\n",
              "        vertical-align: top;\n",
              "    }\n",
              "\n",
              "    .dataframe thead th {\n",
              "        text-align: right;\n",
              "    }\n",
              "</style>\n",
              "<table border=\"1\" class=\"dataframe\">\n",
              "  <thead>\n",
              "    <tr style=\"text-align: right;\">\n",
              "      <th></th>\n",
              "      <th>Open</th>\n",
              "      <th>High</th>\n",
              "      <th>Low</th>\n",
              "      <th>Close</th>\n",
              "      <th>Volume</th>\n",
              "      <th>Dividends</th>\n",
              "      <th>Stock Splits</th>\n",
              "    </tr>\n",
              "    <tr>\n",
              "      <th>Date</th>\n",
              "      <th></th>\n",
              "      <th></th>\n",
              "      <th></th>\n",
              "      <th></th>\n",
              "      <th></th>\n",
              "      <th></th>\n",
              "      <th></th>\n",
              "    </tr>\n",
              "  </thead>\n",
              "  <tbody>\n",
              "    <tr>\n",
              "      <th>2016-01-04</th>\n",
              "      <td>23.655166</td>\n",
              "      <td>24.291443</td>\n",
              "      <td>23.514540</td>\n",
              "      <td>24.286831</td>\n",
              "      <td>270597600</td>\n",
              "      <td>0.0</td>\n",
              "      <td>0</td>\n",
              "    </tr>\n",
              "    <tr>\n",
              "      <th>2016-01-05</th>\n",
              "      <td>24.379045</td>\n",
              "      <td>24.402098</td>\n",
              "      <td>23.609059</td>\n",
              "      <td>23.678219</td>\n",
              "      <td>223164000</td>\n",
              "      <td>0.0</td>\n",
              "      <td>0</td>\n",
              "    </tr>\n",
              "    <tr>\n",
              "      <th>2016-01-06</th>\n",
              "      <td>23.182565</td>\n",
              "      <td>23.599834</td>\n",
              "      <td>23.023498</td>\n",
              "      <td>23.214840</td>\n",
              "      <td>273829600</td>\n",
              "      <td>0.0</td>\n",
              "      <td>0</td>\n",
              "    </tr>\n",
              "    <tr>\n",
              "      <th>2016-01-07</th>\n",
              "      <td>22.749166</td>\n",
              "      <td>23.083441</td>\n",
              "      <td>22.230463</td>\n",
              "      <td>22.235073</td>\n",
              "      <td>324377600</td>\n",
              "      <td>0.0</td>\n",
              "      <td>0</td>\n",
              "    </tr>\n",
              "    <tr>\n",
              "      <th>2016-01-08</th>\n",
              "      <td>22.719191</td>\n",
              "      <td>22.848290</td>\n",
              "      <td>22.306534</td>\n",
              "      <td>22.352640</td>\n",
              "      <td>283192000</td>\n",
              "      <td>0.0</td>\n",
              "      <td>0</td>\n",
              "    </tr>\n",
              "    <tr>\n",
              "      <th>...</th>\n",
              "      <td>...</td>\n",
              "      <td>...</td>\n",
              "      <td>...</td>\n",
              "      <td>...</td>\n",
              "      <td>...</td>\n",
              "      <td>...</td>\n",
              "      <td>...</td>\n",
              "    </tr>\n",
              "    <tr>\n",
              "      <th>2017-12-22</th>\n",
              "      <td>41.827756</td>\n",
              "      <td>42.004953</td>\n",
              "      <td>41.784656</td>\n",
              "      <td>41.906776</td>\n",
              "      <td>65397600</td>\n",
              "      <td>0.0</td>\n",
              "      <td>0</td>\n",
              "    </tr>\n",
              "    <tr>\n",
              "      <th>2017-12-26</th>\n",
              "      <td>40.898675</td>\n",
              "      <td>41.059108</td>\n",
              "      <td>40.630484</td>\n",
              "      <td>40.843601</td>\n",
              "      <td>132742000</td>\n",
              "      <td>0.0</td>\n",
              "      <td>0</td>\n",
              "    </tr>\n",
              "    <tr>\n",
              "      <th>2017-12-27</th>\n",
              "      <td>40.731058</td>\n",
              "      <td>40.893884</td>\n",
              "      <td>40.637671</td>\n",
              "      <td>40.850784</td>\n",
              "      <td>85992800</td>\n",
              "      <td>0.0</td>\n",
              "      <td>0</td>\n",
              "    </tr>\n",
              "    <tr>\n",
              "      <th>2017-12-28</th>\n",
              "      <td>40.946568</td>\n",
              "      <td>41.150105</td>\n",
              "      <td>40.822051</td>\n",
              "      <td>40.965725</td>\n",
              "      <td>65920800</td>\n",
              "      <td>0.0</td>\n",
              "      <td>0</td>\n",
              "    </tr>\n",
              "    <tr>\n",
              "      <th>2017-12-29</th>\n",
              "      <td>40.831621</td>\n",
              "      <td>40.848381</td>\n",
              "      <td>40.520331</td>\n",
              "      <td>40.522724</td>\n",
              "      <td>103999600</td>\n",
              "      <td>0.0</td>\n",
              "      <td>0</td>\n",
              "    </tr>\n",
              "  </tbody>\n",
              "</table>\n",
              "<p>503 rows × 7 columns</p>\n",
              "</div>"
            ],
            "text/plain": [
              "                 Open       High        Low  ...     Volume  Dividends  Stock Splits\n",
              "Date                                         ...                                    \n",
              "2016-01-04  23.655166  24.291443  23.514540  ...  270597600        0.0             0\n",
              "2016-01-05  24.379045  24.402098  23.609059  ...  223164000        0.0             0\n",
              "2016-01-06  23.182565  23.599834  23.023498  ...  273829600        0.0             0\n",
              "2016-01-07  22.749166  23.083441  22.230463  ...  324377600        0.0             0\n",
              "2016-01-08  22.719191  22.848290  22.306534  ...  283192000        0.0             0\n",
              "...               ...        ...        ...  ...        ...        ...           ...\n",
              "2017-12-22  41.827756  42.004953  41.784656  ...   65397600        0.0             0\n",
              "2017-12-26  40.898675  41.059108  40.630484  ...  132742000        0.0             0\n",
              "2017-12-27  40.731058  40.893884  40.637671  ...   85992800        0.0             0\n",
              "2017-12-28  40.946568  41.150105  40.822051  ...   65920800        0.0             0\n",
              "2017-12-29  40.831621  40.848381  40.520331  ...  103999600        0.0             0\n",
              "\n",
              "[503 rows x 7 columns]"
            ]
          },
          "metadata": {},
          "execution_count": 3
        }
      ]
    },
    {
      "cell_type": "code",
      "metadata": {
        "colab": {
          "base_uri": "https://localhost:8080/",
          "height": 487
        },
        "id": "Gs-K1KC1ZNnW",
        "outputId": "18cbabc5-6328-4789-f8f8-0beaa4df5c3d"
      },
      "source": [
        "import yfinance as yf\n",
        "import pandas as pd\n",
        "import numpy as np\n",
        "\n",
        "amd = yf.Ticker(\"AMD\")\n",
        "\n",
        "# get stock info\n",
        "print(amd.info)\n",
        "\n",
        "# get historical market data\n",
        "amd_table = amd.history(start=\"2021-01-01\",  end=\"2021-09-01\")\n",
        "amd_table\n"
      ],
      "execution_count": null,
      "outputs": [
        {
          "output_type": "stream",
          "name": "stdout",
          "text": [
            "{'zip': '95054', 'sector': 'Technology', 'fullTimeEmployees': 12600, 'longBusinessSummary': 'Advanced Micro Devices, Inc. operates as a semiconductor company worldwide. The company operates in two segments, Computing and Graphics; and Enterprise, Embedded and Semi-Custom. Its products include x86 microprocessors as an accelerated processing unit, chipsets, discrete and integrated graphics processing units (GPUs), data center and professional GPUs, and development services; and server and embedded processors, and semi-custom System-on-Chip (SoC) products, development services, and technology for game consoles. The company provides x86 microprocessors for desktop PCs under the AMD Ryzen, AMD Ryzen PRO, Ryzen, Threadripper, AMD A-Series, AMD FX, AMD Athlon, AMD Athlon PRO, and AMD Pro A-Series processors brands; microprocessors for notebook and 2-in-1s under the AMD Ryzen, AMD A-Series, AMD Athlon, AMD Ryzen PRO, AMD Athlon PRO, and AMD Pro A-Series processors brands; microprocessors for servers under the AMD EPYC and AMD Opteron brands; and chipsets under the AMD trademark. It also offers discrete GPUs for desktop and notebook PCs under the AMD Radeon graphics and AMD Embedded Radeon brands; professional graphics products under the AMD Radeon Pro and AMD FirePro graphics brands; and Radeon Instinct and AMD Instinct accelerators for servers. In addition, the company provides embedded processor solutions under the AMD Opteron, AMD Athlon, AMD Geode, AMD Ryzen, AMD EPYC, AMD R-Series, and G-Series processors brands; and customer-specific solutions based on AMD CPU, GPU, and multi-media technologies, as well as semi-custom SoC products. It serves original equipment manufacturers, public cloud service providers, original design manufacturers, system integrators, independent distributors, online retailers, and add-in-board manufacturers through its direct sales force, independent distributors, and sales representatives. Advanced Micro Devices, Inc. was founded in 1969 and is headquartered in Santa Clara, California.', 'city': 'Santa Clara', 'phone': '408 749 4000', 'state': 'CA', 'country': 'United States', 'companyOfficers': [], 'website': 'http://www.amd.com', 'maxAge': 1, 'address1': '2485 Augustine Drive', 'industry': 'Semiconductors', 'ebitdaMargins': 0.21746999, 'profitMargins': 0.25757, 'grossMargins': 0.45712003, 'operatingCashflow': 2743000064, 'revenueGrowth': 0.993, 'operatingMargins': 0.19018, 'ebitda': 2900999936, 'targetLowPrice': 90, 'recommendationKey': 'buy', 'grossProfits': 4347000000, 'freeCashflow': 1889250048, 'targetMedianPrice': 117.5, 'currentPrice': 122.93, 'earningsGrowth': 3.448, 'currentRatio': 2.703, 'returnOnAssets': 0.18358, 'numberOfAnalystOpinions': 34, 'targetMeanPrice': 117.9, 'debtToEquity': 9.299, 'returnOnEquity': 0.66268, 'targetHighPrice': 169.7, 'totalCash': 3792999936, 'totalDebt': 657000000, 'totalRevenue': 13340000256, 'totalCashPerShare': 3.127, 'financialCurrency': 'USD', 'revenuePerShare': 11.071, 'quickRatio': 2.012, 'recommendationMean': 2.3, 'exchange': 'NMS', 'shortName': 'Advanced Micro Devices, Inc.', 'longName': 'Advanced Micro Devices, Inc.', 'exchangeTimezoneName': 'America/New_York', 'exchangeTimezoneShortName': 'EDT', 'isEsgPopulated': False, 'gmtOffSetMilliseconds': '-14400000', 'quoteType': 'EQUITY', 'symbol': 'AMD', 'messageBoardId': 'finmb_168864', 'market': 'us_market', 'annualHoldingsTurnover': None, 'enterpriseToRevenue': 10.891, 'beta3Year': None, 'enterpriseToEbitda': 50.08, '52WeekChange': 0.5512171, 'morningStarRiskRating': None, 'forwardEps': 3.07, 'revenueQuarterlyGrowth': None, 'sharesOutstanding': 1212969984, 'fundInceptionDate': None, 'annualReportExpenseRatio': None, 'totalAssets': None, 'bookValue': 5.824, 'sharesShort': 62455085, 'sharesPercentSharesOut': 0.0515, 'fundFamily': None, 'lastFiscalYearEnd': 1608940800, 'heldPercentInstitutions': 0.69706, 'netIncomeToCommon': 3436000000, 'trailingEps': 2.837, 'lastDividendValue': None, 'SandP52WeekChange': 0.3467741, 'priceToBook': 21.107487, 'heldPercentInsiders': 0.00427, 'nextFiscalYearEnd': 1672012800, 'yield': None, 'mostRecentQuarter': 1624665600, 'shortRatio': 1.48, 'sharesShortPreviousMonthDate': 1630368000, 'floatShares': 1205808787, 'beta': 1.997883, 'enterpriseValue': 145282433024, 'priceHint': 2, 'threeYearAverageReturn': None, 'lastSplitDate': 966902400, 'lastSplitFactor': '2:1', 'legalType': None, 'lastDividendDate': None, 'morningStarOverallRating': None, 'earningsQuarterlyGrowth': 3.522, 'priceToSalesTrailing12Months': 11.177691, 'dateShortInterest': 1632960000, 'pegRatio': 1.51, 'ytdReturn': None, 'forwardPE': 40.042347, 'lastCapGain': None, 'shortPercentOfFloat': 0.051799998, 'sharesShortPriorMonth': 64854437, 'impliedSharesOutstanding': None, 'category': None, 'fiveYearAverageReturn': None, 'previousClose': 122.36, 'regularMarketOpen': 122.99, 'twoHundredDayAverage': 94.22676, 'trailingAnnualDividendYield': None, 'payoutRatio': 0, 'volume24Hr': None, 'regularMarketDayHigh': 127.2, 'navPrice': None, 'averageDailyVolume10Day': 40467416, 'regularMarketPreviousClose': 122.36, 'fiftyDayAverage': 107.426575, 'trailingAnnualDividendRate': None, 'open': 122.99, 'toCurrency': None, 'averageVolume10days': 40467416, 'expireDate': None, 'algorithm': None, 'dividendRate': None, 'exDividendDate': 798940800, 'circulatingSupply': None, 'startDate': None, 'regularMarketDayLow': 122.5782, 'currency': 'USD', 'trailingPE': 43.330986, 'regularMarketVolume': 58493742, 'lastMarket': None, 'maxSupply': None, 'openInterest': None, 'marketCap': 149110407168, 'volumeAllCurrencies': None, 'strikePrice': None, 'averageVolume': 62512527, 'dayLow': 122.5782, 'ask': 122.14, 'askSize': 1000, 'volume': 58493742, 'fiftyTwoWeekHigh': 127.2, 'fromCurrency': None, 'fiveYearAvgDividendYield': None, 'fiftyTwoWeekLow': 72.5, 'bid': 122.06, 'tradeable': False, 'dividendYield': None, 'bidSize': 2200, 'dayHigh': 127.2, 'regularMarketPrice': 122.93, 'preMarketPrice': 122.87, 'logo_url': 'https://logo.clearbit.com/amd.com'}\n"
          ]
        },
        {
          "output_type": "execute_result",
          "data": {
            "text/html": [
              "<div>\n",
              "<style scoped>\n",
              "    .dataframe tbody tr th:only-of-type {\n",
              "        vertical-align: middle;\n",
              "    }\n",
              "\n",
              "    .dataframe tbody tr th {\n",
              "        vertical-align: top;\n",
              "    }\n",
              "\n",
              "    .dataframe thead th {\n",
              "        text-align: right;\n",
              "    }\n",
              "</style>\n",
              "<table border=\"1\" class=\"dataframe\">\n",
              "  <thead>\n",
              "    <tr style=\"text-align: right;\">\n",
              "      <th></th>\n",
              "      <th>Open</th>\n",
              "      <th>High</th>\n",
              "      <th>Low</th>\n",
              "      <th>Close</th>\n",
              "      <th>Volume</th>\n",
              "      <th>Dividends</th>\n",
              "      <th>Stock Splits</th>\n",
              "    </tr>\n",
              "    <tr>\n",
              "      <th>Date</th>\n",
              "      <th></th>\n",
              "      <th></th>\n",
              "      <th></th>\n",
              "      <th></th>\n",
              "      <th></th>\n",
              "      <th></th>\n",
              "      <th></th>\n",
              "    </tr>\n",
              "  </thead>\n",
              "  <tbody>\n",
              "    <tr>\n",
              "      <th>2021-01-04</th>\n",
              "      <td>92.110001</td>\n",
              "      <td>96.059998</td>\n",
              "      <td>90.919998</td>\n",
              "      <td>92.300003</td>\n",
              "      <td>51802600</td>\n",
              "      <td>0</td>\n",
              "      <td>0</td>\n",
              "    </tr>\n",
              "    <tr>\n",
              "      <th>2021-01-05</th>\n",
              "      <td>92.099998</td>\n",
              "      <td>93.209999</td>\n",
              "      <td>91.410004</td>\n",
              "      <td>92.769997</td>\n",
              "      <td>34208000</td>\n",
              "      <td>0</td>\n",
              "      <td>0</td>\n",
              "    </tr>\n",
              "    <tr>\n",
              "      <th>2021-01-06</th>\n",
              "      <td>91.620003</td>\n",
              "      <td>92.279999</td>\n",
              "      <td>89.459999</td>\n",
              "      <td>90.330002</td>\n",
              "      <td>51911700</td>\n",
              "      <td>0</td>\n",
              "      <td>0</td>\n",
              "    </tr>\n",
              "    <tr>\n",
              "      <th>2021-01-07</th>\n",
              "      <td>91.330002</td>\n",
              "      <td>95.510002</td>\n",
              "      <td>91.199997</td>\n",
              "      <td>95.160004</td>\n",
              "      <td>42897200</td>\n",
              "      <td>0</td>\n",
              "      <td>0</td>\n",
              "    </tr>\n",
              "    <tr>\n",
              "      <th>2021-01-08</th>\n",
              "      <td>95.980003</td>\n",
              "      <td>96.400002</td>\n",
              "      <td>93.269997</td>\n",
              "      <td>94.580002</td>\n",
              "      <td>39816400</td>\n",
              "      <td>0</td>\n",
              "      <td>0</td>\n",
              "    </tr>\n",
              "    <tr>\n",
              "      <th>...</th>\n",
              "      <td>...</td>\n",
              "      <td>...</td>\n",
              "      <td>...</td>\n",
              "      <td>...</td>\n",
              "      <td>...</td>\n",
              "      <td>...</td>\n",
              "      <td>...</td>\n",
              "    </tr>\n",
              "    <tr>\n",
              "      <th>2021-08-25</th>\n",
              "      <td>108.129997</td>\n",
              "      <td>109.910004</td>\n",
              "      <td>107.449997</td>\n",
              "      <td>108.300003</td>\n",
              "      <td>45485500</td>\n",
              "      <td>0</td>\n",
              "      <td>0</td>\n",
              "    </tr>\n",
              "    <tr>\n",
              "      <th>2021-08-26</th>\n",
              "      <td>108.570000</td>\n",
              "      <td>109.230003</td>\n",
              "      <td>106.839996</td>\n",
              "      <td>107.269997</td>\n",
              "      <td>51442500</td>\n",
              "      <td>0</td>\n",
              "      <td>0</td>\n",
              "    </tr>\n",
              "    <tr>\n",
              "      <th>2021-08-27</th>\n",
              "      <td>108.010002</td>\n",
              "      <td>111.779999</td>\n",
              "      <td>107.800003</td>\n",
              "      <td>111.400002</td>\n",
              "      <td>60970800</td>\n",
              "      <td>0</td>\n",
              "      <td>0</td>\n",
              "    </tr>\n",
              "    <tr>\n",
              "      <th>2021-08-30</th>\n",
              "      <td>112.610001</td>\n",
              "      <td>114.489998</td>\n",
              "      <td>111.260002</td>\n",
              "      <td>111.320000</td>\n",
              "      <td>56130500</td>\n",
              "      <td>0</td>\n",
              "      <td>0</td>\n",
              "    </tr>\n",
              "    <tr>\n",
              "      <th>2021-08-31</th>\n",
              "      <td>111.260002</td>\n",
              "      <td>111.260002</td>\n",
              "      <td>109.029999</td>\n",
              "      <td>110.720001</td>\n",
              "      <td>49339000</td>\n",
              "      <td>0</td>\n",
              "      <td>0</td>\n",
              "    </tr>\n",
              "  </tbody>\n",
              "</table>\n",
              "<p>167 rows × 7 columns</p>\n",
              "</div>"
            ],
            "text/plain": [
              "                  Open        High  ...  Dividends  Stock Splits\n",
              "Date                                ...                         \n",
              "2021-01-04   92.110001   96.059998  ...          0             0\n",
              "2021-01-05   92.099998   93.209999  ...          0             0\n",
              "2021-01-06   91.620003   92.279999  ...          0             0\n",
              "2021-01-07   91.330002   95.510002  ...          0             0\n",
              "2021-01-08   95.980003   96.400002  ...          0             0\n",
              "...                ...         ...  ...        ...           ...\n",
              "2021-08-25  108.129997  109.910004  ...          0             0\n",
              "2021-08-26  108.570000  109.230003  ...          0             0\n",
              "2021-08-27  108.010002  111.779999  ...          0             0\n",
              "2021-08-30  112.610001  114.489998  ...          0             0\n",
              "2021-08-31  111.260002  111.260002  ...          0             0\n",
              "\n",
              "[167 rows x 7 columns]"
            ]
          },
          "metadata": {},
          "execution_count": 4
        }
      ]
    },
    {
      "cell_type": "markdown",
      "metadata": {
        "id": "NkFztSYhJyVA"
      },
      "source": [
        "We will create a Series named \"aapl\" whose values are Apple's daily closing prices, which are of course indexed by dates:"
      ]
    },
    {
      "cell_type": "code",
      "metadata": {
        "id": "QDJbOpCeHW91"
      },
      "source": [
        "aapl = aapl_table['Close']['2017']"
      ],
      "execution_count": null,
      "outputs": []
    },
    {
      "cell_type": "code",
      "metadata": {
        "id": "AriSSi1ifSu_"
      },
      "source": [
        "amd = amd_table['Open']['2021']"
      ],
      "execution_count": null,
      "outputs": []
    },
    {
      "cell_type": "code",
      "metadata": {
        "colab": {
          "base_uri": "https://localhost:8080/"
        },
        "id": "SXfgCQJOHW91",
        "outputId": "cf83f027-4a1a-4999-e602-cd999b3c83db"
      },
      "source": [
        "print(aapl)"
      ],
      "execution_count": null,
      "outputs": [
        {
          "output_type": "stream",
          "name": "stdout",
          "text": [
            "Date\n",
            "2017-01-03    27.372364\n",
            "2017-01-04    27.341724\n",
            "2017-01-05    27.480762\n",
            "2017-01-06    27.787132\n",
            "2017-01-09    28.041647\n",
            "                ...    \n",
            "2017-12-22    41.906776\n",
            "2017-12-26    40.843601\n",
            "2017-12-27    40.850784\n",
            "2017-12-28    40.965725\n",
            "2017-12-29    40.522724\n",
            "Name: Close, Length: 251, dtype: float64\n"
          ]
        }
      ]
    },
    {
      "cell_type": "code",
      "metadata": {
        "colab": {
          "base_uri": "https://localhost:8080/"
        },
        "id": "31esAPRQfr2y",
        "outputId": "d5e6353f-b244-47e9-a43d-8c7ee40b77d9"
      },
      "source": [
        "print(amd)"
      ],
      "execution_count": null,
      "outputs": [
        {
          "output_type": "stream",
          "name": "stdout",
          "text": [
            "Date\n",
            "2021-01-04     92.110001\n",
            "2021-01-05     92.099998\n",
            "2021-01-06     91.620003\n",
            "2021-01-07     91.330002\n",
            "2021-01-08     95.980003\n",
            "                 ...    \n",
            "2021-08-25    108.129997\n",
            "2021-08-26    108.570000\n",
            "2021-08-27    108.010002\n",
            "2021-08-30    112.610001\n",
            "2021-08-31    111.260002\n",
            "Name: Open, Length: 167, dtype: float64\n"
          ]
        }
      ]
    },
    {
      "cell_type": "markdown",
      "metadata": {
        "id": "waUEgBhzKEcA"
      },
      "source": [
        "Recall that we can fetch a specific data point using series['yyyy-mm-dd']. We can also fetch the data in a specific month using series['yyyy-mm']."
      ]
    },
    {
      "cell_type": "code",
      "metadata": {
        "colab": {
          "base_uri": "https://localhost:8080/"
        },
        "id": "2gS50G0zHW92",
        "outputId": "22372dd1-585f-459d-bf79-0fa20390f36e"
      },
      "source": [
        "print(aapl['2017-3'])"
      ],
      "execution_count": null,
      "outputs": [
        {
          "output_type": "stream",
          "name": "stdout",
          "text": [
            "Date\n",
            "2017-03-01    33.086288\n",
            "2017-03-02    32.889832\n",
            "2017-03-03    33.083920\n",
            "2017-03-06    32.979774\n",
            "2017-03-07    33.022381\n",
            "2017-03-08    32.899307\n",
            "2017-03-09    32.823563\n",
            "2017-03-10    32.932442\n",
            "2017-03-13    32.946644\n",
            "2017-03-14    32.896938\n",
            "2017-03-15    33.244862\n",
            "2017-03-16    33.299297\n",
            "2017-03-17    33.133621\n",
            "2017-03-20    33.481552\n",
            "2017-03-21    33.098114\n",
            "2017-03-22    33.472084\n",
            "2017-03-23    33.353741\n",
            "2017-03-24    33.287468\n",
            "2017-03-27    33.344276\n",
            "2017-03-28    34.035393\n",
            "2017-03-29    34.111137\n",
            "2017-03-30    34.066162\n",
            "2017-03-31    34.002262\n",
            "Name: Close, dtype: float64\n"
          ]
        }
      ]
    },
    {
      "cell_type": "code",
      "metadata": {
        "colab": {
          "base_uri": "https://localhost:8080/"
        },
        "id": "JEmKMAhdnaxu",
        "outputId": "3c25f1a9-66aa-4ea3-ebfa-82e493dab030"
      },
      "source": [
        "print(amd['2021-7'])\n"
      ],
      "execution_count": null,
      "outputs": [
        {
          "output_type": "stream",
          "name": "stdout",
          "text": [
            "Date\n",
            "2021-07-01     94.040001\n",
            "2021-07-02     93.279999\n",
            "2021-07-06     94.879997\n",
            "2021-07-07     95.019997\n",
            "2021-07-08     87.860001\n",
            "2021-07-09     90.040001\n",
            "2021-07-12     91.220001\n",
            "2021-07-13     90.480003\n",
            "2021-07-14     90.760002\n",
            "2021-07-15     89.779999\n",
            "2021-07-16     87.320000\n",
            "2021-07-19     84.989998\n",
            "2021-07-20     87.089996\n",
            "2021-07-21     87.250000\n",
            "2021-07-22     89.400002\n",
            "2021-07-23     91.349998\n",
            "2021-07-26     92.010002\n",
            "2021-07-27     92.940002\n",
            "2021-07-28     93.440002\n",
            "2021-07-29     96.580002\n",
            "2021-07-30    101.599998\n",
            "Name: Open, dtype: float64\n"
          ]
        }
      ]
    },
    {
      "cell_type": "code",
      "metadata": {
        "colab": {
          "base_uri": "https://localhost:8080/"
        },
        "id": "vpvxGwXtHW92",
        "outputId": "5b05124a-66f7-41e8-b956-85741174a16d"
      },
      "source": [
        "aapl['2017-2':'2017-4']"
      ],
      "execution_count": null,
      "outputs": [
        {
          "output_type": "execute_result",
          "data": {
            "text/plain": [
              "Date\n",
              "2017-02-01    30.341722\n",
              "2017-02-02    30.289881\n",
              "2017-02-03    30.419497\n",
              "2017-02-06    30.704643\n",
              "2017-02-07    30.996866\n",
              "                ...    \n",
              "2017-04-24    33.997528\n",
              "2017-04-25    34.208172\n",
              "2017-04-26    34.006989\n",
              "2017-04-27    34.033020\n",
              "2017-04-28    33.999886\n",
              "Name: Close, Length: 61, dtype: float64"
            ]
          },
          "metadata": {},
          "execution_count": 11
        }
      ]
    },
    {
      "cell_type": "code",
      "metadata": {
        "colab": {
          "base_uri": "https://localhost:8080/"
        },
        "id": "dJY-9WTapeos",
        "outputId": "5914203e-cfc1-4059-b709-85f41a23b3f2"
      },
      "source": [
        "print(amd['2021-6':'2021-8'])\n"
      ],
      "execution_count": null,
      "outputs": [
        {
          "output_type": "stream",
          "name": "stdout",
          "text": [
            "Date\n",
            "2021-06-01     81.010002\n",
            "2021-06-02     81.000000\n",
            "2021-06-03     81.129997\n",
            "2021-06-04     80.919998\n",
            "2021-06-07     81.400002\n",
            "                 ...    \n",
            "2021-08-25    108.129997\n",
            "2021-08-26    108.570000\n",
            "2021-08-27    108.010002\n",
            "2021-08-30    112.610001\n",
            "2021-08-31    111.260002\n",
            "Name: Open, Length: 65, dtype: float64\n"
          ]
        }
      ]
    },
    {
      "cell_type": "markdown",
      "metadata": {
        "id": "lWwoD39pKNKb"
      },
      "source": [
        ".head(N) and .tail(N) are methods for quickly accessing the first or last N elements."
      ]
    },
    {
      "cell_type": "code",
      "metadata": {
        "colab": {
          "base_uri": "https://localhost:8080/"
        },
        "id": "1eU218ALHW93",
        "outputId": "13be94b9-054b-4915-ca5e-a515a3bbea08"
      },
      "source": [
        "print(aapl.head(5))\n",
        "print(aapl.tail(10))"
      ],
      "execution_count": null,
      "outputs": [
        {
          "output_type": "stream",
          "name": "stdout",
          "text": [
            "Date\n",
            "2017-01-03    27.372364\n",
            "2017-01-04    27.341724\n",
            "2017-01-05    27.480762\n",
            "2017-01-06    27.787132\n",
            "2017-01-09    28.041647\n",
            "Name: Close, dtype: float64\n",
            "Date\n",
            "2017-12-15    41.657745\n",
            "2017-12-18    42.244404\n",
            "2017-12-19    41.794231\n",
            "2017-12-20    41.748734\n",
            "2017-12-21    41.906776\n",
            "2017-12-22    41.906776\n",
            "2017-12-26    40.843601\n",
            "2017-12-27    40.850784\n",
            "2017-12-28    40.965725\n",
            "2017-12-29    40.522724\n",
            "Name: Close, dtype: float64\n"
          ]
        }
      ]
    },
    {
      "cell_type": "code",
      "metadata": {
        "colab": {
          "base_uri": "https://localhost:8080/"
        },
        "id": "bpIJgYQGvHap",
        "outputId": "d00aaafd-98d4-489b-9ff3-9dd896da2d7f"
      },
      "source": [
        "\n",
        "print(amd.head(20))\n",
        "print(amd.tail(30))"
      ],
      "execution_count": null,
      "outputs": [
        {
          "output_type": "stream",
          "name": "stdout",
          "text": [
            "Date\n",
            "2021-01-04    92.110001\n",
            "2021-01-05    92.099998\n",
            "2021-01-06    91.620003\n",
            "2021-01-07    91.330002\n",
            "2021-01-08    95.980003\n",
            "2021-01-11    94.029999\n",
            "2021-01-12    97.860001\n",
            "2021-01-13    93.010002\n",
            "2021-01-14    91.769997\n",
            "2021-01-15    90.750000\n",
            "2021-01-19    89.559998\n",
            "2021-01-20    90.550003\n",
            "2021-01-21    89.339996\n",
            "2021-01-22    94.419998\n",
            "2021-01-25    94.139999\n",
            "2021-01-26    94.910004\n",
            "2021-01-27    91.099998\n",
            "2021-01-28    89.830002\n",
            "2021-01-29    87.559998\n",
            "2021-02-01    86.830002\n",
            "Name: Open, dtype: float64\n",
            "Date\n",
            "2021-07-21     87.250000\n",
            "2021-07-22     89.400002\n",
            "2021-07-23     91.349998\n",
            "2021-07-26     92.010002\n",
            "2021-07-27     92.940002\n",
            "2021-07-28     93.440002\n",
            "2021-07-29     96.580002\n",
            "2021-07-30    101.599998\n",
            "2021-08-02    105.930000\n",
            "2021-08-03    108.150002\n",
            "2021-08-04    114.360001\n",
            "2021-08-05    116.629997\n",
            "2021-08-06    110.550003\n",
            "2021-08-09    111.309998\n",
            "2021-08-10    107.900002\n",
            "2021-08-11    107.599998\n",
            "2021-08-12    107.389999\n",
            "2021-08-13    107.169998\n",
            "2021-08-16    110.199997\n",
            "2021-08-17    106.639999\n",
            "2021-08-18    107.349998\n",
            "2021-08-19    103.320000\n",
            "2021-08-20    104.320000\n",
            "2021-08-23    105.300003\n",
            "2021-08-24    109.449997\n",
            "2021-08-25    108.129997\n",
            "2021-08-26    108.570000\n",
            "2021-08-27    108.010002\n",
            "2021-08-30    112.610001\n",
            "2021-08-31    111.260002\n",
            "Name: Open, dtype: float64\n"
          ]
        }
      ]
    },
    {
      "cell_type": "markdown",
      "metadata": {
        "id": "IxhKxtj-KQ66"
      },
      "source": [
        "# Resampling\n",
        "**_series.resample(freq)_** is a class called \"DatetimeIndexResampler\" which groups data in a Series object into regular time intervals. The argument \"freq\" determines the length of each interval.\n",
        "\n",
        "**_series.resample.mean()_** is a complete statement that groups data into intervals, and then compute the mean of each interval. For example, if we want to aggregate the daily data into monthly data by mean:"
      ]
    },
    {
      "cell_type": "code",
      "metadata": {
        "colab": {
          "base_uri": "https://localhost:8080/"
        },
        "id": "rAV8NkHkHW93",
        "outputId": "f8477191-09f0-4b2e-ecad-ba30ee9b8da9"
      },
      "source": [
        "by_month = aapl.resample('M').mean()\n",
        "print(by_month)"
      ],
      "execution_count": null,
      "outputs": [
        {
          "output_type": "stream",
          "name": "stdout",
          "text": [
            "Date\n",
            "2017-01-31    28.178332\n",
            "2017-02-28    31.606275\n",
            "2017-03-31    33.282220\n",
            "2017-04-30    33.819261\n",
            "2017-05-31    36.125684\n",
            "2017-06-30    35.133982\n",
            "2017-07-31    35.245242\n",
            "2017-08-31    37.897229\n",
            "2017-09-30    37.604738\n",
            "2017-10-31    37.654548\n",
            "2017-11-30    41.233915\n",
            "2017-12-31    41.160038\n",
            "Freq: M, Name: Close, dtype: float64\n"
          ]
        }
      ]
    },
    {
      "cell_type": "code",
      "metadata": {
        "id": "FOyjH6LswD7L"
      },
      "source": [
        " amdTicker = yf.Ticker(\"AMD\")\n"
      ],
      "execution_count": null,
      "outputs": []
    },
    {
      "cell_type": "code",
      "metadata": {
        "id": "Ec1wGuTbIPGo"
      },
      "source": [
        "amdTicker.history?"
      ],
      "execution_count": null,
      "outputs": []
    },
    {
      "cell_type": "code",
      "metadata": {
        "id": "XAwZxBn-Imvy",
        "colab": {
          "base_uri": "https://localhost:8080/"
        },
        "outputId": "5549c206-9945-47a7-ea54-5d0f96deda7a"
      },
      "source": [
        "amdHistoryMonthly = amdTicker.history(start=\"2020-1-1\",end=\"2021-1-1\",interval=\"1mo\")[\"Open\"]\n",
        "amdHistorydaily = amdTicker.history(start=\"2020-1-1\",end=\"2021-1-1\")[\"Open\"]\n",
        "\n",
        "print(amdHistoryMonthly)\n",
        "print(amdHistorydaily.resample(\"M\").mean())\n",
        "# Recordemos que la bolsa cierra los fines de semana luego realmente en algunas fechas no se tienen los valores dados "
      ],
      "execution_count": null,
      "outputs": [
        {
          "output_type": "stream",
          "name": "stdout",
          "text": [
            "Date\n",
            "2020-01-01    46.860001\n",
            "2020-02-01    46.400002\n",
            "2020-03-01    47.419998\n",
            "2020-04-01    44.180000\n",
            "2020-05-01    51.070000\n",
            "2020-06-01    53.310001\n",
            "2020-07-01    52.630001\n",
            "2020-08-01    78.190002\n",
            "2020-09-01    91.919998\n",
            "2020-10-01    83.059998\n",
            "2020-11-01    75.849998\n",
            "2020-12-01    92.250000\n",
            "Name: Open, dtype: float64\n",
            "Date\n",
            "2020-01-31    49.077619\n",
            "2020-02-29    51.120526\n",
            "2020-03-31    44.465909\n",
            "2020-04-30    52.033809\n",
            "2020-05-31    53.568000\n",
            "2020-06-30    53.720000\n",
            "2020-07-31    59.712727\n",
            "2020-08-31    82.976190\n",
            "2020-09-30    80.204286\n",
            "2020-10-31    82.720910\n",
            "2020-11-30    82.778500\n",
            "2020-12-31    93.390455\n",
            "Freq: M, Name: Open, dtype: float64\n"
          ]
        }
      ]
    },
    {
      "cell_type": "code",
      "metadata": {
        "id": "x-TLOwDWVDim"
      },
      "source": [
        ""
      ],
      "execution_count": null,
      "outputs": []
    },
    {
      "cell_type": "code",
      "metadata": {
        "colab": {
          "base_uri": "https://localhost:8080/"
        },
        "id": "1lBb5_e8TnCj",
        "outputId": "ceb1b2ee-5197-4e6c-d497-bee7ea82a3d4"
      },
      "source": [
        "def checkMagicYear(startDay,leapYear=0):\n",
        "  monthDays = [31,28+leapYear,31,30,31,30,31,31,30,31,30,31]\n",
        "  for monthDay in monthDays:\n",
        "    startDay = startDay % 7\n",
        "    if startDay< 2:\n",
        "      print(\"Sadly :( it's \"+ [\"Saturday\",\"Sunday\"][startDay])\n",
        "      return False\n",
        "    else:\n",
        "      print(\"it's \" + [\"monday\",\"tuesday\",\"wednesday\",\"thursday\",\"friday\"][startDay-2])\n",
        "      startDay = startDay + monthDay  \n",
        "  #we don't check final month\n",
        "  print(\"success!\")\n",
        "  return True\n",
        "for j in [0,1]:\n",
        "  for i in range(7): #considera los 7 posibles días como inicio de año\n",
        "    print(j*7+i+1, end=\"st \")\n",
        "    print(\"try with \"+ [\"Saturday\",\"Sunday\",\"monday\",\"tuesday\",\"wednesday\",\"thursday\",\"friday\"][i] + \" as starting day\" )\n",
        "    checkMagicYear(i,leapYear=j)"
      ],
      "execution_count": 71,
      "outputs": [
        {
          "output_type": "stream",
          "name": "stdout",
          "text": [
            "1st try with Saturday as starting day\n",
            "Sadly :( it's Saturday\n",
            "2st try with Sunday as starting day\n",
            "Sadly :( it's Sunday\n",
            "3st try with monday as starting day\n",
            "it's monday\n",
            "it's thursday\n",
            "it's thursday\n",
            "Sadly :( it's Sunday\n",
            "4st try with tuesday as starting day\n",
            "it's tuesday\n",
            "it's friday\n",
            "it's friday\n",
            "it's monday\n",
            "it's wednesday\n",
            "Sadly :( it's Saturday\n",
            "5st try with wednesday as starting day\n",
            "it's wednesday\n",
            "Sadly :( it's Saturday\n",
            "6st try with thursday as starting day\n",
            "it's thursday\n",
            "Sadly :( it's Sunday\n",
            "7st try with friday as starting day\n",
            "it's friday\n",
            "it's monday\n",
            "it's monday\n",
            "it's thursday\n",
            "Sadly :( it's Saturday\n",
            "8st try with Saturday as starting day\n",
            "Sadly :( it's Saturday\n",
            "9st try with Sunday as starting day\n",
            "Sadly :( it's Sunday\n",
            "10st try with monday as starting day\n",
            "it's monday\n",
            "it's thursday\n",
            "it's friday\n",
            "it's monday\n",
            "it's wednesday\n",
            "Sadly :( it's Saturday\n",
            "11st try with tuesday as starting day\n",
            "it's tuesday\n",
            "it's friday\n",
            "Sadly :( it's Saturday\n",
            "12st try with wednesday as starting day\n",
            "it's wednesday\n",
            "Sadly :( it's Saturday\n",
            "13st try with thursday as starting day\n",
            "it's thursday\n",
            "Sadly :( it's Sunday\n",
            "14st try with friday as starting day\n",
            "it's friday\n",
            "it's monday\n",
            "it's tuesday\n",
            "it's friday\n",
            "Sadly :( it's Sunday\n"
          ]
        }
      ]
    },
    {
      "cell_type": "markdown",
      "metadata": {
        "id": "QDPfVzBEKV6Q"
      },
      "source": [
        "\n",
        "We can also aggregate the data by week:"
      ]
    },
    {
      "cell_type": "code",
      "metadata": {
        "id": "aAP3tKkBHW94",
        "colab": {
          "base_uri": "https://localhost:8080/"
        },
        "outputId": "83c8593e-962e-4319-ad04-dbea6623acc3"
      },
      "source": [
        "by_week = aapl.resample('W').mean()\n",
        "print(by_week.head())"
      ],
      "execution_count": 75,
      "outputs": [
        {
          "output_type": "stream",
          "name": "stdout",
          "text": [
            "Date\n",
            "2017-01-08    27.495496\n",
            "2017-01-15    28.097736\n",
            "2017-01-22    28.266116\n",
            "2017-01-29    28.553979\n",
            "2017-02-05    29.662542\n",
            "Freq: W-SUN, Name: Close, dtype: float64\n"
          ]
        }
      ]
    },
    {
      "cell_type": "code",
      "metadata": {
        "id": "VU4y-lNIw-V1",
        "colab": {
          "base_uri": "https://localhost:8080/"
        },
        "outputId": "aa9ef8b5-9ab5-4307-db10-84d47676a868"
      },
      "source": [
        " amd_weekly = amd.resample('W').mean()\n",
        " amd_weekly"
      ],
      "execution_count": 77,
      "outputs": [
        {
          "output_type": "execute_result",
          "data": {
            "text/plain": [
              "Date\n",
              "2021-01-10     92.628001\n",
              "2021-01-17     93.484000\n",
              "2021-01-24     90.967499\n",
              "2021-01-31     91.508000\n",
              "2021-02-07     88.058000\n",
              "2021-02-14     91.370000\n",
              "2021-02-21     90.824999\n",
              "2021-02-28     85.124001\n",
              "2021-03-07     83.160001\n",
              "2021-03-14     78.728001\n",
              "2021-03-21     81.374001\n",
              "2021-03-28     78.028000\n",
              "2021-04-04     77.557501\n",
              "2021-04-11     82.078000\n",
              "2021-04-18     81.045999\n",
              "2021-04-25     80.751999\n",
              "2021-05-02     85.107999\n",
              "2021-05-09     79.070000\n",
              "2021-05-16     75.217998\n",
              "2021-05-23     75.496001\n",
              "2021-05-30     77.838002\n",
              "2021-06-06     81.014999\n",
              "2021-06-13     81.198000\n",
              "2021-06-20     81.779999\n",
              "2021-06-27     84.189999\n",
              "2021-07-04     90.386000\n",
              "2021-07-11     91.949999\n",
              "2021-07-18     89.912001\n",
              "2021-07-25     88.015999\n",
              "2021-08-01     95.314001\n",
              "2021-08-08    111.124001\n",
              "2021-08-15    108.273999\n",
              "2021-08-22    106.365999\n",
              "2021-08-29    107.892000\n",
              "2021-09-05    111.935001\n",
              "Freq: W-SUN, Name: Open, dtype: float64"
            ]
          },
          "metadata": {},
          "execution_count": 77
        }
      ]
    },
    {
      "cell_type": "markdown",
      "metadata": {
        "id": "o_MXSVsILoBS"
      },
      "source": [
        "We can also aggregate the data by month with max:"
      ]
    },
    {
      "cell_type": "code",
      "metadata": {
        "id": "gn0wqXBTHW95",
        "colab": {
          "base_uri": "https://localhost:8080/"
        },
        "outputId": "20e330e6-f792-459b-d359-4ec66c369ebb"
      },
      "source": [
        "aapl.resample('M').max()"
      ],
      "execution_count": 78,
      "outputs": [
        {
          "output_type": "execute_result",
          "data": {
            "text/plain": [
              "Date\n",
              "2017-01-31    28.739208\n",
              "2017-02-28    32.451969\n",
              "2017-03-31    34.111137\n",
              "2017-04-30    34.264977\n",
              "2017-05-31    37.099136\n",
              "2017-06-30    36.944649\n",
              "2017-07-31    36.471706\n",
              "2017-08-31    39.129723\n",
              "2017-09-30    39.141655\n",
              "2017-10-31    40.332245\n",
              "2017-11-30    42.050137\n",
              "2017-12-31    42.244404\n",
              "Freq: M, Name: Close, dtype: float64"
            ]
          },
          "metadata": {},
          "execution_count": 78
        }
      ]
    },
    {
      "cell_type": "code",
      "metadata": {
        "id": "QOPsF5CByk2E",
        "colab": {
          "base_uri": "https://localhost:8080/"
        },
        "outputId": "df2bb9c3-8b83-41c8-9d0b-7a166606de04"
      },
      "source": [
        "amd.resample('M').max()"
      ],
      "execution_count": 81,
      "outputs": [
        {
          "output_type": "execute_result",
          "data": {
            "text/plain": [
              "Date\n",
              "2021-01-31     97.860001\n",
              "2021-02-28     93.900002\n",
              "2021-03-31     86.919998\n",
              "2021-04-30     88.849998\n",
              "2021-05-31     81.970001\n",
              "2021-06-30     90.820000\n",
              "2021-07-31    101.599998\n",
              "2021-08-31    116.629997\n",
              "Freq: M, Name: Open, dtype: float64"
            ]
          },
          "metadata": {},
          "execution_count": 81
        }
      ]
    },
    {
      "cell_type": "markdown",
      "metadata": {
        "id": "Z8r46UFlLdAh"
      },
      "source": [
        "We can choose almost any frequency by using the format 'nf', where 'n' is an integer and 'f' is M for month, W for week and D for day."
      ]
    },
    {
      "cell_type": "code",
      "metadata": {
        "id": "kdVB_-JFHW96",
        "colab": {
          "base_uri": "https://localhost:8080/"
        },
        "outputId": "d39d6bee-d4d2-4eac-d7d1-cb7f3474c33f"
      },
      "source": [
        "three_day = aapl.resample('3D').mean()\n",
        "two_week = aapl.resample('2W').mean()\n",
        "two_month = aapl.resample('2M').mean()\n",
        "\n",
        "\n",
        "print(three_day)\n",
        "print(two_week)\n",
        "print(two_month )"
      ],
      "execution_count": 82,
      "outputs": [
        {
          "output_type": "stream",
          "name": "stdout",
          "text": [
            "Date\n",
            "2017-01-03    27.398284\n",
            "2017-01-06    27.787132\n",
            "2017-01-09    28.110777\n",
            "2017-01-12    28.078176\n",
            "2017-01-15    28.279665\n",
            "                ...    \n",
            "2017-12-17    42.019318\n",
            "2017-12-20    41.854095\n",
            "2017-12-23          NaN\n",
            "2017-12-26    40.886703\n",
            "2017-12-29    40.522724\n",
            "Freq: 3D, Name: Close, Length: 121, dtype: float64\n",
            "Date\n",
            "2017-01-08    27.495496\n",
            "2017-01-22    28.172572\n",
            "2017-02-05    29.108261\n",
            "2017-02-19    31.516816\n",
            "2017-03-05    32.595556\n",
            "2017-03-19    33.017883\n",
            "2017-04-02    33.625219\n",
            "2017-04-16    33.849726\n",
            "2017-04-30    33.791843\n",
            "2017-05-14    35.697631\n",
            "2017-05-28    36.496179\n",
            "2017-06-11    36.515006\n",
            "2017-06-25    34.529044\n",
            "2017-07-09    34.265135\n",
            "2017-07-23    35.278873\n",
            "2017-08-06    36.272773\n",
            "2017-08-20    37.904121\n",
            "2017-09-03    38.458793\n",
            "2017-09-17    38.282708\n",
            "2017-10-01    36.840873\n",
            "2017-10-15    37.071594\n",
            "2017-10-29    37.757318\n",
            "2017-11-12    41.032236\n",
            "2017-11-26    41.204377\n",
            "2017-12-10    40.867066\n",
            "2017-12-24    41.620867\n",
            "2018-01-07    40.795709\n",
            "Freq: 2W-SUN, Name: Close, dtype: float64\n",
            "Date\n",
            "2017-01-31    28.178332\n",
            "2017-03-31    32.524054\n",
            "2017-05-31    35.056854\n",
            "2017-07-31    35.186963\n",
            "2017-09-30    37.761186\n",
            "2017-11-30    39.402611\n",
            "2018-01-31    41.160038\n",
            "Freq: 2M, Name: Close, dtype: float64\n"
          ]
        }
      ]
    },
    {
      "cell_type": "code",
      "metadata": {
        "id": "rkqN8oft0XvF",
        "colab": {
          "base_uri": "https://localhost:8080/"
        },
        "outputId": "9f2f0f00-49e0-4857-daa6-b556abea9508"
      },
      "source": [
        " \n",
        "amd_five_day =   amd.resample('5D').mean()\n",
        "amd_three_week = amd.resample('3W').mean()\n",
        "amd_four_month = amd.resample('4M').mean()\n",
        "\n",
        "\n",
        "print(amd_five_day)\n",
        "print(amd_three_week)\n",
        "print(amd_four_month )"
      ],
      "execution_count": 83,
      "outputs": [
        {
          "output_type": "stream",
          "name": "stdout",
          "text": [
            "Date\n",
            "2021-01-04     92.628001\n",
            "2021-01-09     94.966667\n",
            "2021-01-14     91.259998\n",
            "2021-01-19     90.967499\n",
            "2021-01-24     92.495001\n",
            "2021-01-29     87.626666\n",
            "2021-02-03     88.323334\n",
            "2021-02-08     91.370000\n",
            "2021-02-13     92.230000\n",
            "2021-02-18     88.996666\n",
            "2021-02-23     84.367500\n",
            "2021-02-28     84.200001\n",
            "2021-03-05     77.920001\n",
            "2021-03-10     79.626668\n",
            "2021-03-15     81.374001\n",
            "2021-03-20     79.223333\n",
            "2021-03-25     76.500000\n",
            "2021-03-30     77.733335\n",
            "2021-04-04     81.897499\n",
            "2021-04-09     81.510000\n",
            "2021-04-14     81.166667\n",
            "2021-04-19     80.751999\n",
            "2021-04-24     85.956665\n",
            "2021-04-29     83.213333\n",
            "2021-05-04     78.344999\n",
            "2021-05-09     75.517498\n",
            "2021-05-14     74.326665\n",
            "2021-05-19     76.173335\n",
            "2021-05-24     77.838002\n",
            "2021-05-29     81.005001\n",
            "2021-06-03     81.149999\n",
            "2021-06-08     81.147499\n",
            "2021-06-13     81.154999\n",
            "2021-06-18     83.556666\n",
            "2021-06-23     84.853333\n",
            "2021-06-28     90.386000\n",
            "2021-07-03     94.949997\n",
            "2021-07-08     89.706668\n",
            "2021-07-13     89.585001\n",
            "2021-07-18     87.182499\n",
            "2021-07-23     92.100001\n",
            "2021-07-28     97.206668\n",
            "2021-08-02    111.124001\n",
            "2021-08-07    108.936666\n",
            "2021-08-12    108.253332\n",
            "2021-08-17    105.407499\n",
            "2021-08-22    107.862499\n",
            "2021-08-27    110.626668\n",
            "Freq: 5D, Name: Open, dtype: float64\n",
            "Date\n",
            "2021-01-10     92.628001\n",
            "2021-01-31     92.059285\n",
            "2021-02-21     90.031428\n",
            "2021-03-14     82.337334\n",
            "2021-04-04     79.088572\n",
            "2021-04-25     81.291999\n",
            "2021-05-16     79.798665\n",
            "2021-06-06     77.909286\n",
            "2021-06-27     82.389333\n",
            "2021-07-18     90.663571\n",
            "2021-08-08     98.151334\n",
            "2021-08-29    107.510666\n",
            "2021-09-19    111.935001\n",
            "Freq: 3W-SUN, Name: Open, dtype: float64\n",
            "Date\n",
            "2021-01-31    92.208947\n",
            "2021-05-31    81.756265\n",
            "2021-09-30    94.430615\n",
            "Freq: 4M, Name: Open, dtype: float64\n"
          ]
        }
      ]
    },
    {
      "cell_type": "markdown",
      "metadata": {
        "id": "iy4RqsnwL-Bw"
      },
      "source": [
        "Besides the mean() method, other methods can also be used with the resampler:\n",
        "\n"
      ]
    },
    {
      "cell_type": "code",
      "metadata": {
        "id": "DNT8Fx9dHW96",
        "colab": {
          "base_uri": "https://localhost:8080/"
        },
        "outputId": "16b0009b-8b6c-427d-a372-9dc4f6efe73e"
      },
      "source": [
        "std = aapl.resample('W').std()\n",
        "max = aapl.resample('W').max()\n",
        "min = aapl.resample('W').min()\n",
        "\n",
        "\n",
        "print(std)\n",
        "print(max)\n",
        "print(min)"
      ],
      "execution_count": 84,
      "outputs": [
        {
          "output_type": "stream",
          "name": "stdout",
          "text": [
            "Date\n",
            "2017-01-08    0.203368\n",
            "2017-01-15    0.072530\n",
            "2017-01-22    0.025554\n",
            "2017-01-29    0.245286\n",
            "2017-02-05    0.943260\n",
            "2017-02-12    0.252003\n",
            "2017-02-19    0.231392\n",
            "2017-02-26    0.059348\n",
            "2017-03-05    0.340092\n",
            "2017-03-12    0.076285\n",
            "2017-03-19    0.177831\n",
            "2017-03-26    0.157266\n",
            "2017-04-02    0.319806\n",
            "2017-04-09    0.128689\n",
            "2017-04-16    0.212473\n",
            "2017-04-23    0.174671\n",
            "2017-04-30    0.090024\n",
            "2017-05-07    0.235635\n",
            "2017-05-14    0.352983\n",
            "2017-05-21    0.536092\n",
            "2017-05-28    0.060394\n",
            "2017-06-04    0.281225\n",
            "2017-06-11    0.620039\n",
            "2017-06-18    0.382566\n",
            "2017-06-25    0.128896\n",
            "2017-07-02    0.264110\n",
            "2017-07-09    0.158892\n",
            "2017-07-16    0.404285\n",
            "2017-07-23    0.124987\n",
            "2017-07-30    0.384444\n",
            "2017-08-06    0.924392\n",
            "2017-08-13    0.467468\n",
            "2017-08-20    0.435252\n",
            "2017-08-27    0.275765\n",
            "2017-09-03    0.251725\n",
            "2017-09-10    0.381636\n",
            "2017-09-17    0.294143\n",
            "2017-09-24    0.735189\n",
            "2017-10-01    0.354843\n",
            "2017-10-08    0.204854\n",
            "2017-10-15    0.118730\n",
            "2017-10-22    0.516998\n",
            "2017-10-29    0.680459\n",
            "2017-11-05    0.560687\n",
            "2017-11-12    0.190970\n",
            "2017-11-19    0.436200\n",
            "2017-11-26    0.563044\n",
            "2017-12-03    0.427444\n",
            "2017-12-10    0.073128\n",
            "2017-12-17    0.205266\n",
            "2017-12-24    0.194125\n",
            "2017-12-31    0.190397\n",
            "Freq: W-SUN, Name: Close, dtype: float64\n",
            "Date\n",
            "2017-01-08    27.787132\n",
            "2017-01-15    28.220755\n",
            "2017-01-22    28.279665\n",
            "2017-01-29    28.739208\n",
            "2017-02-05    30.419497\n",
            "2017-02-12    31.341909\n",
            "2017-02-19    32.122978\n",
            "2017-02-26    32.451969\n",
            "2017-03-05    33.086288\n",
            "2017-03-12    33.022381\n",
            "2017-03-19    33.299297\n",
            "2017-03-26    33.481552\n",
            "2017-04-02    34.111137\n",
            "2017-04-09    34.264977\n",
            "2017-04-16    33.886276\n",
            "2017-04-23    33.713501\n",
            "2017-04-30    34.208172\n",
            "2017-05-07    35.256683\n",
            "2017-05-14    37.099136\n",
            "2017-05-21    37.004066\n",
            "2017-05-28    36.597664\n",
            "2017-06-04    36.944649\n",
            "2017-06-11    36.925632\n",
            "2017-06-18    34.838955\n",
            "2017-06-25    34.779541\n",
            "2017-07-02    34.658333\n",
            "2017-07-09    34.266190\n",
            "2017-07-16    35.421238\n",
            "2017-07-23    35.891800\n",
            "2017-07-30    36.471706\n",
            "2017-08-06    37.346291\n",
            "2017-08-13    38.277931\n",
            "2017-08-20    38.557102\n",
            "2017-08-27    38.170563\n",
            "2017-09-03    39.141655\n",
            "2017-09-10    38.671616\n",
            "2017-09-17    38.533237\n",
            "2017-09-24    37.872322\n",
            "2017-10-01    36.798634\n",
            "2017-10-08    37.075413\n",
            "2017-10-15    37.457169\n",
            "2017-10-22    38.287472\n",
            "2017-10-29    38.903065\n",
            "2017-11-05    41.157795\n",
            "2017-11-12    42.050137\n",
            "2017-11-19    41.657745\n",
            "2017-11-26    41.897194\n",
            "2017-12-03    41.686474\n",
            "2017-12-10    40.659218\n",
            "2017-12-17    41.657745\n",
            "2017-12-24    42.244404\n",
            "2017-12-31    40.965725\n",
            "Freq: W-SUN, Name: Close, dtype: float64\n",
            "Date\n",
            "2017-01-08    27.341724\n",
            "2017-01-15    28.041647\n",
            "2017-01-22    28.227821\n",
            "2017-01-29    28.272596\n",
            "2017-02-05    28.597813\n",
            "2017-02-12    30.704643\n",
            "2017-02-19    31.547831\n",
            "2017-02-26    32.314682\n",
            "2017-03-05    32.409367\n",
            "2017-03-12    32.823563\n",
            "2017-03-19    32.896938\n",
            "2017-03-26    33.098114\n",
            "2017-04-02    33.344276\n",
            "2017-04-09    33.926510\n",
            "2017-04-16    33.384510\n",
            "2017-04-23    33.296932\n",
            "2017-04-30    33.997528\n",
            "2017-05-07    34.681541\n",
            "2017-05-14    36.215267\n",
            "2017-05-21    35.708805\n",
            "2017-05-28    36.443176\n",
            "2017-06-04    36.305332\n",
            "2017-06-11    35.406963\n",
            "2017-06-18    33.812252\n",
            "2017-06-25    34.463440\n",
            "2017-07-02    34.147358\n",
            "2017-07-09    33.921577\n",
            "2017-07-16    34.475338\n",
            "2017-07-23    35.544815\n",
            "2017-07-30    35.530552\n",
            "2017-08-06    35.347546\n",
            "2017-08-13    37.058712\n",
            "2017-08-20    37.578854\n",
            "2017-08-27    37.509659\n",
            "2017-09-03    38.526077\n",
            "2017-09-10    37.848469\n",
            "2017-09-17    37.764950\n",
            "2017-09-24    36.240337\n",
            "2017-10-01    35.920609\n",
            "2017-10-08    36.619698\n",
            "2017-10-15    37.182781\n",
            "2017-10-22    37.216179\n",
            "2017-10-29    37.261513\n",
            "2017-11-05    39.778698\n",
            "2017-11-12    41.575329\n",
            "2017-11-19    40.486813\n",
            "2017-11-26    40.702324\n",
            "2017-12-03    40.582592\n",
            "2017-12-10    40.470051\n",
            "2017-12-17    41.114182\n",
            "2017-12-24    41.748734\n",
            "2017-12-31    40.522724\n",
            "Freq: W-SUN, Name: Close, dtype: float64\n"
          ]
        }
      ]
    },
    {
      "cell_type": "code",
      "metadata": {
        "id": "TBaPyf2_2K8B",
        "colab": {
          "base_uri": "https://localhost:8080/"
        },
        "outputId": "82b6ae0b-f4bf-44a1-9596-5fc65bc62cbe"
      },
      "source": [
        " \n",
        "amd_std = amd.resample('M').std()\n",
        "amd_max = amd.resample('M').max()\n",
        "amd_min = amd.resample('M').min()\n",
        "\n",
        "\n",
        "print(amd_std)\n",
        "print(amd_max)\n",
        "print(amd_min)"
      ],
      "execution_count": 85,
      "outputs": [
        {
          "output_type": "stream",
          "name": "stdout",
          "text": [
            "Date\n",
            "2021-01-31    2.538489\n",
            "2021-02-28    3.030269\n",
            "2021-03-31    3.029103\n",
            "2021-04-30    2.293252\n",
            "2021-05-31    2.258289\n",
            "2021-06-30    2.724786\n",
            "2021-07-31    3.802294\n",
            "2021-08-31    3.164076\n",
            "Freq: M, Name: Open, dtype: float64\n",
            "Date\n",
            "2021-01-31     97.860001\n",
            "2021-02-28     93.900002\n",
            "2021-03-31     86.919998\n",
            "2021-04-30     88.849998\n",
            "2021-05-31     81.970001\n",
            "2021-06-30     90.820000\n",
            "2021-07-31    101.599998\n",
            "2021-08-31    116.629997\n",
            "Freq: M, Name: Open, dtype: float64\n",
            "Date\n",
            "2021-01-31     87.559998\n",
            "2021-02-28     83.400002\n",
            "2021-03-31     75.849998\n",
            "2021-04-30     78.989998\n",
            "2021-05-31     73.160004\n",
            "2021-06-30     80.019997\n",
            "2021-07-31     84.989998\n",
            "2021-08-31    103.320000\n",
            "Freq: M, Name: Open, dtype: float64\n"
          ]
        }
      ]
    },
    {
      "cell_type": "markdown",
      "metadata": {
        "id": "uqln0s5DMI3I"
      },
      "source": [
        "Often we want to calculate monthly returns of a stock, based on prices on the last day of each month. To fetch those prices, we use the series.resample.agg() method:"
      ]
    },
    {
      "cell_type": "code",
      "metadata": {
        "id": "A6FSYvqbHW97",
        "colab": {
          "base_uri": "https://localhost:8080/"
        },
        "outputId": "d6d7af2e-9e99-4524-d825-b2ee0217173d"
      },
      "source": [
        "last_day = aapl.resample('M').agg(lambda x: x[-1])\n",
        "print(last_day)"
      ],
      "execution_count": 86,
      "outputs": [
        {
          "output_type": "stream",
          "name": "stdout",
          "text": [
            "Date\n",
            "2017-01-31    28.597813\n",
            "2017-02-28    32.423561\n",
            "2017-03-31    34.002262\n",
            "2017-04-30    33.999886\n",
            "2017-05-31    36.305332\n",
            "2017-06-30    34.228165\n",
            "2017-07-31    35.347546\n",
            "2017-08-31    39.129723\n",
            "2017-09-30    36.772396\n",
            "2017-10-31    40.332245\n",
            "2017-11-30    41.150105\n",
            "2017-12-31    40.522724\n",
            "Freq: M, Name: Close, dtype: float64\n"
          ]
        }
      ]
    },
    {
      "cell_type": "code",
      "metadata": {
        "id": "WOrf7wlF2cK_",
        "colab": {
          "base_uri": "https://localhost:8080/"
        },
        "outputId": "083e634d-f373-4e15-8247-c5311ff15a02"
      },
      "source": [
        " print(amd.resample('M').agg(lambda x:1+sum(x)/len(x)))\n",
        " print(amd.resample('M').mean())\n",
        " print(amd.resample('M').agg(lambda x: x[10]))\n",
        "print(amd.resample('M').agg(lambda x: x[-1]))\n"
      ],
      "execution_count": 94,
      "outputs": [
        {
          "output_type": "stream",
          "name": "stdout",
          "text": [
            "Date\n",
            "2021-01-31     93.208947\n",
            "2021-02-28     89.740000\n",
            "2021-03-31     80.848696\n",
            "2021-04-30     83.146666\n",
            "2021-05-31     77.905500\n",
            "2021-06-30     83.932272\n",
            "2021-07-31     92.491905\n",
            "2021-08-31    109.734091\n",
            "Freq: M, Name: Open, dtype: float64\n",
            "Date\n",
            "2021-01-31     92.208947\n",
            "2021-02-28     88.740000\n",
            "2021-03-31     79.848696\n",
            "2021-04-30     82.146666\n",
            "2021-05-31     76.905500\n",
            "2021-06-30     82.932272\n",
            "2021-07-31     91.491905\n",
            "2021-08-31    108.734091\n",
            "Freq: M, Name: Open, dtype: float64\n",
            "Date\n",
            "2021-01-31     89.559998\n",
            "2021-02-28     93.900002\n",
            "2021-03-31     81.910004\n",
            "2021-04-30     83.300003\n",
            "2021-05-31     74.220001\n",
            "2021-06-30     81.589996\n",
            "2021-07-31     87.320000\n",
            "2021-08-31    110.199997\n",
            "Freq: M, Name: Open, dtype: float64\n",
            "Date\n",
            "2021-01-31     87.559998\n",
            "2021-02-28     83.570000\n",
            "2021-03-31     76.570000\n",
            "2021-04-30     82.970001\n",
            "2021-05-31     78.660004\n",
            "2021-06-30     90.820000\n",
            "2021-07-31    101.599998\n",
            "2021-08-31    111.260002\n",
            "Freq: M, Name: Open, dtype: float64\n"
          ]
        }
      ]
    },
    {
      "cell_type": "markdown",
      "metadata": {
        "id": "uwomY3aXMR46"
      },
      "source": [
        "Or directly calculate the monthly rates of return using the data for the first day and the last day:"
      ]
    },
    {
      "cell_type": "code",
      "metadata": {
        "id": "qK2NMJrNHW96",
        "colab": {
          "base_uri": "https://localhost:8080/"
        },
        "outputId": "6739850a-ff2e-4aba-eda1-9595007a88e6"
      },
      "source": [
        "monthly_return = aapl.resample('M').agg(lambda x: x[-1]/x[0] - 1)\n",
        "print(monthly_return)"
      ],
      "execution_count": 95,
      "outputs": [
        {
          "output_type": "stream",
          "name": "stdout",
          "text": [
            "Date\n",
            "2017-01-31    0.044770\n",
            "2017-02-28    0.068613\n",
            "2017-03-31    0.027684\n",
            "2017-04-30   -0.000348\n",
            "2017-05-31    0.046463\n",
            "2017-06-30   -0.059799\n",
            "2017-07-31    0.036446\n",
            "2017-08-31    0.097261\n",
            "2017-09-30   -0.060530\n",
            "2017-10-31    0.099018\n",
            "2017-11-30    0.033422\n",
            "2017-12-31   -0.010640\n",
            "Freq: M, Name: Close, dtype: float64\n"
          ]
        }
      ]
    },
    {
      "cell_type": "code",
      "metadata": {
        "id": "RoFzphWd6_cM",
        "colab": {
          "base_uri": "https://localhost:8080/"
        },
        "outputId": "e62d4782-61ab-4be1-d2c0-6ac09fcd7255"
      },
      "source": [
        " \n",
        "amd_monthly_return = amd.resample('M').agg(lambda x: x[-1]/x[0] - 1)\n",
        "amd_monthly_return"
      ],
      "execution_count": 96,
      "outputs": [
        {
          "output_type": "execute_result",
          "data": {
            "text/plain": [
              "Date\n",
              "2021-01-31   -0.049397\n",
              "2021-02-28   -0.037545\n",
              "2021-03-31   -0.103081\n",
              "2021-04-30    0.035055\n",
              "2021-05-31   -0.040381\n",
              "2021-06-30    0.121096\n",
              "2021-07-31    0.080391\n",
              "2021-08-31    0.050316\n",
              "Freq: M, Name: Open, dtype: float64"
            ]
          },
          "metadata": {},
          "execution_count": 96
        }
      ]
    },
    {
      "cell_type": "markdown",
      "metadata": {
        "id": "_DYbMTFWMj8J"
      },
      "source": [
        "Series object also provides us some convenient methods to do some quick calculation."
      ]
    },
    {
      "cell_type": "code",
      "metadata": {
        "id": "1Mxc0HwvHW98",
        "colab": {
          "base_uri": "https://localhost:8080/"
        },
        "outputId": "cec15be8-6115-4801-ae01-1dfddc24b303"
      },
      "source": [
        "print(monthly_return.mean())\n",
        "print(monthly_return.std())\n",
        "print(monthly_return.max())"
      ],
      "execution_count": 97,
      "outputs": [
        {
          "output_type": "stream",
          "name": "stdout",
          "text": [
            "0.026863260777253473\n",
            "0.0522585192011838\n",
            "0.09901840613238377\n"
          ]
        }
      ]
    },
    {
      "cell_type": "code",
      "metadata": {
        "id": "IgZ7urBP7Tvz",
        "colab": {
          "base_uri": "https://localhost:8080/"
        },
        "outputId": "c60c7e82-2301-41a3-b776-375e2e1c69c8"
      },
      "source": [
        "\n",
        "print(amd_monthly_return.mean())\n",
        "print(amd_monthly_return.std())\n",
        "print(amd_monthly_return.max())"
      ],
      "execution_count": 99,
      "outputs": [
        {
          "output_type": "stream",
          "name": "stdout",
          "text": [
            "0.00705688317433853\n",
            "0.07615318201228442\n",
            "0.12109612763738453\n"
          ]
        }
      ]
    },
    {
      "cell_type": "markdown",
      "metadata": {
        "id": "mn59J5dqMpqX"
      },
      "source": [
        "Another two methods frequently used on Series are .diff() and .pct_change(). The former calculates the difference between consecutive elements, and the latter calculates the percentage change."
      ]
    },
    {
      "cell_type": "code",
      "metadata": {
        "id": "DupZTSqqHW99",
        "colab": {
          "base_uri": "https://localhost:8080/"
        },
        "outputId": "604ecf7c-25c1-406a-a284-37cf5147e64d"
      },
      "source": [
        "print(last_day.diff())\n",
        "print(last_day.pct_change())"
      ],
      "execution_count": 100,
      "outputs": [
        {
          "output_type": "stream",
          "name": "stdout",
          "text": [
            "Date\n",
            "2017-01-31         NaN\n",
            "2017-02-28    3.825748\n",
            "2017-03-31    1.578701\n",
            "2017-04-30   -0.002377\n",
            "2017-05-31    2.305447\n",
            "2017-06-30   -2.077168\n",
            "2017-07-31    1.119381\n",
            "2017-08-31    3.782177\n",
            "2017-09-30   -2.357327\n",
            "2017-10-31    3.559849\n",
            "2017-11-30    0.817860\n",
            "2017-12-31   -0.627380\n",
            "Freq: M, Name: Close, dtype: float64\n",
            "Date\n",
            "2017-01-31         NaN\n",
            "2017-02-28    0.133778\n",
            "2017-03-31    0.048690\n",
            "2017-04-30   -0.000070\n",
            "2017-05-31    0.067807\n",
            "2017-06-30   -0.057214\n",
            "2017-07-31    0.032704\n",
            "2017-08-31    0.107000\n",
            "2017-09-30   -0.060244\n",
            "2017-10-31    0.096808\n",
            "2017-11-30    0.020278\n",
            "2017-12-31   -0.015246\n",
            "Freq: M, Name: Close, dtype: float64\n"
          ]
        }
      ]
    },
    {
      "cell_type": "code",
      "metadata": {
        "id": "sI8wmyFz773I",
        "colab": {
          "base_uri": "https://localhost:8080/"
        },
        "outputId": "3305aad8-b293-44a7-b914-fe6f3676dbca"
      },
      "source": [
        "print(amd_last_day.diff())\n",
        "print(amd_last_day.pct_change())"
      ],
      "execution_count": 101,
      "outputs": [
        {
          "output_type": "stream",
          "name": "stdout",
          "text": [
            "Date\n",
            "2021-01-31          NaN\n",
            "2021-02-28     4.340004\n",
            "2021-03-31   -11.989998\n",
            "2021-04-30     1.389999\n",
            "2021-05-31    -9.080002\n",
            "2021-06-30     7.369995\n",
            "2021-07-31     5.730003\n",
            "2021-08-31    22.879997\n",
            "Freq: M, Name: Open, dtype: float64\n",
            "Date\n",
            "2021-01-31         NaN\n",
            "2021-02-28    0.048459\n",
            "2021-03-31   -0.127689\n",
            "2021-04-30    0.016970\n",
            "2021-05-31   -0.109004\n",
            "2021-06-30    0.099299\n",
            "2021-07-31    0.070229\n",
            "2021-08-31    0.262025\n",
            "Freq: M, Name: Open, dtype: float64\n"
          ]
        }
      ]
    },
    {
      "cell_type": "markdown",
      "metadata": {
        "id": "RaMAOFepM6Io"
      },
      "source": [
        "Notice that we induced a NaN value while calculating percentage changes i.e. returns.\n",
        "\n",
        "When dealing with NaN values, we usually either removing the data point or fill it with a specific value. Here we fill it with 0:"
      ]
    },
    {
      "cell_type": "code",
      "metadata": {
        "id": "-xyLb3A3HW99",
        "colab": {
          "base_uri": "https://localhost:8080/"
        },
        "outputId": "ec7033c0-a03c-402e-f1e2-d8d5e7c17bef"
      },
      "source": [
        "daily_return = last_day.pct_change()\n",
        "print(daily_return.fillna(0))"
      ],
      "execution_count": 102,
      "outputs": [
        {
          "output_type": "stream",
          "name": "stdout",
          "text": [
            "Date\n",
            "2017-01-31    0.000000\n",
            "2017-02-28    0.133778\n",
            "2017-03-31    0.048690\n",
            "2017-04-30   -0.000070\n",
            "2017-05-31    0.067807\n",
            "2017-06-30   -0.057214\n",
            "2017-07-31    0.032704\n",
            "2017-08-31    0.107000\n",
            "2017-09-30   -0.060244\n",
            "2017-10-31    0.096808\n",
            "2017-11-30    0.020278\n",
            "2017-12-31   -0.015246\n",
            "Freq: M, Name: Close, dtype: float64\n"
          ]
        }
      ]
    },
    {
      "cell_type": "code",
      "metadata": {
        "id": "wtn7XBOZ8TaQ",
        "colab": {
          "base_uri": "https://localhost:8080/"
        },
        "outputId": "418bafda-dea8-40af-ca2d-3a927136e900"
      },
      "source": [
        "\n",
        "# Fill na with 0\n",
        "amd_daily_return = amd_last_day.pct_change()\n",
        "amd_daily_return.fillna(0)"
      ],
      "execution_count": 103,
      "outputs": [
        {
          "output_type": "execute_result",
          "data": {
            "text/plain": [
              "Date\n",
              "2021-01-31    0.000000\n",
              "2021-02-28    0.048459\n",
              "2021-03-31   -0.127689\n",
              "2021-04-30    0.016970\n",
              "2021-05-31   -0.109004\n",
              "2021-06-30    0.099299\n",
              "2021-07-31    0.070229\n",
              "2021-08-31    0.262025\n",
              "Freq: M, Name: Open, dtype: float64"
            ]
          },
          "metadata": {},
          "execution_count": 103
        }
      ]
    },
    {
      "cell_type": "markdown",
      "metadata": {
        "id": "BYS10Om1NQVC"
      },
      "source": [
        "Alternatively, we can fill a NaN with the next fitted value. This is called 'backward fill', or 'bfill' in short:"
      ]
    },
    {
      "cell_type": "code",
      "metadata": {
        "id": "J513kHeKHW9-",
        "colab": {
          "base_uri": "https://localhost:8080/"
        },
        "outputId": "94f7dee7-af67-42fd-9121-aa9824fa7ff1"
      },
      "source": [
        "daily_return = last_day.pct_change()\n",
        "print(daily_return.fillna(method = 'bfill'))"
      ],
      "execution_count": 104,
      "outputs": [
        {
          "output_type": "stream",
          "name": "stdout",
          "text": [
            "Date\n",
            "2017-01-31    0.133778\n",
            "2017-02-28    0.133778\n",
            "2017-03-31    0.048690\n",
            "2017-04-30   -0.000070\n",
            "2017-05-31    0.067807\n",
            "2017-06-30   -0.057214\n",
            "2017-07-31    0.032704\n",
            "2017-08-31    0.107000\n",
            "2017-09-30   -0.060244\n",
            "2017-10-31    0.096808\n",
            "2017-11-30    0.020278\n",
            "2017-12-31   -0.015246\n",
            "Freq: M, Name: Close, dtype: float64\n"
          ]
        }
      ]
    },
    {
      "cell_type": "code",
      "metadata": {
        "id": "tD0NFbmd9M0d",
        "colab": {
          "base_uri": "https://localhost:8080/"
        },
        "outputId": "56895a68-c673-46dc-8977-8f57a4395877"
      },
      "source": [
        "\n",
        "# Backward fill\n",
        "amd_daily_return = amd_last_day.pct_change()\n",
        "amd_daily_return.fillna(method = 'bfill')"
      ],
      "execution_count": 109,
      "outputs": [
        {
          "output_type": "execute_result",
          "data": {
            "text/plain": [
              "Date\n",
              "2021-01-31    0.048459\n",
              "2021-02-28    0.048459\n",
              "2021-03-31   -0.127689\n",
              "2021-04-30    0.016970\n",
              "2021-05-31   -0.109004\n",
              "2021-06-30    0.099299\n",
              "2021-07-31    0.070229\n",
              "2021-08-31    0.262025\n",
              "Freq: M, Name: Open, dtype: float64"
            ]
          },
          "metadata": {},
          "execution_count": 109
        }
      ]
    },
    {
      "cell_type": "markdown",
      "metadata": {
        "id": "bj8QUSgdNepf"
      },
      "source": [
        "As expected, since there is a 'backward fill' method, there must be a 'forward fill' method, or 'ffill' in short. However we can't use it here because the NaN is the first value.\n",
        "\n",
        "We can also simply remove NaN values by **_.dropna()_**"
      ]
    },
    {
      "cell_type": "code",
      "metadata": {
        "id": "WG5ux1lqHW9-",
        "colab": {
          "base_uri": "https://localhost:8080/"
        },
        "outputId": "5c94eb8e-9fcf-410b-de11-09b415edd519"
      },
      "source": [
        "daily_return = last_day.pct_change()\n",
        "daily_return.dropna()"
      ],
      "execution_count": 110,
      "outputs": [
        {
          "output_type": "execute_result",
          "data": {
            "text/plain": [
              "Date\n",
              "2017-02-28    0.133778\n",
              "2017-03-31    0.048690\n",
              "2017-04-30   -0.000070\n",
              "2017-05-31    0.067807\n",
              "2017-06-30   -0.057214\n",
              "2017-07-31    0.032704\n",
              "2017-08-31    0.107000\n",
              "2017-09-30   -0.060244\n",
              "2017-10-31    0.096808\n",
              "2017-11-30    0.020278\n",
              "2017-12-31   -0.015246\n",
              "Freq: M, Name: Close, dtype: float64"
            ]
          },
          "metadata": {},
          "execution_count": 110
        }
      ]
    },
    {
      "cell_type": "code",
      "metadata": {
        "id": "rayLBwQLBnCe",
        "colab": {
          "base_uri": "https://localhost:8080/"
        },
        "outputId": "251b4cb7-eb0c-425d-f2ca-5dce05a0d4d8"
      },
      "source": [
        " \n",
        "amd_daily_return = amd_last_day.pct_change()\n",
        "amd_daily_return.dropna()"
      ],
      "execution_count": 111,
      "outputs": [
        {
          "output_type": "execute_result",
          "data": {
            "text/plain": [
              "Date\n",
              "2021-02-28    0.048459\n",
              "2021-03-31   -0.127689\n",
              "2021-04-30    0.016970\n",
              "2021-05-31   -0.109004\n",
              "2021-06-30    0.099299\n",
              "2021-07-31    0.070229\n",
              "2021-08-31    0.262025\n",
              "Freq: M, Name: Open, dtype: float64"
            ]
          },
          "metadata": {},
          "execution_count": 111
        }
      ]
    },
    {
      "cell_type": "markdown",
      "metadata": {
        "id": "nQH2eBWkNjdC"
      },
      "source": [
        "# DataFrame\n",
        "The **DataFrame** is the most commonly used data structure in Pandas. It is essentially a table, just like an Excel spreadsheet.\n",
        "\n",
        "More precisely, a DataFrame is a collection of Series objects, each of which may contain different data types. A DataFrame can be created from various data types: dictionary, 2-D numpy.ndarray, a Series or another DataFrame.\n",
        "\n",
        "## Create DataFrames\n",
        "\n",
        "The most common method of creating a DataFrame is passing a dictionary:"
      ]
    },
    {
      "cell_type": "code",
      "metadata": {
        "id": "vd5Wf1ohHW9-",
        "colab": {
          "base_uri": "https://localhost:8080/",
          "height": 204
        },
        "outputId": "897fe260-aa1a-4127-e916-73982631847b"
      },
      "source": [
        "import pandas as pd\n",
        "\n",
        "example_dict = {'AAPL': [143.5, 144.09, 142.73, 144.18, 143.77],'GOOG':[898.7, 911.71, 906.69, 918.59, 926.99],\n",
        "        'IBM':[155.58, 153.67, 152.36, 152.94, 153.49]}\n",
        "data_index = pd.date_range('2017-07-03',periods = 5, freq = 'D')\n",
        "df = pd.DataFrame(example_dict, index = data_index)\n",
        "df"
      ],
      "execution_count": 112,
      "outputs": [
        {
          "output_type": "execute_result",
          "data": {
            "text/html": [
              "<div>\n",
              "<style scoped>\n",
              "    .dataframe tbody tr th:only-of-type {\n",
              "        vertical-align: middle;\n",
              "    }\n",
              "\n",
              "    .dataframe tbody tr th {\n",
              "        vertical-align: top;\n",
              "    }\n",
              "\n",
              "    .dataframe thead th {\n",
              "        text-align: right;\n",
              "    }\n",
              "</style>\n",
              "<table border=\"1\" class=\"dataframe\">\n",
              "  <thead>\n",
              "    <tr style=\"text-align: right;\">\n",
              "      <th></th>\n",
              "      <th>AAPL</th>\n",
              "      <th>GOOG</th>\n",
              "      <th>IBM</th>\n",
              "    </tr>\n",
              "  </thead>\n",
              "  <tbody>\n",
              "    <tr>\n",
              "      <th>2017-07-03</th>\n",
              "      <td>143.50</td>\n",
              "      <td>898.70</td>\n",
              "      <td>155.58</td>\n",
              "    </tr>\n",
              "    <tr>\n",
              "      <th>2017-07-04</th>\n",
              "      <td>144.09</td>\n",
              "      <td>911.71</td>\n",
              "      <td>153.67</td>\n",
              "    </tr>\n",
              "    <tr>\n",
              "      <th>2017-07-05</th>\n",
              "      <td>142.73</td>\n",
              "      <td>906.69</td>\n",
              "      <td>152.36</td>\n",
              "    </tr>\n",
              "    <tr>\n",
              "      <th>2017-07-06</th>\n",
              "      <td>144.18</td>\n",
              "      <td>918.59</td>\n",
              "      <td>152.94</td>\n",
              "    </tr>\n",
              "    <tr>\n",
              "      <th>2017-07-07</th>\n",
              "      <td>143.77</td>\n",
              "      <td>926.99</td>\n",
              "      <td>153.49</td>\n",
              "    </tr>\n",
              "  </tbody>\n",
              "</table>\n",
              "</div>"
            ],
            "text/plain": [
              "              AAPL    GOOG     IBM\n",
              "2017-07-03  143.50  898.70  155.58\n",
              "2017-07-04  144.09  911.71  153.67\n",
              "2017-07-05  142.73  906.69  152.36\n",
              "2017-07-06  144.18  918.59  152.94\n",
              "2017-07-07  143.77  926.99  153.49"
            ]
          },
          "metadata": {},
          "execution_count": 112
        }
      ]
    },
    {
      "cell_type": "code",
      "metadata": {
        "id": "DqusVYEtEunO",
        "colab": {
          "base_uri": "https://localhost:8080/",
          "height": 204
        },
        "outputId": "ab69ef8b-ca4f-448d-eb6c-1a9781b34ab8"
      },
      "source": [
        "import pandas as pd\n",
        "\n",
        "example_dict = {'AAPL': [143.5, 144.09, 142.73, 144.18, 143.77],'colores':[\"amarillo\",\"azul\",\"rojo\",\"verde\",\"amarillo\"],\n",
        "        'IBM':[x % 2 == 0 for x in range(5)]}\n",
        "data_index = pd.date_range('2017-07-03',periods = 5, freq = 'D')\n",
        "df = pd.DataFrame(example_dict, index = data_index)\n",
        "df"
      ],
      "execution_count": 115,
      "outputs": [
        {
          "output_type": "execute_result",
          "data": {
            "text/html": [
              "<div>\n",
              "<style scoped>\n",
              "    .dataframe tbody tr th:only-of-type {\n",
              "        vertical-align: middle;\n",
              "    }\n",
              "\n",
              "    .dataframe tbody tr th {\n",
              "        vertical-align: top;\n",
              "    }\n",
              "\n",
              "    .dataframe thead th {\n",
              "        text-align: right;\n",
              "    }\n",
              "</style>\n",
              "<table border=\"1\" class=\"dataframe\">\n",
              "  <thead>\n",
              "    <tr style=\"text-align: right;\">\n",
              "      <th></th>\n",
              "      <th>AAPL</th>\n",
              "      <th>colores</th>\n",
              "      <th>IBM</th>\n",
              "    </tr>\n",
              "  </thead>\n",
              "  <tbody>\n",
              "    <tr>\n",
              "      <th>2017-07-03</th>\n",
              "      <td>143.50</td>\n",
              "      <td>amarillo</td>\n",
              "      <td>True</td>\n",
              "    </tr>\n",
              "    <tr>\n",
              "      <th>2017-07-04</th>\n",
              "      <td>144.09</td>\n",
              "      <td>azul</td>\n",
              "      <td>False</td>\n",
              "    </tr>\n",
              "    <tr>\n",
              "      <th>2017-07-05</th>\n",
              "      <td>142.73</td>\n",
              "      <td>rojo</td>\n",
              "      <td>True</td>\n",
              "    </tr>\n",
              "    <tr>\n",
              "      <th>2017-07-06</th>\n",
              "      <td>144.18</td>\n",
              "      <td>verde</td>\n",
              "      <td>False</td>\n",
              "    </tr>\n",
              "    <tr>\n",
              "      <th>2017-07-07</th>\n",
              "      <td>143.77</td>\n",
              "      <td>amarillo</td>\n",
              "      <td>True</td>\n",
              "    </tr>\n",
              "  </tbody>\n",
              "</table>\n",
              "</div>"
            ],
            "text/plain": [
              "              AAPL   colores    IBM\n",
              "2017-07-03  143.50  amarillo   True\n",
              "2017-07-04  144.09      azul  False\n",
              "2017-07-05  142.73      rojo   True\n",
              "2017-07-06  144.18     verde  False\n",
              "2017-07-07  143.77  amarillo   True"
            ]
          },
          "metadata": {},
          "execution_count": 115
        }
      ]
    },
    {
      "cell_type": "markdown",
      "metadata": {
        "id": "0uYmLQTgOPnX"
      },
      "source": [
        "## Manipulating DataFrames\n",
        "We can fetch values in a DataFrame by columns and index. Each column in a DataFrame is essentially a Pandas Series. We can fetch a column by square brackets: **df['column_name']**\n",
        "\n",
        "If a column name contains no spaces, then we can also use df.column_name to fetch a column:"
      ]
    },
    {
      "cell_type": "code",
      "metadata": {
        "id": "2pB2f7lBHW9_",
        "colab": {
          "base_uri": "https://localhost:8080/"
        },
        "outputId": "5e0031ae-a793-42fc-e493-bef5c9d8f449"
      },
      "source": [
        "df = aapl_table\n",
        "print(df.Close.tail(5))\n",
        "print(df['Volume'].tail(5))"
      ],
      "execution_count": 116,
      "outputs": [
        {
          "output_type": "stream",
          "name": "stdout",
          "text": [
            "Date\n",
            "2017-12-22    41.906776\n",
            "2017-12-26    40.843601\n",
            "2017-12-27    40.850784\n",
            "2017-12-28    40.965725\n",
            "2017-12-29    40.522724\n",
            "Name: Close, dtype: float64\n",
            "Date\n",
            "2017-12-22     65397600\n",
            "2017-12-26    132742000\n",
            "2017-12-27     85992800\n",
            "2017-12-28     65920800\n",
            "2017-12-29    103999600\n",
            "Name: Volume, dtype: int64\n"
          ]
        }
      ]
    },
    {
      "cell_type": "code",
      "metadata": {
        "id": "HS_eqZuzIA3o",
        "colab": {
          "base_uri": "https://localhost:8080/"
        },
        "outputId": "4c4015e2-38d7-460b-edc9-869ac952ad5c"
      },
      "source": [
        "\n",
        "amd_df = amd_table\n",
        "print(amd.tail(5))\n",
        "print(amd.Open.tail(5))\n"
      ],
      "execution_count": 126,
      "outputs": [
        {
          "output_type": "stream",
          "name": "stdout",
          "text": [
            "                  Open        High  ...  Dividends  Stock Splits\n",
            "Date                                ...                         \n",
            "2021-08-25  108.129997  109.910004  ...          0             0\n",
            "2021-08-26  108.570000  109.230003  ...          0             0\n",
            "2021-08-27  108.010002  111.779999  ...          0             0\n",
            "2021-08-30  112.610001  114.489998  ...          0             0\n",
            "2021-08-31  111.260002  111.260002  ...          0             0\n",
            "\n",
            "[5 rows x 7 columns]\n",
            "Date\n",
            "2021-08-25    108.129997\n",
            "2021-08-26    108.570000\n",
            "2021-08-27    108.010002\n",
            "2021-08-30    112.610001\n",
            "2021-08-31    111.260002\n",
            "Name: Open, dtype: float64\n"
          ]
        }
      ]
    },
    {
      "cell_type": "markdown",
      "metadata": {
        "id": "z0ugOel9O4-P"
      },
      "source": [
        "All the methods we applied to a Series index such as iloc[], loc[] and resampling methods, can also be applied to a DataFrame:"
      ]
    },
    {
      "cell_type": "code",
      "metadata": {
        "id": "_8dfjkedHW9_",
        "colab": {
          "base_uri": "https://localhost:8080/",
          "height": 452
        },
        "outputId": "ec05b1e9-3a83-4be8-b553-876e974d3d58"
      },
      "source": [
        "aapl_2016 = df['2016']\n",
        "aapl_month = aapl_2016.resample('M').agg(lambda x: x[-1])\n",
        "aapl_month"
      ],
      "execution_count": 134,
      "outputs": [
        {
          "output_type": "execute_result",
          "data": {
            "text/html": [
              "<div>\n",
              "<style scoped>\n",
              "    .dataframe tbody tr th:only-of-type {\n",
              "        vertical-align: middle;\n",
              "    }\n",
              "\n",
              "    .dataframe tbody tr th {\n",
              "        vertical-align: top;\n",
              "    }\n",
              "\n",
              "    .dataframe thead th {\n",
              "        text-align: right;\n",
              "    }\n",
              "</style>\n",
              "<table border=\"1\" class=\"dataframe\">\n",
              "  <thead>\n",
              "    <tr style=\"text-align: right;\">\n",
              "      <th></th>\n",
              "      <th>Open</th>\n",
              "      <th>High</th>\n",
              "      <th>Low</th>\n",
              "      <th>Close</th>\n",
              "      <th>Volume</th>\n",
              "      <th>Dividends</th>\n",
              "      <th>Stock Splits</th>\n",
              "    </tr>\n",
              "    <tr>\n",
              "      <th>Date</th>\n",
              "      <th></th>\n",
              "      <th></th>\n",
              "      <th></th>\n",
              "      <th></th>\n",
              "      <th></th>\n",
              "      <th></th>\n",
              "      <th></th>\n",
              "    </tr>\n",
              "  </thead>\n",
              "  <tbody>\n",
              "    <tr>\n",
              "      <th>2016-01-31</th>\n",
              "      <td>21.852384</td>\n",
              "      <td>22.440247</td>\n",
              "      <td>21.750948</td>\n",
              "      <td>22.440247</td>\n",
              "      <td>257666000</td>\n",
              "      <td>0.0</td>\n",
              "      <td>0</td>\n",
              "    </tr>\n",
              "    <tr>\n",
              "      <th>2016-02-29</th>\n",
              "      <td>22.450757</td>\n",
              "      <td>22.768304</td>\n",
              "      <td>22.402082</td>\n",
              "      <td>22.411354</td>\n",
              "      <td>140865200</td>\n",
              "      <td>0.0</td>\n",
              "      <td>0</td>\n",
              "    </tr>\n",
              "    <tr>\n",
              "      <th>2016-03-31</th>\n",
              "      <td>25.431520</td>\n",
              "      <td>25.473242</td>\n",
              "      <td>25.236819</td>\n",
              "      <td>25.262316</td>\n",
              "      <td>103553600</td>\n",
              "      <td>0.0</td>\n",
              "      <td>0</td>\n",
              "    </tr>\n",
              "    <tr>\n",
              "      <th>2016-04-30</th>\n",
              "      <td>21.785533</td>\n",
              "      <td>21.954737</td>\n",
              "      <td>21.442491</td>\n",
              "      <td>21.727587</td>\n",
              "      <td>274126000</td>\n",
              "      <td>0.0</td>\n",
              "      <td>0</td>\n",
              "    </tr>\n",
              "    <tr>\n",
              "      <th>2016-05-31</th>\n",
              "      <td>23.226409</td>\n",
              "      <td>23.412967</td>\n",
              "      <td>23.044516</td>\n",
              "      <td>23.287041</td>\n",
              "      <td>169228800</td>\n",
              "      <td>0.0</td>\n",
              "      <td>0</td>\n",
              "    </tr>\n",
              "    <tr>\n",
              "      <th>2016-06-30</th>\n",
              "      <td>22.023112</td>\n",
              "      <td>22.333262</td>\n",
              "      <td>21.990464</td>\n",
              "      <td>22.293619</td>\n",
              "      <td>143345600</td>\n",
              "      <td>0.0</td>\n",
              "      <td>0</td>\n",
              "    </tr>\n",
              "    <tr>\n",
              "      <th>2016-07-31</th>\n",
              "      <td>24.296776</td>\n",
              "      <td>24.380727</td>\n",
              "      <td>24.177845</td>\n",
              "      <td>24.301439</td>\n",
              "      <td>110934800</td>\n",
              "      <td>0.0</td>\n",
              "      <td>0</td>\n",
              "    </tr>\n",
              "    <tr>\n",
              "      <th>2016-08-31</th>\n",
              "      <td>24.773058</td>\n",
              "      <td>24.986415</td>\n",
              "      <td>24.768367</td>\n",
              "      <td>24.876219</td>\n",
              "      <td>118649600</td>\n",
              "      <td>0.0</td>\n",
              "      <td>0</td>\n",
              "    </tr>\n",
              "    <tr>\n",
              "      <th>2016-09-30</th>\n",
              "      <td>26.367390</td>\n",
              "      <td>26.580749</td>\n",
              "      <td>26.212647</td>\n",
              "      <td>26.505722</td>\n",
              "      <td>145516400</td>\n",
              "      <td>0.0</td>\n",
              "      <td>0</td>\n",
              "    </tr>\n",
              "    <tr>\n",
              "      <th>2016-10-31</th>\n",
              "      <td>26.646394</td>\n",
              "      <td>26.782382</td>\n",
              "      <td>26.540886</td>\n",
              "      <td>26.620604</td>\n",
              "      <td>105677600</td>\n",
              "      <td>0.0</td>\n",
              "      <td>0</td>\n",
              "    </tr>\n",
              "    <tr>\n",
              "      <th>2016-11-30</th>\n",
              "      <td>26.300090</td>\n",
              "      <td>26.441488</td>\n",
              "      <td>25.986656</td>\n",
              "      <td>26.045572</td>\n",
              "      <td>144649200</td>\n",
              "      <td>0.0</td>\n",
              "      <td>0</td>\n",
              "    </tr>\n",
              "    <tr>\n",
              "      <th>2016-12-31</th>\n",
              "      <td>27.490193</td>\n",
              "      <td>27.619807</td>\n",
              "      <td>27.202683</td>\n",
              "      <td>27.294592</td>\n",
              "      <td>122345200</td>\n",
              "      <td>0.0</td>\n",
              "      <td>0</td>\n",
              "    </tr>\n",
              "  </tbody>\n",
              "</table>\n",
              "</div>"
            ],
            "text/plain": [
              "                 Open       High        Low  ...     Volume  Dividends  Stock Splits\n",
              "Date                                         ...                                    \n",
              "2016-01-31  21.852384  22.440247  21.750948  ...  257666000        0.0             0\n",
              "2016-02-29  22.450757  22.768304  22.402082  ...  140865200        0.0             0\n",
              "2016-03-31  25.431520  25.473242  25.236819  ...  103553600        0.0             0\n",
              "2016-04-30  21.785533  21.954737  21.442491  ...  274126000        0.0             0\n",
              "2016-05-31  23.226409  23.412967  23.044516  ...  169228800        0.0             0\n",
              "2016-06-30  22.023112  22.333262  21.990464  ...  143345600        0.0             0\n",
              "2016-07-31  24.296776  24.380727  24.177845  ...  110934800        0.0             0\n",
              "2016-08-31  24.773058  24.986415  24.768367  ...  118649600        0.0             0\n",
              "2016-09-30  26.367390  26.580749  26.212647  ...  145516400        0.0             0\n",
              "2016-10-31  26.646394  26.782382  26.540886  ...  105677600        0.0             0\n",
              "2016-11-30  26.300090  26.441488  25.986656  ...  144649200        0.0             0\n",
              "2016-12-31  27.490193  27.619807  27.202683  ...  122345200        0.0             0\n",
              "\n",
              "[12 rows x 7 columns]"
            ]
          },
          "metadata": {},
          "execution_count": 134
        }
      ]
    },
    {
      "cell_type": "code",
      "metadata": {
        "id": "5fFnFtYbJFlX",
        "colab": {
          "base_uri": "https://localhost:8080/",
          "height": 328
        },
        "outputId": "75b455b0-e272-416c-836f-0456bd373b1a"
      },
      "source": [
        "amd_2021 =amd_df['2021']\n",
        "amd_month = amd_2021.resample('M').agg(lambda x: np.max(x)-np.min(x))\n",
        "amd_month"
      ],
      "execution_count": 142,
      "outputs": [
        {
          "output_type": "execute_result",
          "data": {
            "text/html": [
              "<div>\n",
              "<style scoped>\n",
              "    .dataframe tbody tr th:only-of-type {\n",
              "        vertical-align: middle;\n",
              "    }\n",
              "\n",
              "    .dataframe tbody tr th {\n",
              "        vertical-align: top;\n",
              "    }\n",
              "\n",
              "    .dataframe thead th {\n",
              "        text-align: right;\n",
              "    }\n",
              "</style>\n",
              "<table border=\"1\" class=\"dataframe\">\n",
              "  <thead>\n",
              "    <tr style=\"text-align: right;\">\n",
              "      <th></th>\n",
              "      <th>Open</th>\n",
              "      <th>High</th>\n",
              "      <th>Low</th>\n",
              "      <th>Close</th>\n",
              "      <th>Volume</th>\n",
              "      <th>Dividends</th>\n",
              "      <th>Stock Splits</th>\n",
              "    </tr>\n",
              "    <tr>\n",
              "      <th>Date</th>\n",
              "      <th></th>\n",
              "      <th></th>\n",
              "      <th></th>\n",
              "      <th></th>\n",
              "      <th></th>\n",
              "      <th></th>\n",
              "      <th></th>\n",
              "    </tr>\n",
              "  </thead>\n",
              "  <tbody>\n",
              "    <tr>\n",
              "      <th>2021-01-31</th>\n",
              "      <td>10.300003</td>\n",
              "      <td>10.900002</td>\n",
              "      <td>9.050003</td>\n",
              "      <td>11.610001</td>\n",
              "      <td>39133200</td>\n",
              "      <td>0</td>\n",
              "      <td>0</td>\n",
              "    </tr>\n",
              "    <tr>\n",
              "      <th>2021-02-28</th>\n",
              "      <td>10.500000</td>\n",
              "      <td>9.110001</td>\n",
              "      <td>12.540001</td>\n",
              "      <td>11.349998</td>\n",
              "      <td>25076800</td>\n",
              "      <td>0</td>\n",
              "      <td>0</td>\n",
              "    </tr>\n",
              "    <tr>\n",
              "      <th>2021-03-31</th>\n",
              "      <td>11.070000</td>\n",
              "      <td>10.389999</td>\n",
              "      <td>10.180000</td>\n",
              "      <td>12.430000</td>\n",
              "      <td>27803200</td>\n",
              "      <td>0</td>\n",
              "      <td>0</td>\n",
              "    </tr>\n",
              "    <tr>\n",
              "      <th>2021-04-30</th>\n",
              "      <td>9.860001</td>\n",
              "      <td>9.070000</td>\n",
              "      <td>7.189995</td>\n",
              "      <td>6.860001</td>\n",
              "      <td>79592400</td>\n",
              "      <td>0</td>\n",
              "      <td>0</td>\n",
              "    </tr>\n",
              "    <tr>\n",
              "      <th>2021-05-31</th>\n",
              "      <td>8.809998</td>\n",
              "      <td>6.970001</td>\n",
              "      <td>6.160004</td>\n",
              "      <td>6.990005</td>\n",
              "      <td>43612200</td>\n",
              "      <td>0</td>\n",
              "      <td>0</td>\n",
              "    </tr>\n",
              "    <tr>\n",
              "      <th>2021-06-30</th>\n",
              "      <td>10.800003</td>\n",
              "      <td>12.889999</td>\n",
              "      <td>11.639999</td>\n",
              "      <td>13.970001</td>\n",
              "      <td>53511900</td>\n",
              "      <td>0</td>\n",
              "      <td>0</td>\n",
              "    </tr>\n",
              "    <tr>\n",
              "      <th>2021-07-31</th>\n",
              "      <td>16.610001</td>\n",
              "      <td>19.739998</td>\n",
              "      <td>17.139999</td>\n",
              "      <td>20.300003</td>\n",
              "      <td>136423300</td>\n",
              "      <td>0</td>\n",
              "      <td>0</td>\n",
              "    </tr>\n",
              "    <tr>\n",
              "      <th>2021-08-31</th>\n",
              "      <td>13.309998</td>\n",
              "      <td>16.509995</td>\n",
              "      <td>12.180000</td>\n",
              "      <td>15.329994</td>\n",
              "      <td>179883200</td>\n",
              "      <td>0</td>\n",
              "      <td>0</td>\n",
              "    </tr>\n",
              "  </tbody>\n",
              "</table>\n",
              "</div>"
            ],
            "text/plain": [
              "                 Open       High        Low  ...     Volume  Dividends  Stock Splits\n",
              "Date                                         ...                                    \n",
              "2021-01-31  10.300003  10.900002   9.050003  ...   39133200          0             0\n",
              "2021-02-28  10.500000   9.110001  12.540001  ...   25076800          0             0\n",
              "2021-03-31  11.070000  10.389999  10.180000  ...   27803200          0             0\n",
              "2021-04-30   9.860001   9.070000   7.189995  ...   79592400          0             0\n",
              "2021-05-31   8.809998   6.970001   6.160004  ...   43612200          0             0\n",
              "2021-06-30  10.800003  12.889999  11.639999  ...   53511900          0             0\n",
              "2021-07-31  16.610001  19.739998  17.139999  ...  136423300          0             0\n",
              "2021-08-31  13.309998  16.509995  12.180000  ...  179883200          0             0\n",
              "\n",
              "[8 rows x 7 columns]"
            ]
          },
          "metadata": {},
          "execution_count": 142
        }
      ]
    },
    {
      "cell_type": "markdown",
      "metadata": {
        "id": "CqrbrbFZPTJe"
      },
      "source": [
        "We may select certain columns of a DataFrame using their names:"
      ]
    },
    {
      "cell_type": "code",
      "metadata": {
        "id": "7bQGeyCAHW9_",
        "colab": {
          "base_uri": "https://localhost:8080/"
        },
        "outputId": "d52cbaa0-b357-4967-e46d-72a17cdefa9f"
      },
      "source": [
        "aapl_bar = aapl_month[['Open', 'High', 'Low', 'Close']]\n",
        "print(aapl_bar)"
      ],
      "execution_count": 138,
      "outputs": [
        {
          "output_type": "stream",
          "name": "stdout",
          "text": [
            "                 Open       High        Low      Close\n",
            "Date                                                  \n",
            "2016-01-31  21.852384  22.440247  21.750948  22.440247\n",
            "2016-02-29  22.450757  22.768304  22.402082  22.411354\n",
            "2016-03-31  25.431520  25.473242  25.236819  25.262316\n",
            "2016-04-30  21.785533  21.954737  21.442491  21.727587\n",
            "2016-05-31  23.226409  23.412967  23.044516  23.287041\n",
            "2016-06-30  22.023112  22.333262  21.990464  22.293619\n",
            "2016-07-31  24.296776  24.380727  24.177845  24.301439\n",
            "2016-08-31  24.773058  24.986415  24.768367  24.876219\n",
            "2016-09-30  26.367390  26.580749  26.212647  26.505722\n",
            "2016-10-31  26.646394  26.782382  26.540886  26.620604\n",
            "2016-11-30  26.300090  26.441488  25.986656  26.045572\n",
            "2016-12-31  27.490193  27.619807  27.202683  27.294592\n"
          ]
        }
      ]
    },
    {
      "cell_type": "code",
      "metadata": {
        "id": "zTAX8atgLV6Q",
        "colab": {
          "base_uri": "https://localhost:8080/"
        },
        "outputId": "a93945f5-7bb7-4e2f-86c8-6e351cf540e9"
      },
      "source": [
        "\n",
        "amd_bar = amd_month[['High','Open']]\n",
        "print(amd_bar)\n"
      ],
      "execution_count": 143,
      "outputs": [
        {
          "output_type": "stream",
          "name": "stdout",
          "text": [
            "                 High       Open\n",
            "Date                            \n",
            "2021-01-31  10.900002  10.300003\n",
            "2021-02-28   9.110001  10.500000\n",
            "2021-03-31  10.389999  11.070000\n",
            "2021-04-30   9.070000   9.860001\n",
            "2021-05-31   6.970001   8.809998\n",
            "2021-06-30  12.889999  10.800003\n",
            "2021-07-31  19.739998  16.610001\n",
            "2021-08-31  16.509995  13.309998\n"
          ]
        }
      ]
    },
    {
      "cell_type": "markdown",
      "metadata": {
        "id": "8CQaZCAQP68O"
      },
      "source": [
        "We can even specify both rows and columns using loc[]. The row indices and column names are separated by a comma:"
      ]
    },
    {
      "cell_type": "code",
      "metadata": {
        "id": "YjWWiHVpHW-A",
        "colab": {
          "base_uri": "https://localhost:8080/"
        },
        "outputId": "f5425c4b-3946-49cf-9eae-c856c40258e0"
      },
      "source": [
        "print(aapl_month.loc['2016-03':'2016-06',['Open', 'High', 'Low', 'Close']])"
      ],
      "execution_count": 144,
      "outputs": [
        {
          "output_type": "stream",
          "name": "stdout",
          "text": [
            "                 Open       High        Low      Close\n",
            "Date                                                  \n",
            "2016-03-31  25.431520  25.473242  25.236819  25.262316\n",
            "2016-04-30  21.785533  21.954737  21.442491  21.727587\n",
            "2016-05-31  23.226409  23.412967  23.044516  23.287041\n",
            "2016-06-30  22.023112  22.333262  21.990464  22.293619\n"
          ]
        }
      ]
    },
    {
      "cell_type": "code",
      "metadata": {
        "id": "PDWY38ybMjyn",
        "colab": {
          "base_uri": "https://localhost:8080/",
          "height": 235
        },
        "outputId": "b0821bc3-3294-4cef-9ac5-d3a86f22a462"
      },
      "source": [
        "\n",
        "amd_month.loc['2020-03':'2021-05',['Open', 'High', 'Low', 'Close']]"
      ],
      "execution_count": 146,
      "outputs": [
        {
          "output_type": "execute_result",
          "data": {
            "text/html": [
              "<div>\n",
              "<style scoped>\n",
              "    .dataframe tbody tr th:only-of-type {\n",
              "        vertical-align: middle;\n",
              "    }\n",
              "\n",
              "    .dataframe tbody tr th {\n",
              "        vertical-align: top;\n",
              "    }\n",
              "\n",
              "    .dataframe thead th {\n",
              "        text-align: right;\n",
              "    }\n",
              "</style>\n",
              "<table border=\"1\" class=\"dataframe\">\n",
              "  <thead>\n",
              "    <tr style=\"text-align: right;\">\n",
              "      <th></th>\n",
              "      <th>Open</th>\n",
              "      <th>High</th>\n",
              "      <th>Low</th>\n",
              "      <th>Close</th>\n",
              "    </tr>\n",
              "    <tr>\n",
              "      <th>Date</th>\n",
              "      <th></th>\n",
              "      <th></th>\n",
              "      <th></th>\n",
              "      <th></th>\n",
              "    </tr>\n",
              "  </thead>\n",
              "  <tbody>\n",
              "    <tr>\n",
              "      <th>2021-01-31</th>\n",
              "      <td>10.300003</td>\n",
              "      <td>10.900002</td>\n",
              "      <td>9.050003</td>\n",
              "      <td>11.610001</td>\n",
              "    </tr>\n",
              "    <tr>\n",
              "      <th>2021-02-28</th>\n",
              "      <td>10.500000</td>\n",
              "      <td>9.110001</td>\n",
              "      <td>12.540001</td>\n",
              "      <td>11.349998</td>\n",
              "    </tr>\n",
              "    <tr>\n",
              "      <th>2021-03-31</th>\n",
              "      <td>11.070000</td>\n",
              "      <td>10.389999</td>\n",
              "      <td>10.180000</td>\n",
              "      <td>12.430000</td>\n",
              "    </tr>\n",
              "    <tr>\n",
              "      <th>2021-04-30</th>\n",
              "      <td>9.860001</td>\n",
              "      <td>9.070000</td>\n",
              "      <td>7.189995</td>\n",
              "      <td>6.860001</td>\n",
              "    </tr>\n",
              "    <tr>\n",
              "      <th>2021-05-31</th>\n",
              "      <td>8.809998</td>\n",
              "      <td>6.970001</td>\n",
              "      <td>6.160004</td>\n",
              "      <td>6.990005</td>\n",
              "    </tr>\n",
              "  </tbody>\n",
              "</table>\n",
              "</div>"
            ],
            "text/plain": [
              "                 Open       High        Low      Close\n",
              "Date                                                  \n",
              "2021-01-31  10.300003  10.900002   9.050003  11.610001\n",
              "2021-02-28  10.500000   9.110001  12.540001  11.349998\n",
              "2021-03-31  11.070000  10.389999  10.180000  12.430000\n",
              "2021-04-30   9.860001   9.070000   7.189995   6.860001\n",
              "2021-05-31   8.809998   6.970001   6.160004   6.990005"
            ]
          },
          "metadata": {},
          "execution_count": 146
        }
      ]
    },
    {
      "cell_type": "markdown",
      "metadata": {
        "id": "Xcn_pHNLQBEH"
      },
      "source": [
        "The subset methods in DataFrame is quite useful. By writing logical statements in square brackets, we can make customized subsets:"
      ]
    },
    {
      "cell_type": "code",
      "metadata": {
        "id": "RxKg4dObHW-A",
        "colab": {
          "base_uri": "https://localhost:8080/"
        },
        "outputId": "6368fdd2-dc09-415b-83db-2c7289af8c89"
      },
      "source": [
        "import numpy as np\n",
        "\n",
        "above = aapl_bar[aapl_bar.Close > np.mean(aapl_bar.Close)]\n",
        "print(above)"
      ],
      "execution_count": 147,
      "outputs": [
        {
          "output_type": "stream",
          "name": "stdout",
          "text": [
            "                 Open       High        Low      Close\n",
            "Date                                                  \n",
            "2016-03-31  25.431520  25.473242  25.236819  25.262316\n",
            "2016-08-31  24.773058  24.986415  24.768367  24.876219\n",
            "2016-09-30  26.367390  26.580749  26.212647  26.505722\n",
            "2016-10-31  26.646394  26.782382  26.540886  26.620604\n",
            "2016-11-30  26.300090  26.441488  25.986656  26.045572\n",
            "2016-12-31  27.490193  27.619807  27.202683  27.294592\n"
          ]
        }
      ]
    },
    {
      "cell_type": "code",
      "metadata": {
        "id": "278piO6KNIyG",
        "colab": {
          "base_uri": "https://localhost:8080/"
        },
        "outputId": "62ef3262-5e9d-4668-c6e8-33a79eb08b28"
      },
      "source": [
        "\n",
        "import numpy as np\n",
        "\n",
        "amd_above = amd_bar[amd_bar.High > np.mean(amd_bar.High)]\n",
        "print(\"only High greater than \" + str(np.mean(amd_bar.High)))\n",
        "print(amd_above)\n",
        "# using query()\n",
        "#above_query = 'High > {}'.format(np.mean(nvda_above.High))\n",
        "#nvda_above = amd_bar.query(above_query)\n",
        "#nvda_above"
      ],
      "execution_count": 151,
      "outputs": [
        {
          "output_type": "stream",
          "name": "stdout",
          "text": [
            "only High greater than 11.94749927520752\n",
            "                 High       Open\n",
            "Date                            \n",
            "2021-06-30  12.889999  10.800003\n",
            "2021-07-31  19.739998  16.610001\n",
            "2021-08-31  16.509995  13.309998\n"
          ]
        }
      ]
    },
    {
      "cell_type": "markdown",
      "metadata": {
        "id": "wcm_UadkQLL5"
      },
      "source": [
        "## Data Validation\n",
        "As mentioned, all methods that apply to a Series can also be applied to a DataFrame. Here we add a new column to an existing DataFrame:"
      ]
    },
    {
      "cell_type": "code",
      "metadata": {
        "id": "jZXFdOVFHW-A",
        "colab": {
          "base_uri": "https://localhost:8080/"
        },
        "outputId": "781d6944-d745-48d5-8cbf-b0f3fae0c538"
      },
      "source": [
        "aapl_bar['rate_return'] = aapl_bar.Close.pct_change()\n",
        "print(aapl_bar)"
      ],
      "execution_count": 152,
      "outputs": [
        {
          "output_type": "stream",
          "name": "stdout",
          "text": [
            "                 Open       High        Low      Close  rate_return\n",
            "Date                                                               \n",
            "2016-01-31  21.852384  22.440247  21.750948  22.440247          NaN\n",
            "2016-02-29  22.450757  22.768304  22.402082  22.411354    -0.001288\n",
            "2016-03-31  25.431520  25.473242  25.236819  25.262316     0.127211\n",
            "2016-04-30  21.785533  21.954737  21.442491  21.727587    -0.139921\n",
            "2016-05-31  23.226409  23.412967  23.044516  23.287041     0.071773\n",
            "2016-06-30  22.023112  22.333262  21.990464  22.293619    -0.042660\n",
            "2016-07-31  24.296776  24.380727  24.177845  24.301439     0.090063\n",
            "2016-08-31  24.773058  24.986415  24.768367  24.876219     0.023652\n",
            "2016-09-30  26.367390  26.580749  26.212647  26.505722     0.065504\n",
            "2016-10-31  26.646394  26.782382  26.540886  26.620604     0.004334\n",
            "2016-11-30  26.300090  26.441488  25.986656  26.045572    -0.021601\n",
            "2016-12-31  27.490193  27.619807  27.202683  27.294592     0.047955\n"
          ]
        },
        {
          "output_type": "stream",
          "name": "stderr",
          "text": [
            "/usr/local/lib/python3.7/dist-packages/ipykernel_launcher.py:1: SettingWithCopyWarning: \n",
            "A value is trying to be set on a copy of a slice from a DataFrame.\n",
            "Try using .loc[row_indexer,col_indexer] = value instead\n",
            "\n",
            "See the caveats in the documentation: https://pandas.pydata.org/pandas-docs/stable/user_guide/indexing.html#returning-a-view-versus-a-copy\n",
            "  \"\"\"Entry point for launching an IPython kernel.\n"
          ]
        }
      ]
    },
    {
      "cell_type": "code",
      "metadata": {
        "id": "ZfmeAz_jOmo0",
        "colab": {
          "base_uri": "https://localhost:8080/",
          "height": 430
        },
        "outputId": "a80cb098-589d-4af5-a644-97843517e61b"
      },
      "source": [
        "\n",
        "amd_bar['rate_return'] = amd_bar.High.pct_change()\n",
        "amd_bar"
      ],
      "execution_count": 153,
      "outputs": [
        {
          "output_type": "stream",
          "name": "stderr",
          "text": [
            "/usr/local/lib/python3.7/dist-packages/ipykernel_launcher.py:2: SettingWithCopyWarning: \n",
            "A value is trying to be set on a copy of a slice from a DataFrame.\n",
            "Try using .loc[row_indexer,col_indexer] = value instead\n",
            "\n",
            "See the caveats in the documentation: https://pandas.pydata.org/pandas-docs/stable/user_guide/indexing.html#returning-a-view-versus-a-copy\n",
            "  \n"
          ]
        },
        {
          "output_type": "execute_result",
          "data": {
            "text/html": [
              "<div>\n",
              "<style scoped>\n",
              "    .dataframe tbody tr th:only-of-type {\n",
              "        vertical-align: middle;\n",
              "    }\n",
              "\n",
              "    .dataframe tbody tr th {\n",
              "        vertical-align: top;\n",
              "    }\n",
              "\n",
              "    .dataframe thead th {\n",
              "        text-align: right;\n",
              "    }\n",
              "</style>\n",
              "<table border=\"1\" class=\"dataframe\">\n",
              "  <thead>\n",
              "    <tr style=\"text-align: right;\">\n",
              "      <th></th>\n",
              "      <th>High</th>\n",
              "      <th>Open</th>\n",
              "      <th>rate_return</th>\n",
              "    </tr>\n",
              "    <tr>\n",
              "      <th>Date</th>\n",
              "      <th></th>\n",
              "      <th></th>\n",
              "      <th></th>\n",
              "    </tr>\n",
              "  </thead>\n",
              "  <tbody>\n",
              "    <tr>\n",
              "      <th>2021-01-31</th>\n",
              "      <td>10.900002</td>\n",
              "      <td>10.300003</td>\n",
              "      <td>NaN</td>\n",
              "    </tr>\n",
              "    <tr>\n",
              "      <th>2021-02-28</th>\n",
              "      <td>9.110001</td>\n",
              "      <td>10.500000</td>\n",
              "      <td>-0.164220</td>\n",
              "    </tr>\n",
              "    <tr>\n",
              "      <th>2021-03-31</th>\n",
              "      <td>10.389999</td>\n",
              "      <td>11.070000</td>\n",
              "      <td>0.140505</td>\n",
              "    </tr>\n",
              "    <tr>\n",
              "      <th>2021-04-30</th>\n",
              "      <td>9.070000</td>\n",
              "      <td>9.860001</td>\n",
              "      <td>-0.127045</td>\n",
              "    </tr>\n",
              "    <tr>\n",
              "      <th>2021-05-31</th>\n",
              "      <td>6.970001</td>\n",
              "      <td>8.809998</td>\n",
              "      <td>-0.231532</td>\n",
              "    </tr>\n",
              "    <tr>\n",
              "      <th>2021-06-30</th>\n",
              "      <td>12.889999</td>\n",
              "      <td>10.800003</td>\n",
              "      <td>0.849354</td>\n",
              "    </tr>\n",
              "    <tr>\n",
              "      <th>2021-07-31</th>\n",
              "      <td>19.739998</td>\n",
              "      <td>16.610001</td>\n",
              "      <td>0.531420</td>\n",
              "    </tr>\n",
              "    <tr>\n",
              "      <th>2021-08-31</th>\n",
              "      <td>16.509995</td>\n",
              "      <td>13.309998</td>\n",
              "      <td>-0.163627</td>\n",
              "    </tr>\n",
              "  </tbody>\n",
              "</table>\n",
              "</div>"
            ],
            "text/plain": [
              "                 High       Open  rate_return\n",
              "Date                                         \n",
              "2021-01-31  10.900002  10.300003          NaN\n",
              "2021-02-28   9.110001  10.500000    -0.164220\n",
              "2021-03-31  10.389999  11.070000     0.140505\n",
              "2021-04-30   9.070000   9.860001    -0.127045\n",
              "2021-05-31   6.970001   8.809998    -0.231532\n",
              "2021-06-30  12.889999  10.800003     0.849354\n",
              "2021-07-31  19.739998  16.610001     0.531420\n",
              "2021-08-31  16.509995  13.309998    -0.163627"
            ]
          },
          "metadata": {},
          "execution_count": 153
        }
      ]
    },
    {
      "cell_type": "markdown",
      "metadata": {
        "id": "_or6n5-LQUa-"
      },
      "source": [
        "Here the calculation introduced a NaN value. If the DataFrame is large, we would not be able to observe it. **isnull()** provides a convenient way to check abnormal values."
      ]
    },
    {
      "cell_type": "code",
      "metadata": {
        "id": "V5wgmhIPHW-B",
        "colab": {
          "base_uri": "https://localhost:8080/"
        },
        "outputId": "eaf335ba-d0b0-4803-94af-1e7518314eae"
      },
      "source": [
        "missing = aapl_bar.isnull()\n",
        "print(missing)\n",
        "print('---------------------------------------------')\n",
        "print(missing.describe())"
      ],
      "execution_count": 154,
      "outputs": [
        {
          "output_type": "stream",
          "name": "stdout",
          "text": [
            "             Open   High    Low  Close  rate_return\n",
            "Date                                               \n",
            "2016-01-31  False  False  False  False         True\n",
            "2016-02-29  False  False  False  False        False\n",
            "2016-03-31  False  False  False  False        False\n",
            "2016-04-30  False  False  False  False        False\n",
            "2016-05-31  False  False  False  False        False\n",
            "2016-06-30  False  False  False  False        False\n",
            "2016-07-31  False  False  False  False        False\n",
            "2016-08-31  False  False  False  False        False\n",
            "2016-09-30  False  False  False  False        False\n",
            "2016-10-31  False  False  False  False        False\n",
            "2016-11-30  False  False  False  False        False\n",
            "2016-12-31  False  False  False  False        False\n",
            "---------------------------------------------\n",
            "         Open   High    Low  Close rate_return\n",
            "count      12     12     12     12          12\n",
            "unique      1      1      1      1           2\n",
            "top     False  False  False  False       False\n",
            "freq       12     12     12     12          11\n"
          ]
        }
      ]
    },
    {
      "cell_type": "code",
      "metadata": {
        "id": "qll5WFDbQHIO",
        "colab": {
          "base_uri": "https://localhost:8080/",
          "height": 343
        },
        "outputId": "91d765e4-3168-4dec-bf8c-ecba6a163d37"
      },
      "source": [
        "\n",
        "amd_missing = amd_bar.isnull()\n",
        "print(amd_missing)\n",
        "amd_missing.describe()\n"
      ],
      "execution_count": 156,
      "outputs": [
        {
          "output_type": "stream",
          "name": "stdout",
          "text": [
            "             High   Open  rate_return\n",
            "Date                                 \n",
            "2021-01-31  False  False         True\n",
            "2021-02-28  False  False        False\n",
            "2021-03-31  False  False        False\n",
            "2021-04-30  False  False        False\n",
            "2021-05-31  False  False        False\n",
            "2021-06-30  False  False        False\n",
            "2021-07-31  False  False        False\n",
            "2021-08-31  False  False        False\n"
          ]
        },
        {
          "output_type": "execute_result",
          "data": {
            "text/html": [
              "<div>\n",
              "<style scoped>\n",
              "    .dataframe tbody tr th:only-of-type {\n",
              "        vertical-align: middle;\n",
              "    }\n",
              "\n",
              "    .dataframe tbody tr th {\n",
              "        vertical-align: top;\n",
              "    }\n",
              "\n",
              "    .dataframe thead th {\n",
              "        text-align: right;\n",
              "    }\n",
              "</style>\n",
              "<table border=\"1\" class=\"dataframe\">\n",
              "  <thead>\n",
              "    <tr style=\"text-align: right;\">\n",
              "      <th></th>\n",
              "      <th>High</th>\n",
              "      <th>Open</th>\n",
              "      <th>rate_return</th>\n",
              "    </tr>\n",
              "  </thead>\n",
              "  <tbody>\n",
              "    <tr>\n",
              "      <th>count</th>\n",
              "      <td>8</td>\n",
              "      <td>8</td>\n",
              "      <td>8</td>\n",
              "    </tr>\n",
              "    <tr>\n",
              "      <th>unique</th>\n",
              "      <td>1</td>\n",
              "      <td>1</td>\n",
              "      <td>2</td>\n",
              "    </tr>\n",
              "    <tr>\n",
              "      <th>top</th>\n",
              "      <td>False</td>\n",
              "      <td>False</td>\n",
              "      <td>False</td>\n",
              "    </tr>\n",
              "    <tr>\n",
              "      <th>freq</th>\n",
              "      <td>8</td>\n",
              "      <td>8</td>\n",
              "      <td>7</td>\n",
              "    </tr>\n",
              "  </tbody>\n",
              "</table>\n",
              "</div>"
            ],
            "text/plain": [
              "         High   Open rate_return\n",
              "count       8      8           8\n",
              "unique      1      1           2\n",
              "top     False  False       False\n",
              "freq        8      8           7"
            ]
          },
          "metadata": {},
          "execution_count": 156
        }
      ]
    },
    {
      "cell_type": "markdown",
      "metadata": {
        "id": "d6KFV4i0QfLW"
      },
      "source": [
        "The row labelled \"unique\" indicates the number of unique values in each column. Since the \"rate_return\" column has 2 unique values, it has at least one missing value.\n",
        "\n",
        "We can deduce the number of missing values by comparing \"count\" with \"freq\". There are 12 counts and 11 False values, so there is one True value which corresponds to the missing value.\n",
        "\n",
        "We can also find the rows with missing values easily:"
      ]
    },
    {
      "cell_type": "code",
      "metadata": {
        "id": "Eo0ZAhCsHW-B",
        "colab": {
          "base_uri": "https://localhost:8080/"
        },
        "outputId": "bd23002a-8ee3-4507-a005-2d571afc9d7c"
      },
      "source": [
        "print(missing[missing.rate_return == True])"
      ],
      "execution_count": 157,
      "outputs": [
        {
          "output_type": "stream",
          "name": "stdout",
          "text": [
            "             Open   High    Low  Close  rate_return\n",
            "Date                                               \n",
            "2016-01-31  False  False  False  False         True\n"
          ]
        }
      ]
    },
    {
      "cell_type": "code",
      "metadata": {
        "id": "siUokEhCQeTn",
        "colab": {
          "base_uri": "https://localhost:8080/",
          "height": 111
        },
        "outputId": "20e7f944-5ca3-4eb8-f69f-e3fb3a54cf11"
      },
      "source": [
        "\n",
        "amd_missing[amd_missing.rate_return == True]"
      ],
      "execution_count": 158,
      "outputs": [
        {
          "output_type": "execute_result",
          "data": {
            "text/html": [
              "<div>\n",
              "<style scoped>\n",
              "    .dataframe tbody tr th:only-of-type {\n",
              "        vertical-align: middle;\n",
              "    }\n",
              "\n",
              "    .dataframe tbody tr th {\n",
              "        vertical-align: top;\n",
              "    }\n",
              "\n",
              "    .dataframe thead th {\n",
              "        text-align: right;\n",
              "    }\n",
              "</style>\n",
              "<table border=\"1\" class=\"dataframe\">\n",
              "  <thead>\n",
              "    <tr style=\"text-align: right;\">\n",
              "      <th></th>\n",
              "      <th>High</th>\n",
              "      <th>Open</th>\n",
              "      <th>rate_return</th>\n",
              "    </tr>\n",
              "    <tr>\n",
              "      <th>Date</th>\n",
              "      <th></th>\n",
              "      <th></th>\n",
              "      <th></th>\n",
              "    </tr>\n",
              "  </thead>\n",
              "  <tbody>\n",
              "    <tr>\n",
              "      <th>2021-01-31</th>\n",
              "      <td>False</td>\n",
              "      <td>False</td>\n",
              "      <td>True</td>\n",
              "    </tr>\n",
              "  </tbody>\n",
              "</table>\n",
              "</div>"
            ],
            "text/plain": [
              "             High   Open  rate_return\n",
              "Date                                 \n",
              "2021-01-31  False  False         True"
            ]
          },
          "metadata": {},
          "execution_count": 158
        }
      ]
    },
    {
      "cell_type": "markdown",
      "metadata": {
        "id": "qgggpD8OQkZX"
      },
      "source": [
        "Usually when dealing with missing data, we either delete the whole row or fill it with some value. As we introduced in the Series chapter, the same method **dropna()** and **fillna()** can be applied to a DataFrame."
      ]
    },
    {
      "cell_type": "code",
      "metadata": {
        "id": "j8PaIokjHW-B",
        "colab": {
          "base_uri": "https://localhost:8080/"
        },
        "outputId": "1b37ca2e-b145-42c3-b7fe-83990111f124"
      },
      "source": [
        "drop = aapl_bar.dropna()\n",
        "print(drop)\n",
        "print('\\n--------------------------------------------------\\n')\n",
        "fill = aapl_bar.fillna(0)\n",
        "print(fill)"
      ],
      "execution_count": 159,
      "outputs": [
        {
          "output_type": "stream",
          "name": "stdout",
          "text": [
            "                 Open       High        Low      Close  rate_return\n",
            "Date                                                               \n",
            "2016-02-29  22.450757  22.768304  22.402082  22.411354    -0.001288\n",
            "2016-03-31  25.431520  25.473242  25.236819  25.262316     0.127211\n",
            "2016-04-30  21.785533  21.954737  21.442491  21.727587    -0.139921\n",
            "2016-05-31  23.226409  23.412967  23.044516  23.287041     0.071773\n",
            "2016-06-30  22.023112  22.333262  21.990464  22.293619    -0.042660\n",
            "2016-07-31  24.296776  24.380727  24.177845  24.301439     0.090063\n",
            "2016-08-31  24.773058  24.986415  24.768367  24.876219     0.023652\n",
            "2016-09-30  26.367390  26.580749  26.212647  26.505722     0.065504\n",
            "2016-10-31  26.646394  26.782382  26.540886  26.620604     0.004334\n",
            "2016-11-30  26.300090  26.441488  25.986656  26.045572    -0.021601\n",
            "2016-12-31  27.490193  27.619807  27.202683  27.294592     0.047955\n",
            "\n",
            "--------------------------------------------------\n",
            "\n",
            "                 Open       High        Low      Close  rate_return\n",
            "Date                                                               \n",
            "2016-01-31  21.852384  22.440247  21.750948  22.440247     0.000000\n",
            "2016-02-29  22.450757  22.768304  22.402082  22.411354    -0.001288\n",
            "2016-03-31  25.431520  25.473242  25.236819  25.262316     0.127211\n",
            "2016-04-30  21.785533  21.954737  21.442491  21.727587    -0.139921\n",
            "2016-05-31  23.226409  23.412967  23.044516  23.287041     0.071773\n",
            "2016-06-30  22.023112  22.333262  21.990464  22.293619    -0.042660\n",
            "2016-07-31  24.296776  24.380727  24.177845  24.301439     0.090063\n",
            "2016-08-31  24.773058  24.986415  24.768367  24.876219     0.023652\n",
            "2016-09-30  26.367390  26.580749  26.212647  26.505722     0.065504\n",
            "2016-10-31  26.646394  26.782382  26.540886  26.620604     0.004334\n",
            "2016-11-30  26.300090  26.441488  25.986656  26.045572    -0.021601\n",
            "2016-12-31  27.490193  27.619807  27.202683  27.294592     0.047955\n"
          ]
        }
      ]
    },
    {
      "cell_type": "code",
      "metadata": {
        "id": "zPuCkmHHQqYw",
        "colab": {
          "base_uri": "https://localhost:8080/",
          "height": 532
        },
        "outputId": "e798aa4b-2beb-4b48-d68a-817214fbc76b"
      },
      "source": [
        "\n",
        "drop = amd_bar.dropna()\n",
        "print(drop)\n",
        "print('\\n--------------------------------------------------\\n')\n",
        "fill = amd_bar.fillna(0)\n",
        "fill"
      ],
      "execution_count": 160,
      "outputs": [
        {
          "output_type": "stream",
          "name": "stdout",
          "text": [
            "                 High       Open  rate_return\n",
            "Date                                         \n",
            "2021-02-28   9.110001  10.500000    -0.164220\n",
            "2021-03-31  10.389999  11.070000     0.140505\n",
            "2021-04-30   9.070000   9.860001    -0.127045\n",
            "2021-05-31   6.970001   8.809998    -0.231532\n",
            "2021-06-30  12.889999  10.800003     0.849354\n",
            "2021-07-31  19.739998  16.610001     0.531420\n",
            "2021-08-31  16.509995  13.309998    -0.163627\n",
            "\n",
            "--------------------------------------------------\n",
            "\n"
          ]
        },
        {
          "output_type": "execute_result",
          "data": {
            "text/html": [
              "<div>\n",
              "<style scoped>\n",
              "    .dataframe tbody tr th:only-of-type {\n",
              "        vertical-align: middle;\n",
              "    }\n",
              "\n",
              "    .dataframe tbody tr th {\n",
              "        vertical-align: top;\n",
              "    }\n",
              "\n",
              "    .dataframe thead th {\n",
              "        text-align: right;\n",
              "    }\n",
              "</style>\n",
              "<table border=\"1\" class=\"dataframe\">\n",
              "  <thead>\n",
              "    <tr style=\"text-align: right;\">\n",
              "      <th></th>\n",
              "      <th>High</th>\n",
              "      <th>Open</th>\n",
              "      <th>rate_return</th>\n",
              "    </tr>\n",
              "    <tr>\n",
              "      <th>Date</th>\n",
              "      <th></th>\n",
              "      <th></th>\n",
              "      <th></th>\n",
              "    </tr>\n",
              "  </thead>\n",
              "  <tbody>\n",
              "    <tr>\n",
              "      <th>2021-01-31</th>\n",
              "      <td>10.900002</td>\n",
              "      <td>10.300003</td>\n",
              "      <td>0.000000</td>\n",
              "    </tr>\n",
              "    <tr>\n",
              "      <th>2021-02-28</th>\n",
              "      <td>9.110001</td>\n",
              "      <td>10.500000</td>\n",
              "      <td>-0.164220</td>\n",
              "    </tr>\n",
              "    <tr>\n",
              "      <th>2021-03-31</th>\n",
              "      <td>10.389999</td>\n",
              "      <td>11.070000</td>\n",
              "      <td>0.140505</td>\n",
              "    </tr>\n",
              "    <tr>\n",
              "      <th>2021-04-30</th>\n",
              "      <td>9.070000</td>\n",
              "      <td>9.860001</td>\n",
              "      <td>-0.127045</td>\n",
              "    </tr>\n",
              "    <tr>\n",
              "      <th>2021-05-31</th>\n",
              "      <td>6.970001</td>\n",
              "      <td>8.809998</td>\n",
              "      <td>-0.231532</td>\n",
              "    </tr>\n",
              "    <tr>\n",
              "      <th>2021-06-30</th>\n",
              "      <td>12.889999</td>\n",
              "      <td>10.800003</td>\n",
              "      <td>0.849354</td>\n",
              "    </tr>\n",
              "    <tr>\n",
              "      <th>2021-07-31</th>\n",
              "      <td>19.739998</td>\n",
              "      <td>16.610001</td>\n",
              "      <td>0.531420</td>\n",
              "    </tr>\n",
              "    <tr>\n",
              "      <th>2021-08-31</th>\n",
              "      <td>16.509995</td>\n",
              "      <td>13.309998</td>\n",
              "      <td>-0.163627</td>\n",
              "    </tr>\n",
              "  </tbody>\n",
              "</table>\n",
              "</div>"
            ],
            "text/plain": [
              "                 High       Open  rate_return\n",
              "Date                                         \n",
              "2021-01-31  10.900002  10.300003     0.000000\n",
              "2021-02-28   9.110001  10.500000    -0.164220\n",
              "2021-03-31  10.389999  11.070000     0.140505\n",
              "2021-04-30   9.070000   9.860001    -0.127045\n",
              "2021-05-31   6.970001   8.809998    -0.231532\n",
              "2021-06-30  12.889999  10.800003     0.849354\n",
              "2021-07-31  19.739998  16.610001     0.531420\n",
              "2021-08-31  16.509995  13.309998    -0.163627"
            ]
          },
          "metadata": {},
          "execution_count": 160
        }
      ]
    },
    {
      "cell_type": "markdown",
      "metadata": {
        "id": "0tvoFlKWQxYG"
      },
      "source": [
        "## DataFrame Concat\n",
        "We have seen how to extract a Series from a dataFrame. Now we need to consider how to merge a Series or a DataFrame into another one.\n",
        "\n",
        "In Pandas, the function **concat()** allows us to merge multiple Series into a DataFrame:"
      ]
    },
    {
      "cell_type": "code",
      "metadata": {
        "id": "uQrmLIWKHW-C",
        "colab": {
          "base_uri": "https://localhost:8080/"
        },
        "outputId": "1a178973-aa3a-4b15-c5b5-1fc4e107fa32"
      },
      "source": [
        "s1 = pd.Series([143.5, 144.09, 142.73, 144.18, 143.77], name = 'AAPL')\n",
        "s2 = pd.Series([898.7, 911.71, 906.69, 918.59, 926.99], name = 'GOOG')\n",
        "data_frame = pd.concat([s1,s2], axis = 1)\n",
        "print(data_frame)"
      ],
      "execution_count": 162,
      "outputs": [
        {
          "output_type": "stream",
          "name": "stdout",
          "text": [
            "     AAPL    GOOG\n",
            "0  143.50  898.70\n",
            "1  144.09  911.71\n",
            "2  142.73  906.69\n",
            "3  144.18  918.59\n",
            "4  143.77  926.99\n"
          ]
        }
      ]
    },
    {
      "cell_type": "code",
      "metadata": {
        "id": "NjHrBv5FQy1-",
        "colab": {
          "base_uri": "https://localhost:8080/",
          "height": 362
        },
        "outputId": "d0df6e90-699e-4c24-fd1f-cd0a2478fa61"
      },
      "source": [
        "\n",
        "s1 = pd.Series([x-390*3854/23*43%3 for x in range(9)], name= 'randome')\n",
        "s2 = pd.Series([np.random.random_integers(100) for x in range(9)], name= 'Real Randome')\n",
        "data_frame = pd.concat([s1,s2], axis = 1)\n",
        "data_frame"
      ],
      "execution_count": 166,
      "outputs": [
        {
          "output_type": "stream",
          "name": "stderr",
          "text": [
            "/usr/local/lib/python3.7/dist-packages/ipykernel_launcher.py:3: DeprecationWarning: This function is deprecated. Please call randint(1, 100 + 1) instead\n",
            "  This is separate from the ipykernel package so we can avoid doing imports until\n"
          ]
        },
        {
          "output_type": "execute_result",
          "data": {
            "text/html": [
              "<div>\n",
              "<style scoped>\n",
              "    .dataframe tbody tr th:only-of-type {\n",
              "        vertical-align: middle;\n",
              "    }\n",
              "\n",
              "    .dataframe tbody tr th {\n",
              "        vertical-align: top;\n",
              "    }\n",
              "\n",
              "    .dataframe thead th {\n",
              "        text-align: right;\n",
              "    }\n",
              "</style>\n",
              "<table border=\"1\" class=\"dataframe\">\n",
              "  <thead>\n",
              "    <tr style=\"text-align: right;\">\n",
              "      <th></th>\n",
              "      <th>randome</th>\n",
              "      <th>Real Randome</th>\n",
              "    </tr>\n",
              "  </thead>\n",
              "  <tbody>\n",
              "    <tr>\n",
              "      <th>0</th>\n",
              "      <td>-1.695652</td>\n",
              "      <td>89</td>\n",
              "    </tr>\n",
              "    <tr>\n",
              "      <th>1</th>\n",
              "      <td>-0.695652</td>\n",
              "      <td>78</td>\n",
              "    </tr>\n",
              "    <tr>\n",
              "      <th>2</th>\n",
              "      <td>0.304348</td>\n",
              "      <td>92</td>\n",
              "    </tr>\n",
              "    <tr>\n",
              "      <th>3</th>\n",
              "      <td>1.304348</td>\n",
              "      <td>29</td>\n",
              "    </tr>\n",
              "    <tr>\n",
              "      <th>4</th>\n",
              "      <td>2.304348</td>\n",
              "      <td>24</td>\n",
              "    </tr>\n",
              "    <tr>\n",
              "      <th>5</th>\n",
              "      <td>3.304348</td>\n",
              "      <td>38</td>\n",
              "    </tr>\n",
              "    <tr>\n",
              "      <th>6</th>\n",
              "      <td>4.304348</td>\n",
              "      <td>60</td>\n",
              "    </tr>\n",
              "    <tr>\n",
              "      <th>7</th>\n",
              "      <td>5.304348</td>\n",
              "      <td>61</td>\n",
              "    </tr>\n",
              "    <tr>\n",
              "      <th>8</th>\n",
              "      <td>6.304348</td>\n",
              "      <td>72</td>\n",
              "    </tr>\n",
              "  </tbody>\n",
              "</table>\n",
              "</div>"
            ],
            "text/plain": [
              "    randome  Real Randome\n",
              "0 -1.695652            89\n",
              "1 -0.695652            78\n",
              "2  0.304348            92\n",
              "3  1.304348            29\n",
              "4  2.304348            24\n",
              "5  3.304348            38\n",
              "6  4.304348            60\n",
              "7  5.304348            61\n",
              "8  6.304348            72"
            ]
          },
          "metadata": {},
          "execution_count": 166
        }
      ]
    },
    {
      "cell_type": "markdown",
      "metadata": {
        "id": "3ojbNYJLR2vv"
      },
      "source": [
        "The \"axis = 1\" parameter will join two DataFrames by columns:"
      ]
    },
    {
      "cell_type": "code",
      "metadata": {
        "id": "DJsaLd-cRoIm",
        "colab": {
          "base_uri": "https://localhost:8080/"
        },
        "outputId": "368fc863-25d1-4201-9548-05ce068b5c70"
      },
      "source": [
        "log_price = np.log(aapl_bar.Close)\n",
        "log_price.name = 'log_price'\n",
        "print(log_price)\n",
        "print('\\n---------------------- separate line--------------------\\n')\n",
        "concat = pd.concat([aapl_bar, log_price], axis = 1)\n",
        "print(concat)"
      ],
      "execution_count": 167,
      "outputs": [
        {
          "output_type": "stream",
          "name": "stdout",
          "text": [
            "Date\n",
            "2016-01-31    3.110856\n",
            "2016-02-29    3.109568\n",
            "2016-03-31    3.229314\n",
            "2016-04-30    3.078583\n",
            "2016-05-31    3.147897\n",
            "2016-06-30    3.104301\n",
            "2016-07-31    3.190536\n",
            "2016-08-31    3.213912\n",
            "2016-09-30    3.277361\n",
            "2016-10-31    3.281685\n",
            "2016-11-30    3.259848\n",
            "2016-12-31    3.306689\n",
            "Freq: M, Name: log_price, dtype: float64\n",
            "\n",
            "---------------------- separate line--------------------\n",
            "\n",
            "                 Open       High        Low      Close  rate_return  log_price\n",
            "Date                                                                          \n",
            "2016-01-31  21.852384  22.440247  21.750948  22.440247          NaN   3.110856\n",
            "2016-02-29  22.450757  22.768304  22.402082  22.411354    -0.001288   3.109568\n",
            "2016-03-31  25.431520  25.473242  25.236819  25.262316     0.127211   3.229314\n",
            "2016-04-30  21.785533  21.954737  21.442491  21.727587    -0.139921   3.078583\n",
            "2016-05-31  23.226409  23.412967  23.044516  23.287041     0.071773   3.147897\n",
            "2016-06-30  22.023112  22.333262  21.990464  22.293619    -0.042660   3.104301\n",
            "2016-07-31  24.296776  24.380727  24.177845  24.301439     0.090063   3.190536\n",
            "2016-08-31  24.773058  24.986415  24.768367  24.876219     0.023652   3.213912\n",
            "2016-09-30  26.367390  26.580749  26.212647  26.505722     0.065504   3.277361\n",
            "2016-10-31  26.646394  26.782382  26.540886  26.620604     0.004334   3.281685\n",
            "2016-11-30  26.300090  26.441488  25.986656  26.045572    -0.021601   3.259848\n",
            "2016-12-31  27.490193  27.619807  27.202683  27.294592     0.047955   3.306689\n"
          ]
        }
      ]
    },
    {
      "cell_type": "code",
      "metadata": {
        "id": "VgbXf4uSRk0K",
        "colab": {
          "base_uri": "https://localhost:8080/",
          "height": 549
        },
        "outputId": "b5fb0d11-4c43-4131-d9be-93fea05fbb92"
      },
      "source": [
        "\n",
        "amd_log_price = np.log(amd_bar.High)\n",
        "amd_log_price.name = 'log_price'\n",
        "print(amd_log_price)\n",
        "print('\\n---------------------- separate line--------------------\\n')\n",
        "concat = pd.concat([amd_bar, amd_log_price], axis = 1)\n",
        "concat"
      ],
      "execution_count": 170,
      "outputs": [
        {
          "output_type": "stream",
          "name": "stdout",
          "text": [
            "Date\n",
            "2021-01-31    2.388763\n",
            "2021-02-28    2.209373\n",
            "2021-03-31    2.340844\n",
            "2021-04-30    2.204972\n",
            "2021-05-31    1.941615\n",
            "2021-06-30    2.556452\n",
            "2021-07-31    2.982647\n",
            "2021-08-31    2.803966\n",
            "Freq: M, Name: log_price, dtype: float64\n",
            "\n",
            "---------------------- separate line--------------------\n",
            "\n"
          ]
        },
        {
          "output_type": "execute_result",
          "data": {
            "text/html": [
              "<div>\n",
              "<style scoped>\n",
              "    .dataframe tbody tr th:only-of-type {\n",
              "        vertical-align: middle;\n",
              "    }\n",
              "\n",
              "    .dataframe tbody tr th {\n",
              "        vertical-align: top;\n",
              "    }\n",
              "\n",
              "    .dataframe thead th {\n",
              "        text-align: right;\n",
              "    }\n",
              "</style>\n",
              "<table border=\"1\" class=\"dataframe\">\n",
              "  <thead>\n",
              "    <tr style=\"text-align: right;\">\n",
              "      <th></th>\n",
              "      <th>High</th>\n",
              "      <th>Open</th>\n",
              "      <th>rate_return</th>\n",
              "      <th>log_price</th>\n",
              "    </tr>\n",
              "    <tr>\n",
              "      <th>Date</th>\n",
              "      <th></th>\n",
              "      <th></th>\n",
              "      <th></th>\n",
              "      <th></th>\n",
              "    </tr>\n",
              "  </thead>\n",
              "  <tbody>\n",
              "    <tr>\n",
              "      <th>2021-01-31</th>\n",
              "      <td>10.900002</td>\n",
              "      <td>10.300003</td>\n",
              "      <td>NaN</td>\n",
              "      <td>2.388763</td>\n",
              "    </tr>\n",
              "    <tr>\n",
              "      <th>2021-02-28</th>\n",
              "      <td>9.110001</td>\n",
              "      <td>10.500000</td>\n",
              "      <td>-0.164220</td>\n",
              "      <td>2.209373</td>\n",
              "    </tr>\n",
              "    <tr>\n",
              "      <th>2021-03-31</th>\n",
              "      <td>10.389999</td>\n",
              "      <td>11.070000</td>\n",
              "      <td>0.140505</td>\n",
              "      <td>2.340844</td>\n",
              "    </tr>\n",
              "    <tr>\n",
              "      <th>2021-04-30</th>\n",
              "      <td>9.070000</td>\n",
              "      <td>9.860001</td>\n",
              "      <td>-0.127045</td>\n",
              "      <td>2.204972</td>\n",
              "    </tr>\n",
              "    <tr>\n",
              "      <th>2021-05-31</th>\n",
              "      <td>6.970001</td>\n",
              "      <td>8.809998</td>\n",
              "      <td>-0.231532</td>\n",
              "      <td>1.941615</td>\n",
              "    </tr>\n",
              "    <tr>\n",
              "      <th>2021-06-30</th>\n",
              "      <td>12.889999</td>\n",
              "      <td>10.800003</td>\n",
              "      <td>0.849354</td>\n",
              "      <td>2.556452</td>\n",
              "    </tr>\n",
              "    <tr>\n",
              "      <th>2021-07-31</th>\n",
              "      <td>19.739998</td>\n",
              "      <td>16.610001</td>\n",
              "      <td>0.531420</td>\n",
              "      <td>2.982647</td>\n",
              "    </tr>\n",
              "    <tr>\n",
              "      <th>2021-08-31</th>\n",
              "      <td>16.509995</td>\n",
              "      <td>13.309998</td>\n",
              "      <td>-0.163627</td>\n",
              "      <td>2.803966</td>\n",
              "    </tr>\n",
              "  </tbody>\n",
              "</table>\n",
              "</div>"
            ],
            "text/plain": [
              "                 High       Open  rate_return  log_price\n",
              "Date                                                    \n",
              "2021-01-31  10.900002  10.300003          NaN   2.388763\n",
              "2021-02-28   9.110001  10.500000    -0.164220   2.209373\n",
              "2021-03-31  10.389999  11.070000     0.140505   2.340844\n",
              "2021-04-30   9.070000   9.860001    -0.127045   2.204972\n",
              "2021-05-31   6.970001   8.809998    -0.231532   1.941615\n",
              "2021-06-30  12.889999  10.800003     0.849354   2.556452\n",
              "2021-07-31  19.739998  16.610001     0.531420   2.982647\n",
              "2021-08-31  16.509995  13.309998    -0.163627   2.803966"
            ]
          },
          "metadata": {},
          "execution_count": 170
        }
      ]
    },
    {
      "cell_type": "markdown",
      "metadata": {
        "id": "mIZz-FUyR_62"
      },
      "source": [
        "We can also join two DataFrames by rows. Consider these two DataFrames:"
      ]
    },
    {
      "cell_type": "code",
      "metadata": {
        "id": "W7uXZptLHW-C",
        "colab": {
          "base_uri": "https://localhost:8080/"
        },
        "outputId": "13d25f2a-2106-459b-f6ef-bf155f837a48"
      },
      "source": [
        "df_volume = aapl_table.loc['2016-10':'2017-04',['Volume', 'Stock Splits']].resample('M').agg(lambda x: x[-1])\n",
        "print(df_volume)\n",
        "print('\\n---------------------- separate line--------------------\\n')\n",
        "df_2017 = aapl_table.loc['2016-10':'2017-04',['Open', 'High', 'Low', 'Close']].resample('M').agg(lambda x: x[-1])\n",
        "print(df_2017)"
      ],
      "execution_count": 171,
      "outputs": [
        {
          "output_type": "stream",
          "name": "stdout",
          "text": [
            "               Volume  Stock Splits\n",
            "Date                               \n",
            "2016-10-31  105677600             0\n",
            "2016-11-30  144649200             0\n",
            "2016-12-31  122345200             0\n",
            "2017-01-31  196804000             0\n",
            "2017-02-28   93931600             0\n",
            "2017-03-31   78646800             0\n",
            "2017-04-30   83441600             0\n",
            "\n",
            "---------------------- separate line--------------------\n",
            "\n",
            "                 Open       High        Low      Close\n",
            "Date                                                  \n",
            "2016-10-31  26.646394  26.782382  26.540886  26.620604\n",
            "2016-11-30  26.300090  26.441488  25.986656  26.045572\n",
            "2016-12-31  27.490193  27.619807  27.202683  27.294592\n",
            "2017-01-31  28.550681  28.607239  28.425779  28.597813\n",
            "2017-02-28  32.444862  32.530069  32.354920  32.423561\n",
            "2017-03-31  34.016463  34.146641  33.848414  34.002262\n",
            "2017-04-30  34.104028  34.153733  33.909947  33.999886\n"
          ]
        }
      ]
    },
    {
      "cell_type": "code",
      "metadata": {
        "id": "PPX0DMvISoHY",
        "colab": {
          "base_uri": "https://localhost:8080/",
          "height": 622
        },
        "outputId": "903ed718-cb14-4ced-b28c-40878c73ea35"
      },
      "source": [
        " \n",
        "amd_df_volume = amd_table.loc['2021-3':'2021-7',['Volume', 'Stock Splits']].resample('M').agg(lambda x: x[-1])\n",
        "print(amd_df_volume)\n",
        "print('\\n---------------------- separate line--------------------\\n')\n",
        "amd_df_2020 = amdTicker.history(start=\"2019-1-1\",end=\"2021-1-1\").loc['2020-1':'2020-12',['Open', 'High', 'Low', 'Close']].resample('M').agg(lambda x: x[-1])\n",
        "amd_df_2020"
      ],
      "execution_count": 185,
      "outputs": [
        {
          "output_type": "stream",
          "name": "stdout",
          "text": [
            "               Volume  Stock Splits\n",
            "Date                               \n",
            "2021-03-31   43659500             0\n",
            "2021-04-30   46601900             0\n",
            "2021-05-31   40952700             0\n",
            "2021-06-30   70721500             0\n",
            "2021-07-31  125567000             0\n",
            "\n",
            "---------------------- separate line--------------------\n",
            "\n"
          ]
        },
        {
          "output_type": "execute_result",
          "data": {
            "text/html": [
              "<div>\n",
              "<style scoped>\n",
              "    .dataframe tbody tr th:only-of-type {\n",
              "        vertical-align: middle;\n",
              "    }\n",
              "\n",
              "    .dataframe tbody tr th {\n",
              "        vertical-align: top;\n",
              "    }\n",
              "\n",
              "    .dataframe thead th {\n",
              "        text-align: right;\n",
              "    }\n",
              "</style>\n",
              "<table border=\"1\" class=\"dataframe\">\n",
              "  <thead>\n",
              "    <tr style=\"text-align: right;\">\n",
              "      <th></th>\n",
              "      <th>Open</th>\n",
              "      <th>High</th>\n",
              "      <th>Low</th>\n",
              "      <th>Close</th>\n",
              "    </tr>\n",
              "    <tr>\n",
              "      <th>Date</th>\n",
              "      <th></th>\n",
              "      <th></th>\n",
              "      <th></th>\n",
              "      <th></th>\n",
              "    </tr>\n",
              "  </thead>\n",
              "  <tbody>\n",
              "    <tr>\n",
              "      <th>2020-01-31</th>\n",
              "      <td>48.400002</td>\n",
              "      <td>48.580002</td>\n",
              "      <td>46.790001</td>\n",
              "      <td>47.000000</td>\n",
              "    </tr>\n",
              "    <tr>\n",
              "      <th>2020-02-29</th>\n",
              "      <td>41.360001</td>\n",
              "      <td>46.150002</td>\n",
              "      <td>41.040001</td>\n",
              "      <td>45.480000</td>\n",
              "    </tr>\n",
              "    <tr>\n",
              "      <th>2020-03-31</th>\n",
              "      <td>47.930000</td>\n",
              "      <td>48.529999</td>\n",
              "      <td>45.160000</td>\n",
              "      <td>45.480000</td>\n",
              "    </tr>\n",
              "    <tr>\n",
              "      <th>2020-04-30</th>\n",
              "      <td>53.430000</td>\n",
              "      <td>54.290001</td>\n",
              "      <td>52.029999</td>\n",
              "      <td>52.389999</td>\n",
              "    </tr>\n",
              "    <tr>\n",
              "      <th>2020-05-31</th>\n",
              "      <td>52.070000</td>\n",
              "      <td>53.799999</td>\n",
              "      <td>51.849998</td>\n",
              "      <td>53.799999</td>\n",
              "    </tr>\n",
              "    <tr>\n",
              "      <th>2020-06-30</th>\n",
              "      <td>51.160000</td>\n",
              "      <td>52.770000</td>\n",
              "      <td>50.820000</td>\n",
              "      <td>52.610001</td>\n",
              "    </tr>\n",
              "    <tr>\n",
              "      <th>2020-07-31</th>\n",
              "      <td>78.669998</td>\n",
              "      <td>78.959999</td>\n",
              "      <td>75.360001</td>\n",
              "      <td>77.430000</td>\n",
              "    </tr>\n",
              "    <tr>\n",
              "      <th>2020-08-31</th>\n",
              "      <td>85.050003</td>\n",
              "      <td>92.639999</td>\n",
              "      <td>85.050003</td>\n",
              "      <td>90.820000</td>\n",
              "    </tr>\n",
              "    <tr>\n",
              "      <th>2020-09-30</th>\n",
              "      <td>81.750000</td>\n",
              "      <td>82.940002</td>\n",
              "      <td>80.660004</td>\n",
              "      <td>81.989998</td>\n",
              "    </tr>\n",
              "    <tr>\n",
              "      <th>2020-10-31</th>\n",
              "      <td>77.089996</td>\n",
              "      <td>77.699997</td>\n",
              "      <td>74.230003</td>\n",
              "      <td>75.290001</td>\n",
              "    </tr>\n",
              "    <tr>\n",
              "      <th>2020-11-30</th>\n",
              "      <td>87.330002</td>\n",
              "      <td>92.739998</td>\n",
              "      <td>86.529999</td>\n",
              "      <td>92.660004</td>\n",
              "    </tr>\n",
              "    <tr>\n",
              "      <th>2020-12-31</th>\n",
              "      <td>92.099998</td>\n",
              "      <td>92.300003</td>\n",
              "      <td>90.870003</td>\n",
              "      <td>91.709999</td>\n",
              "    </tr>\n",
              "  </tbody>\n",
              "</table>\n",
              "</div>"
            ],
            "text/plain": [
              "                 Open       High        Low      Close\n",
              "Date                                                  \n",
              "2020-01-31  48.400002  48.580002  46.790001  47.000000\n",
              "2020-02-29  41.360001  46.150002  41.040001  45.480000\n",
              "2020-03-31  47.930000  48.529999  45.160000  45.480000\n",
              "2020-04-30  53.430000  54.290001  52.029999  52.389999\n",
              "2020-05-31  52.070000  53.799999  51.849998  53.799999\n",
              "2020-06-30  51.160000  52.770000  50.820000  52.610001\n",
              "2020-07-31  78.669998  78.959999  75.360001  77.430000\n",
              "2020-08-31  85.050003  92.639999  85.050003  90.820000\n",
              "2020-09-30  81.750000  82.940002  80.660004  81.989998\n",
              "2020-10-31  77.089996  77.699997  74.230003  75.290001\n",
              "2020-11-30  87.330002  92.739998  86.529999  92.660004\n",
              "2020-12-31  92.099998  92.300003  90.870003  91.709999"
            ]
          },
          "metadata": {},
          "execution_count": 185
        }
      ]
    },
    {
      "cell_type": "markdown",
      "metadata": {
        "id": "iZk_C9aSSLeP"
      },
      "source": [
        "Now we merge the DataFrames with our DataFrame 'aapl_bar'"
      ]
    },
    {
      "cell_type": "code",
      "metadata": {
        "id": "aFqmjokOHW-C",
        "colab": {
          "base_uri": "https://localhost:8080/"
        },
        "outputId": "b164c386-3234-4e6d-acfa-110b9af38cba"
      },
      "source": [
        "concat = pd.concat([aapl_bar, df_volume], axis = 1)\n",
        "print(concat)"
      ],
      "execution_count": 175,
      "outputs": [
        {
          "output_type": "stream",
          "name": "stdout",
          "text": [
            "                 Open       High  ...       Volume  Stock Splits\n",
            "Date                              ...                           \n",
            "2016-01-31  21.852384  22.440247  ...          NaN           NaN\n",
            "2016-02-29  22.450757  22.768304  ...          NaN           NaN\n",
            "2016-03-31  25.431520  25.473242  ...          NaN           NaN\n",
            "2016-04-30  21.785533  21.954737  ...          NaN           NaN\n",
            "2016-05-31  23.226409  23.412967  ...          NaN           NaN\n",
            "2016-06-30  22.023112  22.333262  ...          NaN           NaN\n",
            "2016-07-31  24.296776  24.380727  ...          NaN           NaN\n",
            "2016-08-31  24.773058  24.986415  ...          NaN           NaN\n",
            "2016-09-30  26.367390  26.580749  ...          NaN           NaN\n",
            "2016-10-31  26.646394  26.782382  ...  105677600.0           0.0\n",
            "2016-11-30  26.300090  26.441488  ...  144649200.0           0.0\n",
            "2016-12-31  27.490193  27.619807  ...  122345200.0           0.0\n",
            "2017-01-31        NaN        NaN  ...  196804000.0           0.0\n",
            "2017-02-28        NaN        NaN  ...   93931600.0           0.0\n",
            "2017-03-31        NaN        NaN  ...   78646800.0           0.0\n",
            "2017-04-30        NaN        NaN  ...   83441600.0           0.0\n",
            "\n",
            "[16 rows x 7 columns]\n"
          ]
        }
      ]
    },
    {
      "cell_type": "code",
      "metadata": {
        "id": "FiLKzOvjTeQ4",
        "colab": {
          "base_uri": "https://localhost:8080/",
          "height": 328
        },
        "outputId": "90fad934-0da4-42ea-d614-08194357a210"
      },
      "source": [
        "\n",
        "concat = pd.concat([amd_bar, amd_df_volume], axis = 1)\n",
        "concat"
      ],
      "execution_count": 177,
      "outputs": [
        {
          "output_type": "execute_result",
          "data": {
            "text/html": [
              "<div>\n",
              "<style scoped>\n",
              "    .dataframe tbody tr th:only-of-type {\n",
              "        vertical-align: middle;\n",
              "    }\n",
              "\n",
              "    .dataframe tbody tr th {\n",
              "        vertical-align: top;\n",
              "    }\n",
              "\n",
              "    .dataframe thead th {\n",
              "        text-align: right;\n",
              "    }\n",
              "</style>\n",
              "<table border=\"1\" class=\"dataframe\">\n",
              "  <thead>\n",
              "    <tr style=\"text-align: right;\">\n",
              "      <th></th>\n",
              "      <th>High</th>\n",
              "      <th>Open</th>\n",
              "      <th>rate_return</th>\n",
              "      <th>Volume</th>\n",
              "      <th>Stock Splits</th>\n",
              "    </tr>\n",
              "    <tr>\n",
              "      <th>Date</th>\n",
              "      <th></th>\n",
              "      <th></th>\n",
              "      <th></th>\n",
              "      <th></th>\n",
              "      <th></th>\n",
              "    </tr>\n",
              "  </thead>\n",
              "  <tbody>\n",
              "    <tr>\n",
              "      <th>2021-01-31</th>\n",
              "      <td>10.900002</td>\n",
              "      <td>10.300003</td>\n",
              "      <td>NaN</td>\n",
              "      <td>NaN</td>\n",
              "      <td>NaN</td>\n",
              "    </tr>\n",
              "    <tr>\n",
              "      <th>2021-02-28</th>\n",
              "      <td>9.110001</td>\n",
              "      <td>10.500000</td>\n",
              "      <td>-0.164220</td>\n",
              "      <td>NaN</td>\n",
              "      <td>NaN</td>\n",
              "    </tr>\n",
              "    <tr>\n",
              "      <th>2021-03-31</th>\n",
              "      <td>10.389999</td>\n",
              "      <td>11.070000</td>\n",
              "      <td>0.140505</td>\n",
              "      <td>43659500.0</td>\n",
              "      <td>0.0</td>\n",
              "    </tr>\n",
              "    <tr>\n",
              "      <th>2021-04-30</th>\n",
              "      <td>9.070000</td>\n",
              "      <td>9.860001</td>\n",
              "      <td>-0.127045</td>\n",
              "      <td>46601900.0</td>\n",
              "      <td>0.0</td>\n",
              "    </tr>\n",
              "    <tr>\n",
              "      <th>2021-05-31</th>\n",
              "      <td>6.970001</td>\n",
              "      <td>8.809998</td>\n",
              "      <td>-0.231532</td>\n",
              "      <td>40952700.0</td>\n",
              "      <td>0.0</td>\n",
              "    </tr>\n",
              "    <tr>\n",
              "      <th>2021-06-30</th>\n",
              "      <td>12.889999</td>\n",
              "      <td>10.800003</td>\n",
              "      <td>0.849354</td>\n",
              "      <td>70721500.0</td>\n",
              "      <td>0.0</td>\n",
              "    </tr>\n",
              "    <tr>\n",
              "      <th>2021-07-31</th>\n",
              "      <td>19.739998</td>\n",
              "      <td>16.610001</td>\n",
              "      <td>0.531420</td>\n",
              "      <td>125567000.0</td>\n",
              "      <td>0.0</td>\n",
              "    </tr>\n",
              "    <tr>\n",
              "      <th>2021-08-31</th>\n",
              "      <td>16.509995</td>\n",
              "      <td>13.309998</td>\n",
              "      <td>-0.163627</td>\n",
              "      <td>NaN</td>\n",
              "      <td>NaN</td>\n",
              "    </tr>\n",
              "  </tbody>\n",
              "</table>\n",
              "</div>"
            ],
            "text/plain": [
              "                 High       Open  rate_return       Volume  Stock Splits\n",
              "Date                                                                    \n",
              "2021-01-31  10.900002  10.300003          NaN          NaN           NaN\n",
              "2021-02-28   9.110001  10.500000    -0.164220          NaN           NaN\n",
              "2021-03-31  10.389999  11.070000     0.140505   43659500.0           0.0\n",
              "2021-04-30   9.070000   9.860001    -0.127045   46601900.0           0.0\n",
              "2021-05-31   6.970001   8.809998    -0.231532   40952700.0           0.0\n",
              "2021-06-30  12.889999  10.800003     0.849354   70721500.0           0.0\n",
              "2021-07-31  19.739998  16.610001     0.531420  125567000.0           0.0\n",
              "2021-08-31  16.509995  13.309998    -0.163627          NaN           NaN"
            ]
          },
          "metadata": {},
          "execution_count": 177
        }
      ]
    },
    {
      "cell_type": "markdown",
      "metadata": {
        "id": "7yI3tgB4SR4O"
      },
      "source": [
        "By default the DataFrame are joined with all of the data. This default options results in zero information loss. We can also merge them by intersection, this is called 'inner join"
      ]
    },
    {
      "cell_type": "code",
      "metadata": {
        "id": "31QGLyijHW-C",
        "colab": {
          "base_uri": "https://localhost:8080/"
        },
        "outputId": "dae788c7-3cbd-4485-d499-ab4af334426c"
      },
      "source": [
        "concat = pd.concat([aapl_bar,df_volume],axis = 1, join = 'inner')\n",
        "print(concat)"
      ],
      "execution_count": 178,
      "outputs": [
        {
          "output_type": "stream",
          "name": "stdout",
          "text": [
            "                 Open       High  ...     Volume  Stock Splits\n",
            "Date                              ...                         \n",
            "2016-10-31  26.646394  26.782382  ...  105677600             0\n",
            "2016-11-30  26.300090  26.441488  ...  144649200             0\n",
            "2016-12-31  27.490193  27.619807  ...  122345200             0\n",
            "\n",
            "[3 rows x 7 columns]\n"
          ]
        }
      ]
    },
    {
      "cell_type": "code",
      "metadata": {
        "id": "OiV5B7RNT-zc",
        "colab": {
          "base_uri": "https://localhost:8080/",
          "height": 235
        },
        "outputId": "7fe93def-5524-41d7-ee97-af5473c35494"
      },
      "source": [
        " \n",
        "concat = pd.concat([amd_bar,amd_df_volume],axis = 1, join = 'inner')\n",
        "concat"
      ],
      "execution_count": 179,
      "outputs": [
        {
          "output_type": "execute_result",
          "data": {
            "text/html": [
              "<div>\n",
              "<style scoped>\n",
              "    .dataframe tbody tr th:only-of-type {\n",
              "        vertical-align: middle;\n",
              "    }\n",
              "\n",
              "    .dataframe tbody tr th {\n",
              "        vertical-align: top;\n",
              "    }\n",
              "\n",
              "    .dataframe thead th {\n",
              "        text-align: right;\n",
              "    }\n",
              "</style>\n",
              "<table border=\"1\" class=\"dataframe\">\n",
              "  <thead>\n",
              "    <tr style=\"text-align: right;\">\n",
              "      <th></th>\n",
              "      <th>High</th>\n",
              "      <th>Open</th>\n",
              "      <th>rate_return</th>\n",
              "      <th>Volume</th>\n",
              "      <th>Stock Splits</th>\n",
              "    </tr>\n",
              "    <tr>\n",
              "      <th>Date</th>\n",
              "      <th></th>\n",
              "      <th></th>\n",
              "      <th></th>\n",
              "      <th></th>\n",
              "      <th></th>\n",
              "    </tr>\n",
              "  </thead>\n",
              "  <tbody>\n",
              "    <tr>\n",
              "      <th>2021-03-31</th>\n",
              "      <td>10.389999</td>\n",
              "      <td>11.070000</td>\n",
              "      <td>0.140505</td>\n",
              "      <td>43659500</td>\n",
              "      <td>0</td>\n",
              "    </tr>\n",
              "    <tr>\n",
              "      <th>2021-04-30</th>\n",
              "      <td>9.070000</td>\n",
              "      <td>9.860001</td>\n",
              "      <td>-0.127045</td>\n",
              "      <td>46601900</td>\n",
              "      <td>0</td>\n",
              "    </tr>\n",
              "    <tr>\n",
              "      <th>2021-05-31</th>\n",
              "      <td>6.970001</td>\n",
              "      <td>8.809998</td>\n",
              "      <td>-0.231532</td>\n",
              "      <td>40952700</td>\n",
              "      <td>0</td>\n",
              "    </tr>\n",
              "    <tr>\n",
              "      <th>2021-06-30</th>\n",
              "      <td>12.889999</td>\n",
              "      <td>10.800003</td>\n",
              "      <td>0.849354</td>\n",
              "      <td>70721500</td>\n",
              "      <td>0</td>\n",
              "    </tr>\n",
              "    <tr>\n",
              "      <th>2021-07-31</th>\n",
              "      <td>19.739998</td>\n",
              "      <td>16.610001</td>\n",
              "      <td>0.531420</td>\n",
              "      <td>125567000</td>\n",
              "      <td>0</td>\n",
              "    </tr>\n",
              "  </tbody>\n",
              "</table>\n",
              "</div>"
            ],
            "text/plain": [
              "                 High       Open  rate_return     Volume  Stock Splits\n",
              "Date                                                                  \n",
              "2021-03-31  10.389999  11.070000     0.140505   43659500             0\n",
              "2021-04-30   9.070000   9.860001    -0.127045   46601900             0\n",
              "2021-05-31   6.970001   8.809998    -0.231532   40952700             0\n",
              "2021-06-30  12.889999  10.800003     0.849354   70721500             0\n",
              "2021-07-31  19.739998  16.610001     0.531420  125567000             0"
            ]
          },
          "metadata": {},
          "execution_count": 179
        }
      ]
    },
    {
      "cell_type": "markdown",
      "metadata": {
        "id": "oudcWMm5Sd0u"
      },
      "source": [
        "Only the intersection part was left if use 'inner join' method. Now let's try to append a DataFrame to another one:"
      ]
    },
    {
      "cell_type": "code",
      "metadata": {
        "id": "lgw0qaOsHW-D",
        "colab": {
          "base_uri": "https://localhost:8080/"
        },
        "outputId": "614f0b5f-70cf-45fc-ee1b-45daf43e03c9"
      },
      "source": [
        "append = aapl_bar.append(df_2017)\n",
        "print(append)"
      ],
      "execution_count": 180,
      "outputs": [
        {
          "output_type": "stream",
          "name": "stdout",
          "text": [
            "                 Open       High        Low      Close  rate_return\n",
            "Date                                                               \n",
            "2016-01-31  21.852384  22.440247  21.750948  22.440247          NaN\n",
            "2016-02-29  22.450757  22.768304  22.402082  22.411354    -0.001288\n",
            "2016-03-31  25.431520  25.473242  25.236819  25.262316     0.127211\n",
            "2016-04-30  21.785533  21.954737  21.442491  21.727587    -0.139921\n",
            "2016-05-31  23.226409  23.412967  23.044516  23.287041     0.071773\n",
            "2016-06-30  22.023112  22.333262  21.990464  22.293619    -0.042660\n",
            "2016-07-31  24.296776  24.380727  24.177845  24.301439     0.090063\n",
            "2016-08-31  24.773058  24.986415  24.768367  24.876219     0.023652\n",
            "2016-09-30  26.367390  26.580749  26.212647  26.505722     0.065504\n",
            "2016-10-31  26.646394  26.782382  26.540886  26.620604     0.004334\n",
            "2016-11-30  26.300090  26.441488  25.986656  26.045572    -0.021601\n",
            "2016-12-31  27.490193  27.619807  27.202683  27.294592     0.047955\n",
            "2016-10-31  26.646394  26.782382  26.540886  26.620604          NaN\n",
            "2016-11-30  26.300090  26.441488  25.986656  26.045572          NaN\n",
            "2016-12-31  27.490193  27.619807  27.202683  27.294592          NaN\n",
            "2017-01-31  28.550681  28.607239  28.425779  28.597813          NaN\n",
            "2017-02-28  32.444862  32.530069  32.354920  32.423561          NaN\n",
            "2017-03-31  34.016463  34.146641  33.848414  34.002262          NaN\n",
            "2017-04-30  34.104028  34.153733  33.909947  33.999886          NaN\n"
          ]
        }
      ]
    },
    {
      "cell_type": "code",
      "metadata": {
        "id": "WRkwKxwyUXrU",
        "colab": {
          "base_uri": "https://localhost:8080/",
          "height": 700
        },
        "outputId": "92de58f9-9a53-41cb-f9cb-275ae3d18cf2"
      },
      "source": [
        "\n",
        "append = amd_bar.append(amd_df_2020)\n",
        "append #notice order is now not respected"
      ],
      "execution_count": 186,
      "outputs": [
        {
          "output_type": "execute_result",
          "data": {
            "text/html": [
              "<div>\n",
              "<style scoped>\n",
              "    .dataframe tbody tr th:only-of-type {\n",
              "        vertical-align: middle;\n",
              "    }\n",
              "\n",
              "    .dataframe tbody tr th {\n",
              "        vertical-align: top;\n",
              "    }\n",
              "\n",
              "    .dataframe thead th {\n",
              "        text-align: right;\n",
              "    }\n",
              "</style>\n",
              "<table border=\"1\" class=\"dataframe\">\n",
              "  <thead>\n",
              "    <tr style=\"text-align: right;\">\n",
              "      <th></th>\n",
              "      <th>High</th>\n",
              "      <th>Open</th>\n",
              "      <th>rate_return</th>\n",
              "      <th>Low</th>\n",
              "      <th>Close</th>\n",
              "    </tr>\n",
              "    <tr>\n",
              "      <th>Date</th>\n",
              "      <th></th>\n",
              "      <th></th>\n",
              "      <th></th>\n",
              "      <th></th>\n",
              "      <th></th>\n",
              "    </tr>\n",
              "  </thead>\n",
              "  <tbody>\n",
              "    <tr>\n",
              "      <th>2021-01-31</th>\n",
              "      <td>10.900002</td>\n",
              "      <td>10.300003</td>\n",
              "      <td>NaN</td>\n",
              "      <td>NaN</td>\n",
              "      <td>NaN</td>\n",
              "    </tr>\n",
              "    <tr>\n",
              "      <th>2021-02-28</th>\n",
              "      <td>9.110001</td>\n",
              "      <td>10.500000</td>\n",
              "      <td>-0.164220</td>\n",
              "      <td>NaN</td>\n",
              "      <td>NaN</td>\n",
              "    </tr>\n",
              "    <tr>\n",
              "      <th>2021-03-31</th>\n",
              "      <td>10.389999</td>\n",
              "      <td>11.070000</td>\n",
              "      <td>0.140505</td>\n",
              "      <td>NaN</td>\n",
              "      <td>NaN</td>\n",
              "    </tr>\n",
              "    <tr>\n",
              "      <th>2021-04-30</th>\n",
              "      <td>9.070000</td>\n",
              "      <td>9.860001</td>\n",
              "      <td>-0.127045</td>\n",
              "      <td>NaN</td>\n",
              "      <td>NaN</td>\n",
              "    </tr>\n",
              "    <tr>\n",
              "      <th>2021-05-31</th>\n",
              "      <td>6.970001</td>\n",
              "      <td>8.809998</td>\n",
              "      <td>-0.231532</td>\n",
              "      <td>NaN</td>\n",
              "      <td>NaN</td>\n",
              "    </tr>\n",
              "    <tr>\n",
              "      <th>2021-06-30</th>\n",
              "      <td>12.889999</td>\n",
              "      <td>10.800003</td>\n",
              "      <td>0.849354</td>\n",
              "      <td>NaN</td>\n",
              "      <td>NaN</td>\n",
              "    </tr>\n",
              "    <tr>\n",
              "      <th>2021-07-31</th>\n",
              "      <td>19.739998</td>\n",
              "      <td>16.610001</td>\n",
              "      <td>0.531420</td>\n",
              "      <td>NaN</td>\n",
              "      <td>NaN</td>\n",
              "    </tr>\n",
              "    <tr>\n",
              "      <th>2021-08-31</th>\n",
              "      <td>16.509995</td>\n",
              "      <td>13.309998</td>\n",
              "      <td>-0.163627</td>\n",
              "      <td>NaN</td>\n",
              "      <td>NaN</td>\n",
              "    </tr>\n",
              "    <tr>\n",
              "      <th>2020-01-31</th>\n",
              "      <td>48.580002</td>\n",
              "      <td>48.400002</td>\n",
              "      <td>NaN</td>\n",
              "      <td>46.790001</td>\n",
              "      <td>47.000000</td>\n",
              "    </tr>\n",
              "    <tr>\n",
              "      <th>2020-02-29</th>\n",
              "      <td>46.150002</td>\n",
              "      <td>41.360001</td>\n",
              "      <td>NaN</td>\n",
              "      <td>41.040001</td>\n",
              "      <td>45.480000</td>\n",
              "    </tr>\n",
              "    <tr>\n",
              "      <th>2020-03-31</th>\n",
              "      <td>48.529999</td>\n",
              "      <td>47.930000</td>\n",
              "      <td>NaN</td>\n",
              "      <td>45.160000</td>\n",
              "      <td>45.480000</td>\n",
              "    </tr>\n",
              "    <tr>\n",
              "      <th>2020-04-30</th>\n",
              "      <td>54.290001</td>\n",
              "      <td>53.430000</td>\n",
              "      <td>NaN</td>\n",
              "      <td>52.029999</td>\n",
              "      <td>52.389999</td>\n",
              "    </tr>\n",
              "    <tr>\n",
              "      <th>2020-05-31</th>\n",
              "      <td>53.799999</td>\n",
              "      <td>52.070000</td>\n",
              "      <td>NaN</td>\n",
              "      <td>51.849998</td>\n",
              "      <td>53.799999</td>\n",
              "    </tr>\n",
              "    <tr>\n",
              "      <th>2020-06-30</th>\n",
              "      <td>52.770000</td>\n",
              "      <td>51.160000</td>\n",
              "      <td>NaN</td>\n",
              "      <td>50.820000</td>\n",
              "      <td>52.610001</td>\n",
              "    </tr>\n",
              "    <tr>\n",
              "      <th>2020-07-31</th>\n",
              "      <td>78.959999</td>\n",
              "      <td>78.669998</td>\n",
              "      <td>NaN</td>\n",
              "      <td>75.360001</td>\n",
              "      <td>77.430000</td>\n",
              "    </tr>\n",
              "    <tr>\n",
              "      <th>2020-08-31</th>\n",
              "      <td>92.639999</td>\n",
              "      <td>85.050003</td>\n",
              "      <td>NaN</td>\n",
              "      <td>85.050003</td>\n",
              "      <td>90.820000</td>\n",
              "    </tr>\n",
              "    <tr>\n",
              "      <th>2020-09-30</th>\n",
              "      <td>82.940002</td>\n",
              "      <td>81.750000</td>\n",
              "      <td>NaN</td>\n",
              "      <td>80.660004</td>\n",
              "      <td>81.989998</td>\n",
              "    </tr>\n",
              "    <tr>\n",
              "      <th>2020-10-31</th>\n",
              "      <td>77.699997</td>\n",
              "      <td>77.089996</td>\n",
              "      <td>NaN</td>\n",
              "      <td>74.230003</td>\n",
              "      <td>75.290001</td>\n",
              "    </tr>\n",
              "    <tr>\n",
              "      <th>2020-11-30</th>\n",
              "      <td>92.739998</td>\n",
              "      <td>87.330002</td>\n",
              "      <td>NaN</td>\n",
              "      <td>86.529999</td>\n",
              "      <td>92.660004</td>\n",
              "    </tr>\n",
              "    <tr>\n",
              "      <th>2020-12-31</th>\n",
              "      <td>92.300003</td>\n",
              "      <td>92.099998</td>\n",
              "      <td>NaN</td>\n",
              "      <td>90.870003</td>\n",
              "      <td>91.709999</td>\n",
              "    </tr>\n",
              "  </tbody>\n",
              "</table>\n",
              "</div>"
            ],
            "text/plain": [
              "                 High       Open  rate_return        Low      Close\n",
              "Date                                                               \n",
              "2021-01-31  10.900002  10.300003          NaN        NaN        NaN\n",
              "2021-02-28   9.110001  10.500000    -0.164220        NaN        NaN\n",
              "2021-03-31  10.389999  11.070000     0.140505        NaN        NaN\n",
              "2021-04-30   9.070000   9.860001    -0.127045        NaN        NaN\n",
              "2021-05-31   6.970001   8.809998    -0.231532        NaN        NaN\n",
              "2021-06-30  12.889999  10.800003     0.849354        NaN        NaN\n",
              "2021-07-31  19.739998  16.610001     0.531420        NaN        NaN\n",
              "2021-08-31  16.509995  13.309998    -0.163627        NaN        NaN\n",
              "2020-01-31  48.580002  48.400002          NaN  46.790001  47.000000\n",
              "2020-02-29  46.150002  41.360001          NaN  41.040001  45.480000\n",
              "2020-03-31  48.529999  47.930000          NaN  45.160000  45.480000\n",
              "2020-04-30  54.290001  53.430000          NaN  52.029999  52.389999\n",
              "2020-05-31  53.799999  52.070000          NaN  51.849998  53.799999\n",
              "2020-06-30  52.770000  51.160000          NaN  50.820000  52.610001\n",
              "2020-07-31  78.959999  78.669998          NaN  75.360001  77.430000\n",
              "2020-08-31  92.639999  85.050003          NaN  85.050003  90.820000\n",
              "2020-09-30  82.940002  81.750000          NaN  80.660004  81.989998\n",
              "2020-10-31  77.699997  77.089996          NaN  74.230003  75.290001\n",
              "2020-11-30  92.739998  87.330002          NaN  86.529999  92.660004\n",
              "2020-12-31  92.300003  92.099998          NaN  90.870003  91.709999"
            ]
          },
          "metadata": {},
          "execution_count": 186
        }
      ]
    },
    {
      "cell_type": "markdown",
      "metadata": {
        "id": "zXT6cMquSq_P"
      },
      "source": [
        "'Append' is essentially to concat two DataFrames by axis = 0, thus here is an alternative way to append:"
      ]
    },
    {
      "cell_type": "code",
      "metadata": {
        "id": "2EuSaFO9HW-D",
        "colab": {
          "base_uri": "https://localhost:8080/"
        },
        "outputId": "6ee8cf17-8624-46ba-f392-2e4239c05da7"
      },
      "source": [
        "concat = pd.concat([aapl_bar, df_2017], axis = 0)\n",
        "print(concat)"
      ],
      "execution_count": 187,
      "outputs": [
        {
          "output_type": "stream",
          "name": "stdout",
          "text": [
            "                 Open       High        Low      Close  rate_return\n",
            "Date                                                               \n",
            "2016-01-31  21.852384  22.440247  21.750948  22.440247          NaN\n",
            "2016-02-29  22.450757  22.768304  22.402082  22.411354    -0.001288\n",
            "2016-03-31  25.431520  25.473242  25.236819  25.262316     0.127211\n",
            "2016-04-30  21.785533  21.954737  21.442491  21.727587    -0.139921\n",
            "2016-05-31  23.226409  23.412967  23.044516  23.287041     0.071773\n",
            "2016-06-30  22.023112  22.333262  21.990464  22.293619    -0.042660\n",
            "2016-07-31  24.296776  24.380727  24.177845  24.301439     0.090063\n",
            "2016-08-31  24.773058  24.986415  24.768367  24.876219     0.023652\n",
            "2016-09-30  26.367390  26.580749  26.212647  26.505722     0.065504\n",
            "2016-10-31  26.646394  26.782382  26.540886  26.620604     0.004334\n",
            "2016-11-30  26.300090  26.441488  25.986656  26.045572    -0.021601\n",
            "2016-12-31  27.490193  27.619807  27.202683  27.294592     0.047955\n",
            "2016-10-31  26.646394  26.782382  26.540886  26.620604          NaN\n",
            "2016-11-30  26.300090  26.441488  25.986656  26.045572          NaN\n",
            "2016-12-31  27.490193  27.619807  27.202683  27.294592          NaN\n",
            "2017-01-31  28.550681  28.607239  28.425779  28.597813          NaN\n",
            "2017-02-28  32.444862  32.530069  32.354920  32.423561          NaN\n",
            "2017-03-31  34.016463  34.146641  33.848414  34.002262          NaN\n",
            "2017-04-30  34.104028  34.153733  33.909947  33.999886          NaN\n"
          ]
        }
      ]
    },
    {
      "cell_type": "code",
      "metadata": {
        "id": "MN00b5GsVLyj",
        "colab": {
          "base_uri": "https://localhost:8080/",
          "height": 700
        },
        "outputId": "c9756714-8e4f-422c-a0a7-d23d1a3b4b4b"
      },
      "source": [
        "\n",
        "concat = pd.concat([amd_bar, amd_df_2020], axis = 0)\n",
        "concat"
      ],
      "execution_count": 189,
      "outputs": [
        {
          "output_type": "execute_result",
          "data": {
            "text/html": [
              "<div>\n",
              "<style scoped>\n",
              "    .dataframe tbody tr th:only-of-type {\n",
              "        vertical-align: middle;\n",
              "    }\n",
              "\n",
              "    .dataframe tbody tr th {\n",
              "        vertical-align: top;\n",
              "    }\n",
              "\n",
              "    .dataframe thead th {\n",
              "        text-align: right;\n",
              "    }\n",
              "</style>\n",
              "<table border=\"1\" class=\"dataframe\">\n",
              "  <thead>\n",
              "    <tr style=\"text-align: right;\">\n",
              "      <th></th>\n",
              "      <th>High</th>\n",
              "      <th>Open</th>\n",
              "      <th>rate_return</th>\n",
              "      <th>Low</th>\n",
              "      <th>Close</th>\n",
              "    </tr>\n",
              "    <tr>\n",
              "      <th>Date</th>\n",
              "      <th></th>\n",
              "      <th></th>\n",
              "      <th></th>\n",
              "      <th></th>\n",
              "      <th></th>\n",
              "    </tr>\n",
              "  </thead>\n",
              "  <tbody>\n",
              "    <tr>\n",
              "      <th>2021-01-31</th>\n",
              "      <td>10.900002</td>\n",
              "      <td>10.300003</td>\n",
              "      <td>NaN</td>\n",
              "      <td>NaN</td>\n",
              "      <td>NaN</td>\n",
              "    </tr>\n",
              "    <tr>\n",
              "      <th>2021-02-28</th>\n",
              "      <td>9.110001</td>\n",
              "      <td>10.500000</td>\n",
              "      <td>-0.164220</td>\n",
              "      <td>NaN</td>\n",
              "      <td>NaN</td>\n",
              "    </tr>\n",
              "    <tr>\n",
              "      <th>2021-03-31</th>\n",
              "      <td>10.389999</td>\n",
              "      <td>11.070000</td>\n",
              "      <td>0.140505</td>\n",
              "      <td>NaN</td>\n",
              "      <td>NaN</td>\n",
              "    </tr>\n",
              "    <tr>\n",
              "      <th>2021-04-30</th>\n",
              "      <td>9.070000</td>\n",
              "      <td>9.860001</td>\n",
              "      <td>-0.127045</td>\n",
              "      <td>NaN</td>\n",
              "      <td>NaN</td>\n",
              "    </tr>\n",
              "    <tr>\n",
              "      <th>2021-05-31</th>\n",
              "      <td>6.970001</td>\n",
              "      <td>8.809998</td>\n",
              "      <td>-0.231532</td>\n",
              "      <td>NaN</td>\n",
              "      <td>NaN</td>\n",
              "    </tr>\n",
              "    <tr>\n",
              "      <th>2021-06-30</th>\n",
              "      <td>12.889999</td>\n",
              "      <td>10.800003</td>\n",
              "      <td>0.849354</td>\n",
              "      <td>NaN</td>\n",
              "      <td>NaN</td>\n",
              "    </tr>\n",
              "    <tr>\n",
              "      <th>2021-07-31</th>\n",
              "      <td>19.739998</td>\n",
              "      <td>16.610001</td>\n",
              "      <td>0.531420</td>\n",
              "      <td>NaN</td>\n",
              "      <td>NaN</td>\n",
              "    </tr>\n",
              "    <tr>\n",
              "      <th>2021-08-31</th>\n",
              "      <td>16.509995</td>\n",
              "      <td>13.309998</td>\n",
              "      <td>-0.163627</td>\n",
              "      <td>NaN</td>\n",
              "      <td>NaN</td>\n",
              "    </tr>\n",
              "    <tr>\n",
              "      <th>2020-01-31</th>\n",
              "      <td>48.580002</td>\n",
              "      <td>48.400002</td>\n",
              "      <td>NaN</td>\n",
              "      <td>46.790001</td>\n",
              "      <td>47.000000</td>\n",
              "    </tr>\n",
              "    <tr>\n",
              "      <th>2020-02-29</th>\n",
              "      <td>46.150002</td>\n",
              "      <td>41.360001</td>\n",
              "      <td>NaN</td>\n",
              "      <td>41.040001</td>\n",
              "      <td>45.480000</td>\n",
              "    </tr>\n",
              "    <tr>\n",
              "      <th>2020-03-31</th>\n",
              "      <td>48.529999</td>\n",
              "      <td>47.930000</td>\n",
              "      <td>NaN</td>\n",
              "      <td>45.160000</td>\n",
              "      <td>45.480000</td>\n",
              "    </tr>\n",
              "    <tr>\n",
              "      <th>2020-04-30</th>\n",
              "      <td>54.290001</td>\n",
              "      <td>53.430000</td>\n",
              "      <td>NaN</td>\n",
              "      <td>52.029999</td>\n",
              "      <td>52.389999</td>\n",
              "    </tr>\n",
              "    <tr>\n",
              "      <th>2020-05-31</th>\n",
              "      <td>53.799999</td>\n",
              "      <td>52.070000</td>\n",
              "      <td>NaN</td>\n",
              "      <td>51.849998</td>\n",
              "      <td>53.799999</td>\n",
              "    </tr>\n",
              "    <tr>\n",
              "      <th>2020-06-30</th>\n",
              "      <td>52.770000</td>\n",
              "      <td>51.160000</td>\n",
              "      <td>NaN</td>\n",
              "      <td>50.820000</td>\n",
              "      <td>52.610001</td>\n",
              "    </tr>\n",
              "    <tr>\n",
              "      <th>2020-07-31</th>\n",
              "      <td>78.959999</td>\n",
              "      <td>78.669998</td>\n",
              "      <td>NaN</td>\n",
              "      <td>75.360001</td>\n",
              "      <td>77.430000</td>\n",
              "    </tr>\n",
              "    <tr>\n",
              "      <th>2020-08-31</th>\n",
              "      <td>92.639999</td>\n",
              "      <td>85.050003</td>\n",
              "      <td>NaN</td>\n",
              "      <td>85.050003</td>\n",
              "      <td>90.820000</td>\n",
              "    </tr>\n",
              "    <tr>\n",
              "      <th>2020-09-30</th>\n",
              "      <td>82.940002</td>\n",
              "      <td>81.750000</td>\n",
              "      <td>NaN</td>\n",
              "      <td>80.660004</td>\n",
              "      <td>81.989998</td>\n",
              "    </tr>\n",
              "    <tr>\n",
              "      <th>2020-10-31</th>\n",
              "      <td>77.699997</td>\n",
              "      <td>77.089996</td>\n",
              "      <td>NaN</td>\n",
              "      <td>74.230003</td>\n",
              "      <td>75.290001</td>\n",
              "    </tr>\n",
              "    <tr>\n",
              "      <th>2020-11-30</th>\n",
              "      <td>92.739998</td>\n",
              "      <td>87.330002</td>\n",
              "      <td>NaN</td>\n",
              "      <td>86.529999</td>\n",
              "      <td>92.660004</td>\n",
              "    </tr>\n",
              "    <tr>\n",
              "      <th>2020-12-31</th>\n",
              "      <td>92.300003</td>\n",
              "      <td>92.099998</td>\n",
              "      <td>NaN</td>\n",
              "      <td>90.870003</td>\n",
              "      <td>91.709999</td>\n",
              "    </tr>\n",
              "  </tbody>\n",
              "</table>\n",
              "</div>"
            ],
            "text/plain": [
              "                 High       Open  rate_return        Low      Close\n",
              "Date                                                               \n",
              "2021-01-31  10.900002  10.300003          NaN        NaN        NaN\n",
              "2021-02-28   9.110001  10.500000    -0.164220        NaN        NaN\n",
              "2021-03-31  10.389999  11.070000     0.140505        NaN        NaN\n",
              "2021-04-30   9.070000   9.860001    -0.127045        NaN        NaN\n",
              "2021-05-31   6.970001   8.809998    -0.231532        NaN        NaN\n",
              "2021-06-30  12.889999  10.800003     0.849354        NaN        NaN\n",
              "2021-07-31  19.739998  16.610001     0.531420        NaN        NaN\n",
              "2021-08-31  16.509995  13.309998    -0.163627        NaN        NaN\n",
              "2020-01-31  48.580002  48.400002          NaN  46.790001  47.000000\n",
              "2020-02-29  46.150002  41.360001          NaN  41.040001  45.480000\n",
              "2020-03-31  48.529999  47.930000          NaN  45.160000  45.480000\n",
              "2020-04-30  54.290001  53.430000          NaN  52.029999  52.389999\n",
              "2020-05-31  53.799999  52.070000          NaN  51.849998  53.799999\n",
              "2020-06-30  52.770000  51.160000          NaN  50.820000  52.610001\n",
              "2020-07-31  78.959999  78.669998          NaN  75.360001  77.430000\n",
              "2020-08-31  92.639999  85.050003          NaN  85.050003  90.820000\n",
              "2020-09-30  82.940002  81.750000          NaN  80.660004  81.989998\n",
              "2020-10-31  77.699997  77.089996          NaN  74.230003  75.290001\n",
              "2020-11-30  92.739998  87.330002          NaN  86.529999  92.660004\n",
              "2020-12-31  92.300003  92.099998          NaN  90.870003  91.709999"
            ]
          },
          "metadata": {},
          "execution_count": 189
        }
      ]
    },
    {
      "cell_type": "markdown",
      "metadata": {
        "id": "-YXL7V9ASst9"
      },
      "source": [
        "Please note that if the two DataFrame have some columns with the same column names, these columns are considered to be the same and will be merged. It's very important to have the right column names. If we change a column names here:"
      ]
    },
    {
      "cell_type": "code",
      "metadata": {
        "id": "aT1eoa8mHW-D",
        "colab": {
          "base_uri": "https://localhost:8080/"
        },
        "outputId": "9328d559-2d9a-4334-b3b4-b89f2861f4aa"
      },
      "source": [
        "df_2017.columns = ['Change', 'High','Low','Close']\n",
        "concat = pd.concat([aapl_bar, df_2017], axis = 0)\n",
        "print(concat)"
      ],
      "execution_count": 190,
      "outputs": [
        {
          "output_type": "stream",
          "name": "stdout",
          "text": [
            "                 Open       High        Low      Close  rate_return     Change\n",
            "Date                                                                          \n",
            "2016-01-31  21.852384  22.440247  21.750948  22.440247          NaN        NaN\n",
            "2016-02-29  22.450757  22.768304  22.402082  22.411354    -0.001288        NaN\n",
            "2016-03-31  25.431520  25.473242  25.236819  25.262316     0.127211        NaN\n",
            "2016-04-30  21.785533  21.954737  21.442491  21.727587    -0.139921        NaN\n",
            "2016-05-31  23.226409  23.412967  23.044516  23.287041     0.071773        NaN\n",
            "2016-06-30  22.023112  22.333262  21.990464  22.293619    -0.042660        NaN\n",
            "2016-07-31  24.296776  24.380727  24.177845  24.301439     0.090063        NaN\n",
            "2016-08-31  24.773058  24.986415  24.768367  24.876219     0.023652        NaN\n",
            "2016-09-30  26.367390  26.580749  26.212647  26.505722     0.065504        NaN\n",
            "2016-10-31  26.646394  26.782382  26.540886  26.620604     0.004334        NaN\n",
            "2016-11-30  26.300090  26.441488  25.986656  26.045572    -0.021601        NaN\n",
            "2016-12-31  27.490193  27.619807  27.202683  27.294592     0.047955        NaN\n",
            "2016-10-31        NaN  26.782382  26.540886  26.620604          NaN  26.646394\n",
            "2016-11-30        NaN  26.441488  25.986656  26.045572          NaN  26.300090\n",
            "2016-12-31        NaN  27.619807  27.202683  27.294592          NaN  27.490193\n",
            "2017-01-31        NaN  28.607239  28.425779  28.597813          NaN  28.550681\n",
            "2017-02-28        NaN  32.530069  32.354920  32.423561          NaN  32.444862\n",
            "2017-03-31        NaN  34.146641  33.848414  34.002262          NaN  34.016463\n",
            "2017-04-30        NaN  34.153733  33.909947  33.999886          NaN  34.104028\n"
          ]
        }
      ]
    },
    {
      "cell_type": "code",
      "metadata": {
        "id": "WecLhom2VSs-",
        "colab": {
          "base_uri": "https://localhost:8080/",
          "height": 700
        },
        "outputId": "e72a7b08-e632-4008-9b04-3eac8fa6c939"
      },
      "source": [
        "\n",
        "amd_df_2020.columns = ['Change', 'High','Low','Close']\n",
        "concat = pd.concat([amd_bar, amd_df_2020], axis = 0)\n",
        "concat"
      ],
      "execution_count": 191,
      "outputs": [
        {
          "output_type": "execute_result",
          "data": {
            "text/html": [
              "<div>\n",
              "<style scoped>\n",
              "    .dataframe tbody tr th:only-of-type {\n",
              "        vertical-align: middle;\n",
              "    }\n",
              "\n",
              "    .dataframe tbody tr th {\n",
              "        vertical-align: top;\n",
              "    }\n",
              "\n",
              "    .dataframe thead th {\n",
              "        text-align: right;\n",
              "    }\n",
              "</style>\n",
              "<table border=\"1\" class=\"dataframe\">\n",
              "  <thead>\n",
              "    <tr style=\"text-align: right;\">\n",
              "      <th></th>\n",
              "      <th>High</th>\n",
              "      <th>Open</th>\n",
              "      <th>rate_return</th>\n",
              "      <th>Change</th>\n",
              "      <th>Low</th>\n",
              "      <th>Close</th>\n",
              "    </tr>\n",
              "    <tr>\n",
              "      <th>Date</th>\n",
              "      <th></th>\n",
              "      <th></th>\n",
              "      <th></th>\n",
              "      <th></th>\n",
              "      <th></th>\n",
              "      <th></th>\n",
              "    </tr>\n",
              "  </thead>\n",
              "  <tbody>\n",
              "    <tr>\n",
              "      <th>2021-01-31</th>\n",
              "      <td>10.900002</td>\n",
              "      <td>10.300003</td>\n",
              "      <td>NaN</td>\n",
              "      <td>NaN</td>\n",
              "      <td>NaN</td>\n",
              "      <td>NaN</td>\n",
              "    </tr>\n",
              "    <tr>\n",
              "      <th>2021-02-28</th>\n",
              "      <td>9.110001</td>\n",
              "      <td>10.500000</td>\n",
              "      <td>-0.164220</td>\n",
              "      <td>NaN</td>\n",
              "      <td>NaN</td>\n",
              "      <td>NaN</td>\n",
              "    </tr>\n",
              "    <tr>\n",
              "      <th>2021-03-31</th>\n",
              "      <td>10.389999</td>\n",
              "      <td>11.070000</td>\n",
              "      <td>0.140505</td>\n",
              "      <td>NaN</td>\n",
              "      <td>NaN</td>\n",
              "      <td>NaN</td>\n",
              "    </tr>\n",
              "    <tr>\n",
              "      <th>2021-04-30</th>\n",
              "      <td>9.070000</td>\n",
              "      <td>9.860001</td>\n",
              "      <td>-0.127045</td>\n",
              "      <td>NaN</td>\n",
              "      <td>NaN</td>\n",
              "      <td>NaN</td>\n",
              "    </tr>\n",
              "    <tr>\n",
              "      <th>2021-05-31</th>\n",
              "      <td>6.970001</td>\n",
              "      <td>8.809998</td>\n",
              "      <td>-0.231532</td>\n",
              "      <td>NaN</td>\n",
              "      <td>NaN</td>\n",
              "      <td>NaN</td>\n",
              "    </tr>\n",
              "    <tr>\n",
              "      <th>2021-06-30</th>\n",
              "      <td>12.889999</td>\n",
              "      <td>10.800003</td>\n",
              "      <td>0.849354</td>\n",
              "      <td>NaN</td>\n",
              "      <td>NaN</td>\n",
              "      <td>NaN</td>\n",
              "    </tr>\n",
              "    <tr>\n",
              "      <th>2021-07-31</th>\n",
              "      <td>19.739998</td>\n",
              "      <td>16.610001</td>\n",
              "      <td>0.531420</td>\n",
              "      <td>NaN</td>\n",
              "      <td>NaN</td>\n",
              "      <td>NaN</td>\n",
              "    </tr>\n",
              "    <tr>\n",
              "      <th>2021-08-31</th>\n",
              "      <td>16.509995</td>\n",
              "      <td>13.309998</td>\n",
              "      <td>-0.163627</td>\n",
              "      <td>NaN</td>\n",
              "      <td>NaN</td>\n",
              "      <td>NaN</td>\n",
              "    </tr>\n",
              "    <tr>\n",
              "      <th>2020-01-31</th>\n",
              "      <td>48.580002</td>\n",
              "      <td>NaN</td>\n",
              "      <td>NaN</td>\n",
              "      <td>48.400002</td>\n",
              "      <td>46.790001</td>\n",
              "      <td>47.000000</td>\n",
              "    </tr>\n",
              "    <tr>\n",
              "      <th>2020-02-29</th>\n",
              "      <td>46.150002</td>\n",
              "      <td>NaN</td>\n",
              "      <td>NaN</td>\n",
              "      <td>41.360001</td>\n",
              "      <td>41.040001</td>\n",
              "      <td>45.480000</td>\n",
              "    </tr>\n",
              "    <tr>\n",
              "      <th>2020-03-31</th>\n",
              "      <td>48.529999</td>\n",
              "      <td>NaN</td>\n",
              "      <td>NaN</td>\n",
              "      <td>47.930000</td>\n",
              "      <td>45.160000</td>\n",
              "      <td>45.480000</td>\n",
              "    </tr>\n",
              "    <tr>\n",
              "      <th>2020-04-30</th>\n",
              "      <td>54.290001</td>\n",
              "      <td>NaN</td>\n",
              "      <td>NaN</td>\n",
              "      <td>53.430000</td>\n",
              "      <td>52.029999</td>\n",
              "      <td>52.389999</td>\n",
              "    </tr>\n",
              "    <tr>\n",
              "      <th>2020-05-31</th>\n",
              "      <td>53.799999</td>\n",
              "      <td>NaN</td>\n",
              "      <td>NaN</td>\n",
              "      <td>52.070000</td>\n",
              "      <td>51.849998</td>\n",
              "      <td>53.799999</td>\n",
              "    </tr>\n",
              "    <tr>\n",
              "      <th>2020-06-30</th>\n",
              "      <td>52.770000</td>\n",
              "      <td>NaN</td>\n",
              "      <td>NaN</td>\n",
              "      <td>51.160000</td>\n",
              "      <td>50.820000</td>\n",
              "      <td>52.610001</td>\n",
              "    </tr>\n",
              "    <tr>\n",
              "      <th>2020-07-31</th>\n",
              "      <td>78.959999</td>\n",
              "      <td>NaN</td>\n",
              "      <td>NaN</td>\n",
              "      <td>78.669998</td>\n",
              "      <td>75.360001</td>\n",
              "      <td>77.430000</td>\n",
              "    </tr>\n",
              "    <tr>\n",
              "      <th>2020-08-31</th>\n",
              "      <td>92.639999</td>\n",
              "      <td>NaN</td>\n",
              "      <td>NaN</td>\n",
              "      <td>85.050003</td>\n",
              "      <td>85.050003</td>\n",
              "      <td>90.820000</td>\n",
              "    </tr>\n",
              "    <tr>\n",
              "      <th>2020-09-30</th>\n",
              "      <td>82.940002</td>\n",
              "      <td>NaN</td>\n",
              "      <td>NaN</td>\n",
              "      <td>81.750000</td>\n",
              "      <td>80.660004</td>\n",
              "      <td>81.989998</td>\n",
              "    </tr>\n",
              "    <tr>\n",
              "      <th>2020-10-31</th>\n",
              "      <td>77.699997</td>\n",
              "      <td>NaN</td>\n",
              "      <td>NaN</td>\n",
              "      <td>77.089996</td>\n",
              "      <td>74.230003</td>\n",
              "      <td>75.290001</td>\n",
              "    </tr>\n",
              "    <tr>\n",
              "      <th>2020-11-30</th>\n",
              "      <td>92.739998</td>\n",
              "      <td>NaN</td>\n",
              "      <td>NaN</td>\n",
              "      <td>87.330002</td>\n",
              "      <td>86.529999</td>\n",
              "      <td>92.660004</td>\n",
              "    </tr>\n",
              "    <tr>\n",
              "      <th>2020-12-31</th>\n",
              "      <td>92.300003</td>\n",
              "      <td>NaN</td>\n",
              "      <td>NaN</td>\n",
              "      <td>92.099998</td>\n",
              "      <td>90.870003</td>\n",
              "      <td>91.709999</td>\n",
              "    </tr>\n",
              "  </tbody>\n",
              "</table>\n",
              "</div>"
            ],
            "text/plain": [
              "                 High       Open  rate_return     Change        Low      Close\n",
              "Date                                                                          \n",
              "2021-01-31  10.900002  10.300003          NaN        NaN        NaN        NaN\n",
              "2021-02-28   9.110001  10.500000    -0.164220        NaN        NaN        NaN\n",
              "2021-03-31  10.389999  11.070000     0.140505        NaN        NaN        NaN\n",
              "2021-04-30   9.070000   9.860001    -0.127045        NaN        NaN        NaN\n",
              "2021-05-31   6.970001   8.809998    -0.231532        NaN        NaN        NaN\n",
              "2021-06-30  12.889999  10.800003     0.849354        NaN        NaN        NaN\n",
              "2021-07-31  19.739998  16.610001     0.531420        NaN        NaN        NaN\n",
              "2021-08-31  16.509995  13.309998    -0.163627        NaN        NaN        NaN\n",
              "2020-01-31  48.580002        NaN          NaN  48.400002  46.790001  47.000000\n",
              "2020-02-29  46.150002        NaN          NaN  41.360001  41.040001  45.480000\n",
              "2020-03-31  48.529999        NaN          NaN  47.930000  45.160000  45.480000\n",
              "2020-04-30  54.290001        NaN          NaN  53.430000  52.029999  52.389999\n",
              "2020-05-31  53.799999        NaN          NaN  52.070000  51.849998  53.799999\n",
              "2020-06-30  52.770000        NaN          NaN  51.160000  50.820000  52.610001\n",
              "2020-07-31  78.959999        NaN          NaN  78.669998  75.360001  77.430000\n",
              "2020-08-31  92.639999        NaN          NaN  85.050003  85.050003  90.820000\n",
              "2020-09-30  82.940002        NaN          NaN  81.750000  80.660004  81.989998\n",
              "2020-10-31  77.699997        NaN          NaN  77.089996  74.230003  75.290001\n",
              "2020-11-30  92.739998        NaN          NaN  87.330002  86.529999  92.660004\n",
              "2020-12-31  92.300003        NaN          NaN  92.099998  90.870003  91.709999"
            ]
          },
          "metadata": {},
          "execution_count": 191
        }
      ]
    },
    {
      "cell_type": "markdown",
      "metadata": {
        "id": "shbpOFyyS6uV"
      },
      "source": [
        "Since the column name of 'Open' has been changed, the new DataFrame has an new column named 'Change'.\n",
        "\n",
        "# Summary\n",
        "\n",
        "Hereby we introduced the most import part of python: resampling and DataFrame manipulation. We only introduced the most commonly used method in Financial data analysis. There are also many methods used in data mining, which are also beneficial. You can always check the [Pandas](https://pandas.pydata.org/pandas-docs/stable/index.html) official documentations for help."
      ]
    }
  ]
}