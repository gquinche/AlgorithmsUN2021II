{
  "nbformat": 4,
  "nbformat_minor": 0,
  "metadata": {
    "colab": {
      "name": "tutorial1.ipynb",
      "provenance": []
    },
    "kernelspec": {
      "name": "python3",
      "display_name": "Python 3"
    },
    "language_info": {
      "name": "python"
    }
  },
  "cells": [
    {
      "cell_type": "code",
      "metadata": {
        "colab": {
          "base_uri": "https://localhost:8080/"
        },
        "id": "-qS4hyjhPW3I",
        "outputId": "ebfa1389-070f-471b-864a-df7fad3f284a"
      },
      "source": [
        "my_string1 = 'Bienvenido a'\n",
        "my_string2 = \"QuantConnect\"\n",
        "print(my_string1 + ' ' + my_string2) "
      ],
      "execution_count": 3,
      "outputs": [
        {
          "output_type": "stream",
          "name": "stdout",
          "text": [
            "Bienvenido a QuantConnect\n"
          ]
        }
      ]
    },
    {
      "cell_type": "code",
      "metadata": {
        "colab": {
          "base_uri": "https://localhost:8080/"
        },
        "id": "uRwElzul6BcN",
        "outputId": "b5588913-698a-465d-ec6b-78d27def002f"
      },
      "source": [
        "my_int = 10\n",
        "print(my_int)"
      ],
      "execution_count": 4,
      "outputs": [
        {
          "output_type": "stream",
          "name": "stdout",
          "text": [
            "10\n"
          ]
        }
      ]
    },
    {
      "cell_type": "code",
      "metadata": {
        "colab": {
          "base_uri": "https://localhost:8080/"
        },
        "id": "ZmTzYW5P6CJ0",
        "outputId": "08b5af21-71fc-41a2-8f12-859946290dbd"
      },
      "source": [
        "print(type(my_int))"
      ],
      "execution_count": 5,
      "outputs": [
        {
          "output_type": "stream",
          "name": "stdout",
          "text": [
            "<class 'int'>\n"
          ]
        }
      ]
    },
    {
      "cell_type": "code",
      "metadata": {
        "colab": {
          "base_uri": "https://localhost:8080/"
        },
        "id": "snNzObtA6E5k",
        "outputId": "4b50635a-a4b3-4b75-b276-3b64446a3288"
      },
      "source": [
        "my_string = \"100\"\n",
        "print(type(my_string))"
      ],
      "execution_count": 6,
      "outputs": [
        {
          "output_type": "stream",
          "name": "stdout",
          "text": [
            "<class 'str'>\n"
          ]
        }
      ]
    },
    {
      "cell_type": "code",
      "metadata": {
        "colab": {
          "base_uri": "https://localhost:8080/"
        },
        "id": "LTus59FE6Iic",
        "outputId": "31de13b0-80ef-4c3a-afbb-8d0cea0d6d60"
      },
      "source": [
        "my_int = int(my_string)\n",
        "print(type(my_int))"
      ],
      "execution_count": 7,
      "outputs": [
        {
          "output_type": "stream",
          "name": "stdout",
          "text": [
            "<class 'int'>\n"
          ]
        }
      ]
    },
    {
      "cell_type": "code",
      "metadata": {
        "colab": {
          "base_uri": "https://localhost:8080/"
        },
        "id": "0BcBaF9V6KcC",
        "outputId": "09988922-1dfc-4bee-9cb1-6bc3d70e832a"
      },
      "source": [
        "my_float = 1.\n",
        "print(type(my_float))"
      ],
      "execution_count": 8,
      "outputs": [
        {
          "output_type": "stream",
          "name": "stdout",
          "text": [
            "<class 'float'>\n"
          ]
        }
      ]
    },
    {
      "cell_type": "code",
      "metadata": {
        "colab": {
          "base_uri": "https://localhost:8080/"
        },
        "id": "ID8I9GKl6Qhh",
        "outputId": "8fe82c47-94ba-4162-c06a-3ea47f15d285"
      },
      "source": [
        "my_int = 1\n",
        "print(type(my_int))"
      ],
      "execution_count": 9,
      "outputs": [
        {
          "output_type": "stream",
          "name": "stdout",
          "text": [
            "<class 'int'>\n"
          ]
        }
      ]
    },
    {
      "cell_type": "code",
      "metadata": {
        "colab": {
          "base_uri": "https://localhost:8080/"
        },
        "id": "h3vwnomR6TB_",
        "outputId": "6419adfc-4d63-46ff-ef20-e0b39687063e"
      },
      "source": [
        "my_string = \"100\"\n",
        "my_float = float(my_string)\n",
        "print(type(my_float))"
      ],
      "execution_count": 10,
      "outputs": [
        {
          "output_type": "stream",
          "name": "stdout",
          "text": [
            "<class 'float'>\n"
          ]
        }
      ]
    },
    {
      "cell_type": "code",
      "metadata": {
        "colab": {
          "base_uri": "https://localhost:8080/"
        },
        "id": "B0BbEUzq6Vsp",
        "outputId": "7371b5e2-6068-467c-ed5d-c7d43a114fa2"
      },
      "source": [
        "my_bool = False\n",
        "print(my_bool)\n",
        "print(type(my_bool))"
      ],
      "execution_count": 11,
      "outputs": [
        {
          "output_type": "stream",
          "name": "stdout",
          "text": [
            "False\n",
            "<class 'bool'>\n"
          ]
        }
      ]
    },
    {
      "cell_type": "code",
      "metadata": {
        "colab": {
          "base_uri": "https://localhost:8080/"
        },
        "id": "Sy2guiak6ZC6",
        "outputId": "fde20b1f-9642-4ec7-f86b-35765fa28da9"
      },
      "source": [
        "print(\"adición \", 1+1)\n",
        "print(\"resta \", 5-2)\n",
        "print(\"producto \", 2*3)\n",
        "print(\"división\", 10//2)\n",
        "print(\"exponenciación\", 2**3)"
      ],
      "execution_count": 12,
      "outputs": [
        {
          "output_type": "stream",
          "name": "stdout",
          "text": [
            "adición  2\n",
            "resta  3\n",
            "producto  6\n",
            "división 5\n",
            "exponenciación 8\n"
          ]
        }
      ]
    },
    {
      "cell_type": "code",
      "metadata": {
        "colab": {
          "base_uri": "https://localhost:8080/"
        },
        "id": "M85Tjaxd6bU_",
        "outputId": "486a55d3-700f-41f6-8dc2-7a9c17cc86d5"
      },
      "source": [
        "my_list = ['Quant', 'Connect', 1,2,3]\n",
        "print(my_list)"
      ],
      "execution_count": 13,
      "outputs": [
        {
          "output_type": "stream",
          "name": "stdout",
          "text": [
            "['Quant', 'Connect', 1, 2, 3]\n"
          ]
        }
      ]
    },
    {
      "cell_type": "code",
      "metadata": {
        "colab": {
          "base_uri": "https://localhost:8080/"
        },
        "id": "uwZs1bS46ekO",
        "outputId": "048d7a34-f8e8-452b-fa0e-4558e6ec4b64"
      },
      "source": [
        "my_list = ['Quant', 'Connect', 1,2,3]\n",
        "print(len(my_list))\n",
        "print(my_list[0])\n",
        "print(my_list[len(my_list) - 1])"
      ],
      "execution_count": 14,
      "outputs": [
        {
          "output_type": "stream",
          "name": "stdout",
          "text": [
            "5\n",
            "Quant\n",
            "3\n"
          ]
        }
      ]
    },
    {
      "cell_type": "code",
      "metadata": {
        "colab": {
          "base_uri": "https://localhost:8080/"
        },
        "id": "Y0uiM_XM6gKO",
        "outputId": "f33c2042-b3a8-4f86-9a5d-c91e8d461d0d"
      },
      "source": [
        "my_list = ['Quant','Connect',1,2,3]\n",
        "my_list[2] = 'vamos'\n",
        "print(my_list)"
      ],
      "execution_count": 15,
      "outputs": [
        {
          "output_type": "stream",
          "name": "stdout",
          "text": [
            "['Quant', 'Connect', 'vamos', 2, 3]\n"
          ]
        }
      ]
    },
    {
      "cell_type": "code",
      "metadata": {
        "colab": {
          "base_uri": "https://localhost:8080/"
        },
        "id": "D6GQvu086oGB",
        "outputId": "4731ec95-1f6d-4f76-fffe-d3cc46feb9bd"
      },
      "source": [
        "my_list = ['Quant','Connect',1,2,3]\n",
        "print(my_list[1:3])"
      ],
      "execution_count": 16,
      "outputs": [
        {
          "output_type": "stream",
          "name": "stdout",
          "text": [
            "['Connect', 1]\n"
          ]
        }
      ]
    },
    {
      "cell_type": "code",
      "metadata": {
        "colab": {
          "base_uri": "https://localhost:8080/"
        },
        "id": "BBo1TVt96pkX",
        "outputId": "93a958b4-3b2d-4476-ef6b-c1716521457d"
      },
      "source": [
        "print(my_list[1:])"
      ],
      "execution_count": 17,
      "outputs": [
        {
          "output_type": "stream",
          "name": "stdout",
          "text": [
            "['Connect', 1, 2, 3]\n"
          ]
        }
      ]
    },
    {
      "cell_type": "code",
      "metadata": {
        "colab": {
          "base_uri": "https://localhost:8080/"
        },
        "id": "db9MNEjZ6sC_",
        "outputId": "36235355-c4c2-44b6-dcbb-cc233dd13f32"
      },
      "source": [
        "print(my_list[:3])"
      ],
      "execution_count": 18,
      "outputs": [
        {
          "output_type": "stream",
          "name": "stdout",
          "text": [
            "['Quant', 'Connect', 1]\n"
          ]
        }
      ]
    },
    {
      "cell_type": "code",
      "metadata": {
        "colab": {
          "base_uri": "https://localhost:8080/"
        },
        "id": "yAP2kexG6wCQ",
        "outputId": "cea593be-7002-4f16-c578-a974e3d4d0de"
      },
      "source": [
        "print(my_list[:3])"
      ],
      "execution_count": 19,
      "outputs": [
        {
          "output_type": "stream",
          "name": "stdout",
          "text": [
            "['Quant', 'Connect', 1]\n"
          ]
        }
      ]
    },
    {
      "cell_type": "code",
      "metadata": {
        "colab": {
          "base_uri": "https://localhost:8080/"
        },
        "id": "3qxkSyjY6yFl",
        "outputId": "1fe96ffb-118f-429a-de41-44785c2c829b"
      },
      "source": [
        "my_list = ['Hola', 'Quant']\n",
        "my_list.append('Hola')\n",
        "print(my_list)\n",
        "my_list.remove('Hola')\n",
        "print(my_list)"
      ],
      "execution_count": 20,
      "outputs": [
        {
          "output_type": "stream",
          "name": "stdout",
          "text": [
            "['Hola', 'Quant', 'Hola']\n",
            "['Quant', 'Hola']\n"
          ]
        }
      ]
    },
    {
      "cell_type": "code",
      "metadata": {
        "id": "3ZNxwi9M613i"
      },
      "source": [
        "my_tuple = ('Bienvenida','a','QuantConnect')"
      ],
      "execution_count": 21,
      "outputs": []
    },
    {
      "cell_type": "code",
      "metadata": {
        "colab": {
          "base_uri": "https://localhost:8080/"
        },
        "id": "IxmzFt4B6_1W",
        "outputId": "57ee5f86-2b62-4aea-f82d-c7040a2c34c7"
      },
      "source": [
        "print(my_tuple[1:])"
      ],
      "execution_count": 22,
      "outputs": [
        {
          "output_type": "stream",
          "name": "stdout",
          "text": [
            "('a', 'QuantConnect')\n"
          ]
        }
      ]
    },
    {
      "cell_type": "code",
      "metadata": {
        "colab": {
          "base_uri": "https://localhost:8080/"
        },
        "id": "vbzA1Lam7C24",
        "outputId": "320e3d65-9ac3-4210-bb45-4b853e4a5214"
      },
      "source": [
        "crypto_list = [\"ETH\",\"BTC\",\"DAI\",'BTC','ETH']\n",
        "crypto_set = set(crypto_list)\n",
        "print(crypto_set)"
      ],
      "execution_count": 25,
      "outputs": [
        {
          "output_type": "stream",
          "name": "stdout",
          "text": [
            "{'DAI', 'BTC', 'ETH'}\n"
          ]
        }
      ]
    },
    {
      "cell_type": "code",
      "metadata": {
        "id": "Eht1RRUW7TZ-"
      },
      "source": [
        "my_dic = {\"ETH\":\"ethereum\",\"BTC\":\"bitcoin\",\"DAI\":\"unknown\"}"
      ],
      "execution_count": 26,
      "outputs": []
    },
    {
      "cell_type": "code",
      "metadata": {
        "colab": {
          "base_uri": "https://localhost:8080/"
        },
        "id": "jSNUUffk7Wsv",
        "outputId": "26c50fb7-adec-46b7-9cd6-163825911771"
      },
      "source": [
        "print(my_dic['DAI'])"
      ],
      "execution_count": 27,
      "outputs": [
        {
          "output_type": "stream",
          "name": "stdout",
          "text": [
            "unknown\n"
          ]
        }
      ]
    },
    {
      "cell_type": "code",
      "metadata": {
        "colab": {
          "base_uri": "https://localhost:8080/"
        },
        "id": "XhWJ0ODt7ZNm",
        "outputId": "a6ea3187-8eac-4768-ac3f-684790afffc2"
      },
      "source": [
        "my_dic['DAI'] = 'MakerDAO´s dai'\n",
        "print(my_dic['DAI'])"
      ],
      "execution_count": 28,
      "outputs": [
        {
          "output_type": "stream",
          "name": "stdout",
          "text": [
            "MakerDAO´s dai\n"
          ]
        }
      ]
    },
    {
      "cell_type": "code",
      "metadata": {
        "colab": {
          "base_uri": "https://localhost:8080/"
        },
        "id": "P1X8uDZ87awi",
        "outputId": "0d5f5f4b-9715-4b94-e3cb-315a8a11ae7b"
      },
      "source": [
        "print(my_dic.keys())"
      ],
      "execution_count": 29,
      "outputs": [
        {
          "output_type": "stream",
          "name": "stdout",
          "text": [
            "dict_keys(['ETH', 'BTC', 'DAI'])\n"
          ]
        }
      ]
    },
    {
      "cell_type": "code",
      "metadata": {
        "colab": {
          "base_uri": "https://localhost:8080/"
        },
        "id": "7sMLJgcc7c7P",
        "outputId": "cf032f23-87fd-4763-f83b-aab0a55adf3f"
      },
      "source": [
        "my_str = 'bienvenido a QuantConnect'\n",
        "print(my_str[10:])"
      ],
      "execution_count": 30,
      "outputs": [
        {
          "output_type": "stream",
          "name": "stdout",
          "text": [
            " a QuantConnect\n"
          ]
        }
      ]
    },
    {
      "cell_type": "code",
      "metadata": {
        "colab": {
          "base_uri": "https://localhost:8080/"
        },
        "id": "krgFGR8b7npn",
        "outputId": "57e1441a-95df-49a3-906c-565db0bbf1d7"
      },
      "source": [
        "print(\"contando el número de e en esta frase\".count('e'))\n",
        "print('el primer lugar en que aparece e en esta frace'.find('e'))\n",
        "print('todas las a ahora son e'.replace('a','e'))"
      ],
      "execution_count": 31,
      "outputs": [
        {
          "output_type": "stream",
          "name": "stdout",
          "text": [
            "7\n",
            "0\n",
            "todes les e ehore son e\n"
          ]
        }
      ]
    },
    {
      "cell_type": "code",
      "metadata": {
        "colab": {
          "base_uri": "https://localhost:8080/"
        },
        "id": "tOm7vv-57vSD",
        "outputId": "d9be55d3-8fca-49ab-bcd7-d3e76119b5b1"
      },
      "source": [
        "Time = '2021-10-10 10:32:00'\n",
        "splited_list = Time.split(' ')\n",
        "date = splited_list[0]\n",
        "time = splited_list[1]\n",
        "print(date,\"con las:\", time)\n",
        "hour = time.split(':')[0]\n",
        "print(hour)"
      ],
      "execution_count": 33,
      "outputs": [
        {
          "output_type": "stream",
          "name": "stdout",
          "text": [
            "2021-10-10 con las: 10:32:00\n",
            "10\n"
          ]
        }
      ]
    },
    {
      "cell_type": "code",
      "metadata": {
        "colab": {
          "base_uri": "https://localhost:8080/"
        },
        "id": "2KEwvs297xiz",
        "outputId": "a0068f66-28bf-4538-99f9-718a6e964cd0"
      },
      "source": [
        "my_time = 'Hour: {}, Minute: {}'.format(10, 32)\n",
        "print(my_time)"
      ],
      "execution_count": 34,
      "outputs": [
        {
          "output_type": "stream",
          "name": "stdout",
          "text": [
            "Hour: 10, Minute: 32\n"
          ]
        }
      ]
    },
    {
      "cell_type": "code",
      "metadata": {
        "colab": {
          "base_uri": "https://localhost:8080/"
        },
        "id": "sSgo82JJ79FM",
        "outputId": "ba9e0f93-3fa5-4174-97d9-7faf6735b0b4"
      },
      "source": [
        "print ('pi es %f' % 3.1416000000000000001)\n",
        "print('%s a %s' % ('bienvenido', 'quantconnect'))"
      ],
      "execution_count": 35,
      "outputs": [
        {
          "output_type": "stream",
          "name": "stdout",
          "text": [
            "pi es 3.141600\n",
            "bienvenido a quantconnect\n"
          ]
        }
      ]
    },
    {
      "cell_type": "code",
      "metadata": {
        "id": "g95gvMou8Cy7"
      },
      "source": [
        ""
      ],
      "execution_count": null,
      "outputs": []
    },
    {
      "cell_type": "code",
      "metadata": {
        "id": "_nb9iZ6O7IkT"
      },
      "source": [
        ""
      ],
      "execution_count": null,
      "outputs": []
    },
    {
      "cell_type": "code",
      "metadata": {
        "id": "5WdCXtHX7ErC"
      },
      "source": [
        ""
      ],
      "execution_count": null,
      "outputs": []
    }
  ]
}